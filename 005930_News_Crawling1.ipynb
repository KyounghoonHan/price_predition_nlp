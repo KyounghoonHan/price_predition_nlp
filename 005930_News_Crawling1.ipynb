{
 "cells": [
  {
   "cell_type": "code",
   "execution_count": 3,
   "id": "a75c3e83",
   "metadata": {
    "ExecuteTime": {
     "end_time": "2022-07-27T02:47:44.617940Z",
     "start_time": "2022-07-27T02:47:44.407147Z"
    }
   },
   "outputs": [],
   "source": [
    "# 라이브러리 import\n",
    "import os\n",
    "import pandas as pd\n",
    "import numpy as np\n",
    "import math\n",
    "\n",
    "# 셀레늄\n",
    "from selenium.webdriver.common.alert import Alert\n",
    "from selenium import webdriver  # 라이브러리(모듈) 가져오라\n",
    "# pip install chromedriver_autoinstaller\n",
    "from selenium.webdriver.common.keys import Keys\n",
    "from selenium.webdriver import ActionChains as AC\n",
    "\n",
    "from selenium.webdriver.chrome.service import Service as ChromeService\n",
    "from webdriver_manager.chrome import ChromeDriverManager\n",
    "from selenium.webdriver.common.by import By\n",
    "from selenium.webdriver.common.keys import Keys\n",
    "\n",
    "# tqdm : for문 진행상황 체크\n",
    "from tqdm import tqdm, tqdm_notebook\n",
    "from tqdm.notebook import tqdm\n",
    "\n",
    "# 정규표현식(regular expression) : 문자(알파벳,한글), 숫자, 특수기호 정제 및 추출\n",
    "import re\n",
    "from time import sleep\n",
    "import time\n",
    "\n",
    "# 워닝 무시\n",
    "import warnings\n",
    "warnings.filterwarnings('ignore')"
   ]
  },
  {
   "cell_type": "markdown",
   "id": "3780f714",
   "metadata": {},
   "source": [
    "# for문으로 크롤링 "
   ]
  },
  {
   "cell_type": "code",
   "execution_count": 4,
   "id": "c838b67f",
   "metadata": {
    "ExecuteTime": {
     "end_time": "2022-07-27T02:47:59.943176Z",
     "start_time": "2022-07-27T02:47:50.844911Z"
    }
   },
   "outputs": [
    {
     "name": "stdout",
     "output_type": "stream",
     "text": [
      "\n"
     ]
    },
    {
     "name": "stderr",
     "output_type": "stream",
     "text": [
      "[WDM] - ====== WebDriver manager ======\n",
      "[WDM] - Current google-chrome version is 103.0.5060\n",
      "[WDM] - Get LATEST chromedriver version for 103.0.5060 google-chrome\n",
      "[WDM] - Driver [/Users/krc/.wdm/drivers/chromedriver/mac64_m1/103.0.5060.134/chromedriver] found in cache\n"
     ]
    }
   ],
   "source": [
    "# 검색어 입력\n",
    "search = '삼성전자'\n",
    "\n",
    "# 크롬 옵션\n",
    "options = webdriver.ChromeOptions()\n",
    "\n",
    "# 크롬 윈도우 사이즈 조절\n",
    "options.add_argument(\"--window-size=1000,1200\") # window-size -> 기본 : 1920,1080\n",
    "\n",
    "# import chromedriver_autoinstaller\n",
    "\n",
    "# chrome_path = chromedriver_autoinstaller.install()\n",
    "# driver = webdriver.Chrome(chrome_path, options=options)\n",
    "service = ChromeService(executable_path=ChromeDriverManager().install())\n",
    "driver = webdriver.Chrome(service=service)\n",
    "\n",
    "time.sleep(0.01)\n",
    "driver.get(\"https://www.naver.com\") # -> 네이버 크롬 창이 뜬다.\n",
    "\n",
    "# 네이버 검색어 입력 후 검색\n",
    "element = driver.find_element(\"name\", \"query\") \n",
    "element.clear()  # 혹시 검색창에 존재하는 텍스트 제거\n",
    "\n",
    "element.send_keys(search)  # 검색창에 검색어 전달\n",
    "element.submit()  # 검색 클릭\n",
    "time.sleep(0.01)"
   ]
  },
  {
   "cell_type": "code",
   "execution_count": 5,
   "id": "746a5ad1",
   "metadata": {
    "ExecuteTime": {
     "end_time": "2022-07-27T02:48:33.336600Z",
     "start_time": "2022-07-27T02:48:31.987833Z"
    }
   },
   "outputs": [],
   "source": [
    "# 뉴스 클릭\n",
    "driver.find_element(\"link text\", \"뉴스\").click() \n",
    "time.sleep(0.01)"
   ]
  },
  {
   "cell_type": "code",
   "execution_count": 6,
   "id": "62e6071d",
   "metadata": {
    "ExecuteTime": {
     "end_time": "2022-07-27T02:48:34.196381Z",
     "start_time": "2022-07-27T02:48:33.338849Z"
    }
   },
   "outputs": [],
   "source": [
    "# '오래된 순' 클릭\n",
    "driver.find_element(\"link text\", \"오래된순\").click()  \n",
    "time.sleep(0.01)"
   ]
  },
  {
   "cell_type": "code",
   "execution_count": 48,
   "id": "248a9a92",
   "metadata": {
    "ExecuteTime": {
     "end_time": "2022-07-27T04:55:47.369442Z",
     "start_time": "2022-07-27T04:50:21.309244Z"
    },
    "scrolled": true
   },
   "outputs": [],
   "source": [
    "# 뉴스 데이터 수집\n",
    "# news_list = []\n",
    "# date_list = []\n",
    "# title_list = []\n",
    "\n",
    "for i in range(400):    \n",
    "\n",
    "    # 언론사\n",
    "    newses = driver.find_elements('css selector', 'a.info.press')\n",
    "    temp_list = []\n",
    "    for news in newses:\n",
    "        temp_list.append(news.text)\n",
    "        temp_list = [x for x in temp_list ]\n",
    "    news_list = news_list + temp_list \n",
    "    \n",
    "    # 날짜\n",
    "    dates = driver.find_elements('css selector', 'span.info')\n",
    "    temp_list = []\n",
    "    for date in dates:\n",
    "        temp_list.append(date.text)\n",
    "        temp_list = [x for x in temp_list ]\n",
    "    date_list = date_list + temp_list \n",
    "    \n",
    "    # 제목\n",
    "    titles = driver.find_elements('css selector', 'a.news_tit')\n",
    "    temp_list = []\n",
    "    for title in titles:\n",
    "        temp_list.append(title.text)\n",
    "        temp_list = [x for x in temp_list ]\n",
    "    title_list = title_list + temp_list \n",
    "    \n",
    "    # 다음페이지 클릭\n",
    "    driver.find_element('css selector', 'a.btn_next').click()\n",
    "    time.sleep(0.001)"
   ]
  },
  {
   "cell_type": "code",
   "execution_count": 49,
   "id": "951c8833",
   "metadata": {},
   "outputs": [
    {
     "name": "stdout",
     "output_type": "stream",
     "text": [
      "84000\n",
      "['한국경제', '파이낸셜뉴스']\n",
      "['2016.05.24.', '2016.05.24.']\n",
      "['[명품 펀드 명품 자산운용사] 미래에셋자산운용, 연 평균 수익률 7% 이상…고...', '영종도 운서역 초역세권에 생활형숙박시설 ‘영종도 삼성홈큐브’ 분양']\n"
     ]
    }
   ],
   "source": [
    "print(len(title_list))\n",
    "print(news_list[-2:])\n",
    "print(date_list[-2:])\n",
    "print(title_list[-2:])"
   ]
  },
  {
   "cell_type": "code",
   "execution_count": 55,
   "id": "b322692b",
   "metadata": {},
   "outputs": [
    {
     "name": "stdout",
     "output_type": "stream",
     "text": [
      "2016 5 24\n"
     ]
    }
   ],
   "source": [
    "splited_date = date_list[-1].split('.')\n",
    "year = int(splited_date[0])\n",
    "month = int(splited_date[1])\n",
    "day = int(splited_date[2])\n",
    "print(year, month, day)"
   ]
  },
  {
   "cell_type": "code",
   "execution_count": 50,
   "id": "41363e7a",
   "metadata": {
    "ExecuteTime": {
     "end_time": "2022-07-27T04:57:06.101508Z",
     "start_time": "2022-07-27T04:57:05.976650Z"
    }
   },
   "outputs": [
    {
     "data": {
      "text/html": [
       "<div>\n",
       "<style scoped>\n",
       "    .dataframe tbody tr th:only-of-type {\n",
       "        vertical-align: middle;\n",
       "    }\n",
       "\n",
       "    .dataframe tbody tr th {\n",
       "        vertical-align: top;\n",
       "    }\n",
       "\n",
       "    .dataframe thead th {\n",
       "        text-align: right;\n",
       "    }\n",
       "</style>\n",
       "<table border=\"1\" class=\"dataframe\">\n",
       "  <thead>\n",
       "    <tr style=\"text-align: right;\">\n",
       "      <th></th>\n",
       "      <th>언론사</th>\n",
       "      <th>날짜</th>\n",
       "      <th>제목</th>\n",
       "    </tr>\n",
       "  </thead>\n",
       "  <tbody>\n",
       "    <tr>\n",
       "      <th>0</th>\n",
       "      <td>아주경제</td>\n",
       "      <td>2016.01.01.</td>\n",
       "      <td>[그레이트 코리아] 한-중 FTA 발효 직후, 변화될 양국 교역 변화</td>\n",
       "    </tr>\n",
       "    <tr>\n",
       "      <th>1</th>\n",
       "      <td>아주경제</td>\n",
       "      <td>2016.01.01.</td>\n",
       "      <td>[위기를 기회로] 주력산업의 활로 이렇게 뚫어라</td>\n",
       "    </tr>\n",
       "    <tr>\n",
       "      <th>2</th>\n",
       "      <td>아주경제</td>\n",
       "      <td>2016.01.01.</td>\n",
       "      <td>[2016 산업기상도] ‘비 오기 전 우산 챙긴다’… 기업들 불황극복에 ‘안간힘...</td>\n",
       "    </tr>\n",
       "    <tr>\n",
       "      <th>3</th>\n",
       "      <td>아주경제</td>\n",
       "      <td>2016.01.01.</td>\n",
       "      <td>[위기를 기회로]블루오션은 어디…차세대 먹거리 찾아라</td>\n",
       "    </tr>\n",
       "    <tr>\n",
       "      <th>4</th>\n",
       "      <td>아주경제</td>\n",
       "      <td>2016.01.01.</td>\n",
       "      <td>[그레이트 코리아] 中 대륙 곳간, '한류·품질·온라인'으로 두드려라</td>\n",
       "    </tr>\n",
       "    <tr>\n",
       "      <th>...</th>\n",
       "      <td>...</td>\n",
       "      <td>...</td>\n",
       "      <td>...</td>\n",
       "    </tr>\n",
       "    <tr>\n",
       "      <th>83995</th>\n",
       "      <td>비즈니스포스트</td>\n",
       "      <td>2016.05.07.</td>\n",
       "      <td>삼성SDI, 중국에서 태양광 소재사업 확대에 역점</td>\n",
       "    </tr>\n",
       "    <tr>\n",
       "      <th>83996</th>\n",
       "      <td>뉴스토마토</td>\n",
       "      <td>2016.05.07.</td>\n",
       "      <td>24일 코스피 순매매 기관 상위종목(확정)</td>\n",
       "    </tr>\n",
       "    <tr>\n",
       "      <th>83997</th>\n",
       "      <td>뉴스토마토</td>\n",
       "      <td>2016.05.07.</td>\n",
       "      <td>24일 코스피 순매매 외국인 상위종목(확정)</td>\n",
       "    </tr>\n",
       "    <tr>\n",
       "      <th>83998</th>\n",
       "      <td>한국경제</td>\n",
       "      <td>2016.05.07.</td>\n",
       "      <td>[명품 펀드 명품 자산운용사] 미래에셋자산운용, 연 평균 수익률 7% 이상…고...</td>\n",
       "    </tr>\n",
       "    <tr>\n",
       "      <th>83999</th>\n",
       "      <td>파이낸셜뉴스</td>\n",
       "      <td>2016.05.07.</td>\n",
       "      <td>영종도 운서역 초역세권에 생활형숙박시설 ‘영종도 삼성홈큐브’ 분양</td>\n",
       "    </tr>\n",
       "  </tbody>\n",
       "</table>\n",
       "<p>84000 rows × 3 columns</p>\n",
       "</div>"
      ],
      "text/plain": [
       "           언론사           날짜                                               제목\n",
       "0         아주경제  2016.01.01.           [그레이트 코리아] 한-중 FTA 발효 직후, 변화될 양국 교역 변화\n",
       "1         아주경제  2016.01.01.                       [위기를 기회로] 주력산업의 활로 이렇게 뚫어라\n",
       "2         아주경제  2016.01.01.  [2016 산업기상도] ‘비 오기 전 우산 챙긴다’… 기업들 불황극복에 ‘안간힘...\n",
       "3         아주경제  2016.01.01.                    [위기를 기회로]블루오션은 어디…차세대 먹거리 찾아라\n",
       "4         아주경제  2016.01.01.           [그레이트 코리아] 中 대륙 곳간, '한류·품질·온라인'으로 두드려라\n",
       "...        ...          ...                                              ...\n",
       "83995  비즈니스포스트  2016.05.07.                      삼성SDI, 중국에서 태양광 소재사업 확대에 역점\n",
       "83996    뉴스토마토  2016.05.07.                          24일 코스피 순매매 기관 상위종목(확정)\n",
       "83997    뉴스토마토  2016.05.07.                         24일 코스피 순매매 외국인 상위종목(확정)\n",
       "83998     한국경제  2016.05.07.   [명품 펀드 명품 자산운용사] 미래에셋자산운용, 연 평균 수익률 7% 이상…고...\n",
       "83999   파이낸셜뉴스  2016.05.07.             영종도 운서역 초역세권에 생활형숙박시설 ‘영종도 삼성홈큐브’ 분양\n",
       "\n",
       "[84000 rows x 3 columns]"
      ]
     },
     "execution_count": 50,
     "metadata": {},
     "output_type": "execute_result"
    }
   ],
   "source": [
    "# df로 만들기\n",
    "df = pd.DataFrame(list(zip(news_list, date_list, title_list)), columns = ['언론사','날짜', '제목'])\n",
    "df"
   ]
  },
  {
   "cell_type": "code",
   "execution_count": 51,
   "id": "c3d2d91c",
   "metadata": {},
   "outputs": [],
   "source": [
    "# csv로 뽑기\n",
    "df.to_csv('2016-05-07.csv')"
   ]
  },
  {
   "cell_type": "code",
   "execution_count": 52,
   "id": "a743aaa2",
   "metadata": {},
   "outputs": [],
   "source": [
    "driver.close()"
   ]
  },
  {
   "cell_type": "code",
   "execution_count": null,
   "id": "416b4982",
   "metadata": {},
   "outputs": [],
   "source": []
  }
 ],
 "metadata": {
  "kernelspec": {
   "display_name": "Python 3.8.13 ('a29')",
   "language": "python",
   "name": "python3"
  },
  "language_info": {
   "codemirror_mode": {
    "name": "ipython",
    "version": 3
   },
   "file_extension": ".py",
   "mimetype": "text/x-python",
   "name": "python",
   "nbconvert_exporter": "python",
   "pygments_lexer": "ipython3",
   "version": "3.8.13"
  },
  "toc": {
   "base_numbering": 1,
   "nav_menu": {},
   "number_sections": false,
   "sideBar": true,
   "skip_h1_title": false,
   "title_cell": "Table of Contents",
   "title_sidebar": "Contents",
   "toc_cell": false,
   "toc_position": {
    "height": "895px",
    "left": "69px",
    "top": "111.141px",
    "width": "165px"
   },
   "toc_section_display": true,
   "toc_window_display": false
  },
  "vscode": {
   "interpreter": {
    "hash": "e3584e0094cc606059de00670c8f2673321413961648b189247649573872e648"
   }
  }
 },
 "nbformat": 4,
 "nbformat_minor": 5
}
