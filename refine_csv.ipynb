{
 "cells": [
  {
   "cell_type": "code",
   "execution_count": 74,
   "metadata": {},
   "outputs": [],
   "source": [
    "import pandas as pd\n",
    "import numpy as np"
   ]
  },
  {
   "cell_type": "code",
   "execution_count": 25,
   "metadata": {},
   "outputs": [],
   "source": [
    "df1 = pd.read_csv(\"2017-02-17.csv\")"
   ]
  },
  {
   "cell_type": "code",
   "execution_count": 26,
   "metadata": {},
   "outputs": [],
   "source": [
    "df1.drop(\"Unnamed: 0\", axis=1, inplace=True)"
   ]
  },
  {
   "cell_type": "code",
   "execution_count": 27,
   "metadata": {},
   "outputs": [
    {
     "name": "stdout",
     "output_type": "stream",
     "text": [
      "<class 'pandas.core.frame.DataFrame'>\n",
      "RangeIndex: 62845 entries, 0 to 62844\n",
      "Data columns (total 3 columns):\n",
      " #   Column  Non-Null Count  Dtype \n",
      "---  ------  --------------  ----- \n",
      " 0   언론사     62845 non-null  object\n",
      " 1   날짜      62845 non-null  object\n",
      " 2   제목      62845 non-null  object\n",
      "dtypes: object(3)\n",
      "memory usage: 1.4+ MB\n"
     ]
    }
   ],
   "source": [
    "df1.info()"
   ]
  },
  {
   "cell_type": "code",
   "execution_count": 28,
   "metadata": {},
   "outputs": [],
   "source": [
    "df2 = pd.read_csv(\"2017-07-24.csv\")"
   ]
  },
  {
   "cell_type": "code",
   "execution_count": 29,
   "metadata": {},
   "outputs": [],
   "source": [
    "df2.drop(\"Unnamed: 0\", axis=1, inplace=True)"
   ]
  },
  {
   "cell_type": "code",
   "execution_count": 30,
   "metadata": {},
   "outputs": [
    {
     "name": "stdout",
     "output_type": "stream",
     "text": [
      "<class 'pandas.core.frame.DataFrame'>\n",
      "RangeIndex: 135510 entries, 0 to 135509\n",
      "Data columns (total 3 columns):\n",
      " #   Column  Non-Null Count   Dtype \n",
      "---  ------  --------------   ----- \n",
      " 0   언론사     135510 non-null  object\n",
      " 1   날짜      135510 non-null  object\n",
      " 2   제목      135510 non-null  object\n",
      "dtypes: object(3)\n",
      "memory usage: 3.1+ MB\n"
     ]
    }
   ],
   "source": [
    "df2.info()"
   ]
  },
  {
   "cell_type": "code",
   "execution_count": 31,
   "metadata": {},
   "outputs": [],
   "source": [
    "df3 = pd.read_csv(\"2017-08-25.csv\")"
   ]
  },
  {
   "cell_type": "code",
   "execution_count": 32,
   "metadata": {},
   "outputs": [],
   "source": [
    "df3.drop(\"Unnamed: 0\", axis=1, inplace=True)"
   ]
  },
  {
   "cell_type": "code",
   "execution_count": 33,
   "metadata": {},
   "outputs": [
    {
     "name": "stdout",
     "output_type": "stream",
     "text": [
      "<class 'pandas.core.frame.DataFrame'>\n",
      "RangeIndex: 53120 entries, 0 to 53119\n",
      "Data columns (total 3 columns):\n",
      " #   Column  Non-Null Count  Dtype \n",
      "---  ------  --------------  ----- \n",
      " 0   언론사     53120 non-null  object\n",
      " 1   날짜      53120 non-null  object\n",
      " 2   제목      53120 non-null  object\n",
      "dtypes: object(3)\n",
      "memory usage: 1.2+ MB\n"
     ]
    }
   ],
   "source": [
    "df3.info()"
   ]
  },
  {
   "cell_type": "code",
   "execution_count": 34,
   "metadata": {},
   "outputs": [],
   "source": [
    "df4 = pd.read_csv(\"2017-10-11.csv\")"
   ]
  },
  {
   "cell_type": "code",
   "execution_count": 35,
   "metadata": {},
   "outputs": [],
   "source": [
    "df4.drop(\"Unnamed: 0\", axis=1, inplace=True)"
   ]
  },
  {
   "cell_type": "code",
   "execution_count": 36,
   "metadata": {},
   "outputs": [
    {
     "name": "stdout",
     "output_type": "stream",
     "text": [
      "<class 'pandas.core.frame.DataFrame'>\n",
      "RangeIndex: 30400 entries, 0 to 30399\n",
      "Data columns (total 3 columns):\n",
      " #   Column  Non-Null Count  Dtype \n",
      "---  ------  --------------  ----- \n",
      " 0   언론사     30400 non-null  object\n",
      " 1   날짜      30400 non-null  object\n",
      " 2   제목      30400 non-null  object\n",
      "dtypes: object(3)\n",
      "memory usage: 712.6+ KB\n"
     ]
    }
   ],
   "source": [
    "df4.info()"
   ]
  },
  {
   "cell_type": "code",
   "execution_count": 37,
   "metadata": {},
   "outputs": [],
   "source": [
    "df5 = pd.read_csv(\"2017-10-14.csv\")"
   ]
  },
  {
   "cell_type": "code",
   "execution_count": 38,
   "metadata": {},
   "outputs": [],
   "source": [
    "df5.drop(\"Unnamed: 0\", axis=1, inplace=True)"
   ]
  },
  {
   "cell_type": "code",
   "execution_count": 39,
   "metadata": {},
   "outputs": [
    {
     "name": "stdout",
     "output_type": "stream",
     "text": [
      "<class 'pandas.core.frame.DataFrame'>\n",
      "RangeIndex: 3800 entries, 0 to 3799\n",
      "Data columns (total 3 columns):\n",
      " #   Column  Non-Null Count  Dtype \n",
      "---  ------  --------------  ----- \n",
      " 0   언론사     3800 non-null   object\n",
      " 1   날짜      3800 non-null   object\n",
      " 2   제목      3800 non-null   object\n",
      "dtypes: object(3)\n",
      "memory usage: 89.2+ KB\n"
     ]
    }
   ],
   "source": [
    "df5.info()"
   ]
  },
  {
   "cell_type": "code",
   "execution_count": 40,
   "metadata": {},
   "outputs": [],
   "source": [
    "df6 = pd.read_csv(\"2017-12-27.csv\")"
   ]
  },
  {
   "cell_type": "code",
   "execution_count": 41,
   "metadata": {},
   "outputs": [],
   "source": [
    "df6.drop(\"Unnamed: 0\", axis=1, inplace=True)"
   ]
  },
  {
   "cell_type": "code",
   "execution_count": 42,
   "metadata": {},
   "outputs": [
    {
     "name": "stdout",
     "output_type": "stream",
     "text": [
      "<class 'pandas.core.frame.DataFrame'>\n",
      "RangeIndex: 53890 entries, 0 to 53889\n",
      "Data columns (total 3 columns):\n",
      " #   Column  Non-Null Count  Dtype \n",
      "---  ------  --------------  ----- \n",
      " 0   언론사     53890 non-null  object\n",
      " 1   날짜      53890 non-null  object\n",
      " 2   제목      53890 non-null  object\n",
      "dtypes: object(3)\n",
      "memory usage: 1.2+ MB\n"
     ]
    }
   ],
   "source": [
    "df6.info()"
   ]
  },
  {
   "cell_type": "code",
   "execution_count": 43,
   "metadata": {},
   "outputs": [],
   "source": [
    "df7 = pd.read_csv(\"2017-12-31.csv\")"
   ]
  },
  {
   "cell_type": "code",
   "execution_count": 44,
   "metadata": {},
   "outputs": [],
   "source": [
    "df7.drop(\"Unnamed: 0\", axis=1, inplace=True)"
   ]
  },
  {
   "cell_type": "code",
   "execution_count": 46,
   "metadata": {},
   "outputs": [
    {
     "name": "stdout",
     "output_type": "stream",
     "text": [
      "<class 'pandas.core.frame.DataFrame'>\n",
      "RangeIndex: 1264 entries, 0 to 1263\n",
      "Data columns (total 3 columns):\n",
      " #   Column  Non-Null Count  Dtype \n",
      "---  ------  --------------  ----- \n",
      " 0   언론사     1264 non-null   object\n",
      " 1   날짜      1264 non-null   object\n",
      " 2   제목      1264 non-null   object\n",
      "dtypes: object(3)\n",
      "memory usage: 29.8+ KB\n"
     ]
    }
   ],
   "source": [
    "df7.info()"
   ]
  },
  {
   "cell_type": "code",
   "execution_count": 47,
   "metadata": {},
   "outputs": [],
   "source": [
    "result_2017 = pd.concat([df1, df2, df3, df4, df5, df6, df7], axis=0)"
   ]
  },
  {
   "cell_type": "code",
   "execution_count": 48,
   "metadata": {},
   "outputs": [
    {
     "name": "stdout",
     "output_type": "stream",
     "text": [
      "<class 'pandas.core.frame.DataFrame'>\n",
      "Int64Index: 340829 entries, 0 to 1263\n",
      "Data columns (total 3 columns):\n",
      " #   Column  Non-Null Count   Dtype \n",
      "---  ------  --------------   ----- \n",
      " 0   언론사     340829 non-null  object\n",
      " 1   날짜      340829 non-null  object\n",
      " 2   제목      340829 non-null  object\n",
      "dtypes: object(3)\n",
      "memory usage: 10.4+ MB\n"
     ]
    }
   ],
   "source": [
    "result_2017.info()"
   ]
  },
  {
   "cell_type": "code",
   "execution_count": 49,
   "metadata": {},
   "outputs": [
    {
     "data": {
      "text/html": [
       "<div>\n",
       "<style scoped>\n",
       "    .dataframe tbody tr th:only-of-type {\n",
       "        vertical-align: middle;\n",
       "    }\n",
       "\n",
       "    .dataframe tbody tr th {\n",
       "        vertical-align: top;\n",
       "    }\n",
       "\n",
       "    .dataframe thead th {\n",
       "        text-align: right;\n",
       "    }\n",
       "</style>\n",
       "<table border=\"1\" class=\"dataframe\">\n",
       "  <thead>\n",
       "    <tr style=\"text-align: right;\">\n",
       "      <th></th>\n",
       "      <th>언론사</th>\n",
       "      <th>날짜</th>\n",
       "      <th>제목</th>\n",
       "    </tr>\n",
       "  </thead>\n",
       "  <tbody>\n",
       "    <tr>\n",
       "      <th>0</th>\n",
       "      <td>아주경제</td>\n",
       "      <td>2017.01.01.</td>\n",
       "      <td>특검,문형표 구속에 새해 첫날 안종범 재소환..삼성 합병에 박근혜 역할 집중...</td>\n",
       "    </tr>\n",
       "    <tr>\n",
       "      <th>1</th>\n",
       "      <td>중앙SUNDAY</td>\n",
       "      <td>2017.01.01.</td>\n",
       "      <td>1308조원</td>\n",
       "    </tr>\n",
       "    <tr>\n",
       "      <th>2</th>\n",
       "      <td>IT조선</td>\n",
       "      <td>2017.01.01.</td>\n",
       "      <td>[2017 스마트폰 트렌드] ①스마트폰 시장 ‘흐림’ 전망...탈출구 있나</td>\n",
       "    </tr>\n",
       "    <tr>\n",
       "      <th>3</th>\n",
       "      <td>전자신문</td>\n",
       "      <td>33면 1단</td>\n",
       "      <td>[신년기획]인공지능, 올해 경쟁력 확보 원년</td>\n",
       "    </tr>\n",
       "    <tr>\n",
       "      <th>4</th>\n",
       "      <td>EBN</td>\n",
       "      <td>2017.01.01.</td>\n",
       "      <td>[주간증시전망] CES發 IT섹터 관심 다양화·삼성전자 실적 발표 등 대장주 상...</td>\n",
       "    </tr>\n",
       "  </tbody>\n",
       "</table>\n",
       "</div>"
      ],
      "text/plain": [
       "        언론사           날짜                                               제목\n",
       "0      아주경제  2017.01.01.    특검,문형표 구속에 새해 첫날 안종범 재소환..삼성 합병에 박근혜 역할 집중...\n",
       "1  중앙SUNDAY  2017.01.01.                                           1308조원\n",
       "2      IT조선  2017.01.01.        [2017 스마트폰 트렌드] ①스마트폰 시장 ‘흐림’ 전망...탈출구 있나\n",
       "3      전자신문       33면 1단                         [신년기획]인공지능, 올해 경쟁력 확보 원년\n",
       "4       EBN  2017.01.01.  [주간증시전망] CES發 IT섹터 관심 다양화·삼성전자 실적 발표 등 대장주 상..."
      ]
     },
     "execution_count": 49,
     "metadata": {},
     "output_type": "execute_result"
    }
   ],
   "source": [
    "result_2017.head()"
   ]
  },
  {
   "cell_type": "code",
   "execution_count": 50,
   "metadata": {},
   "outputs": [
    {
     "data": {
      "text/html": [
       "<div>\n",
       "<style scoped>\n",
       "    .dataframe tbody tr th:only-of-type {\n",
       "        vertical-align: middle;\n",
       "    }\n",
       "\n",
       "    .dataframe tbody tr th {\n",
       "        vertical-align: top;\n",
       "    }\n",
       "\n",
       "    .dataframe thead th {\n",
       "        text-align: right;\n",
       "    }\n",
       "</style>\n",
       "<table border=\"1\" class=\"dataframe\">\n",
       "  <thead>\n",
       "    <tr style=\"text-align: right;\">\n",
       "      <th></th>\n",
       "      <th>언론사</th>\n",
       "      <th>날짜</th>\n",
       "      <th>제목</th>\n",
       "    </tr>\n",
       "  </thead>\n",
       "  <tbody>\n",
       "    <tr>\n",
       "      <th>1259</th>\n",
       "      <td>파이낸셜뉴스언론사 선정</td>\n",
       "      <td>2017.12.31.</td>\n",
       "      <td>삼성, 총수없이 맞는 첫 새해… 글로벌 경쟁서 뒤처지나</td>\n",
       "    </tr>\n",
       "    <tr>\n",
       "      <th>1260</th>\n",
       "      <td>매일경제</td>\n",
       "      <td>2017.12.31.</td>\n",
       "      <td>電·車 CEO 라스베이거스 출동</td>\n",
       "    </tr>\n",
       "    <tr>\n",
       "      <th>1261</th>\n",
       "      <td>남도일보</td>\n",
       "      <td>2017.12.31.</td>\n",
       "      <td>광주시/전남지사/교육감 6·13 지방선거 출마 예상자</td>\n",
       "    </tr>\n",
       "    <tr>\n",
       "      <th>1262</th>\n",
       "      <td>매일경제</td>\n",
       "      <td>2017.12.31.</td>\n",
       "      <td>새해 벽두부터 미국發 통상압박</td>\n",
       "    </tr>\n",
       "    <tr>\n",
       "      <th>1263</th>\n",
       "      <td>전자신문언론사 선정</td>\n",
       "      <td>2017.12.31.</td>\n",
       "      <td>나만의 가상비서로 변신하는 '카톡'...똑소리 나네</td>\n",
       "    </tr>\n",
       "  </tbody>\n",
       "</table>\n",
       "</div>"
      ],
      "text/plain": [
       "               언론사           날짜                              제목\n",
       "1259  파이낸셜뉴스언론사 선정  2017.12.31.  삼성, 총수없이 맞는 첫 새해… 글로벌 경쟁서 뒤처지나\n",
       "1260          매일경제  2017.12.31.               電·車 CEO 라스베이거스 출동\n",
       "1261          남도일보  2017.12.31.   광주시/전남지사/교육감 6·13 지방선거 출마 예상자\n",
       "1262          매일경제  2017.12.31.                새해 벽두부터 미국發 통상압박\n",
       "1263    전자신문언론사 선정  2017.12.31.    나만의 가상비서로 변신하는 '카톡'...똑소리 나네"
      ]
     },
     "execution_count": 50,
     "metadata": {},
     "output_type": "execute_result"
    }
   ],
   "source": [
    "result_2017.tail()"
   ]
  },
  {
   "cell_type": "code",
   "execution_count": null,
   "metadata": {},
   "outputs": [],
   "source": []
  },
  {
   "cell_type": "code",
   "execution_count": 51,
   "metadata": {},
   "outputs": [],
   "source": [
    "result_2017.to_csv(\"2017.csv\")"
   ]
  },
  {
   "cell_type": "code",
   "execution_count": 52,
   "metadata": {},
   "outputs": [
    {
     "name": "stdout",
     "output_type": "stream",
     "text": [
      "<class 'pandas.core.frame.DataFrame'>\n",
      "Int64Index: 340829 entries, 0 to 1263\n",
      "Data columns (total 3 columns):\n",
      " #   Column  Non-Null Count   Dtype \n",
      "---  ------  --------------   ----- \n",
      " 0   언론사     340829 non-null  object\n",
      " 1   날짜      340829 non-null  object\n",
      " 2   제목      340829 non-null  object\n",
      "dtypes: object(3)\n",
      "memory usage: 10.4+ MB\n"
     ]
    }
   ],
   "source": [
    "result_2017.info()"
   ]
  },
  {
   "cell_type": "code",
   "execution_count": 53,
   "metadata": {},
   "outputs": [],
   "source": [
    "result_2017.drop_duplicates(inplace=True)"
   ]
  },
  {
   "cell_type": "code",
   "execution_count": 54,
   "metadata": {},
   "outputs": [
    {
     "name": "stdout",
     "output_type": "stream",
     "text": [
      "<class 'pandas.core.frame.DataFrame'>\n",
      "Int64Index: 299804 entries, 0 to 1263\n",
      "Data columns (total 3 columns):\n",
      " #   Column  Non-Null Count   Dtype \n",
      "---  ------  --------------   ----- \n",
      " 0   언론사     299804 non-null  object\n",
      " 1   날짜      299804 non-null  object\n",
      " 2   제목      299804 non-null  object\n",
      "dtypes: object(3)\n",
      "memory usage: 9.1+ MB\n"
     ]
    }
   ],
   "source": [
    "result_2017.info()"
   ]
  },
  {
   "cell_type": "code",
   "execution_count": 63,
   "metadata": {},
   "outputs": [
    {
     "data": {
      "text/html": [
       "<div>\n",
       "<style scoped>\n",
       "    .dataframe tbody tr th:only-of-type {\n",
       "        vertical-align: middle;\n",
       "    }\n",
       "\n",
       "    .dataframe tbody tr th {\n",
       "        vertical-align: top;\n",
       "    }\n",
       "\n",
       "    .dataframe thead th {\n",
       "        text-align: right;\n",
       "    }\n",
       "</style>\n",
       "<table border=\"1\" class=\"dataframe\">\n",
       "  <thead>\n",
       "    <tr style=\"text-align: right;\">\n",
       "      <th></th>\n",
       "      <th>날짜</th>\n",
       "    </tr>\n",
       "  </thead>\n",
       "  <tbody>\n",
       "    <tr>\n",
       "      <th>0</th>\n",
       "      <td>2017.01.01.</td>\n",
       "    </tr>\n",
       "    <tr>\n",
       "      <th>1</th>\n",
       "      <td>2017.01.01.</td>\n",
       "    </tr>\n",
       "    <tr>\n",
       "      <th>2</th>\n",
       "      <td>2017.01.01.</td>\n",
       "    </tr>\n",
       "    <tr>\n",
       "      <th>3</th>\n",
       "      <td>33면 1단</td>\n",
       "    </tr>\n",
       "    <tr>\n",
       "      <th>4</th>\n",
       "      <td>2017.01.01.</td>\n",
       "    </tr>\n",
       "    <tr>\n",
       "      <th>...</th>\n",
       "      <td>...</td>\n",
       "    </tr>\n",
       "    <tr>\n",
       "      <th>1259</th>\n",
       "      <td>2017.12.31.</td>\n",
       "    </tr>\n",
       "    <tr>\n",
       "      <th>1260</th>\n",
       "      <td>2017.12.31.</td>\n",
       "    </tr>\n",
       "    <tr>\n",
       "      <th>1261</th>\n",
       "      <td>2017.12.31.</td>\n",
       "    </tr>\n",
       "    <tr>\n",
       "      <th>1262</th>\n",
       "      <td>2017.12.31.</td>\n",
       "    </tr>\n",
       "    <tr>\n",
       "      <th>1263</th>\n",
       "      <td>2017.12.31.</td>\n",
       "    </tr>\n",
       "  </tbody>\n",
       "</table>\n",
       "<p>299804 rows × 1 columns</p>\n",
       "</div>"
      ],
      "text/plain": [
       "               날짜\n",
       "0     2017.01.01.\n",
       "1     2017.01.01.\n",
       "2     2017.01.01.\n",
       "3          33면 1단\n",
       "4     2017.01.01.\n",
       "...           ...\n",
       "1259  2017.12.31.\n",
       "1260  2017.12.31.\n",
       "1261  2017.12.31.\n",
       "1262  2017.12.31.\n",
       "1263  2017.12.31.\n",
       "\n",
       "[299804 rows x 1 columns]"
      ]
     },
     "execution_count": 63,
     "metadata": {},
     "output_type": "execute_result"
    }
   ],
   "source": [
    "result_2017[[\"날짜\"]]"
   ]
  },
  {
   "cell_type": "code",
   "execution_count": null,
   "metadata": {},
   "outputs": [],
   "source": [
    "# result_2017[\"날짜\"].str.replace(\"([가-힣]+|[a-zA-Z]+|[0-9]+)(\\s{1,})([가-힣]+|[a-zA-Z]+|[0-9]+)\", \"\")"
   ]
  },
  {
   "cell_type": "code",
   "execution_count": 75,
   "metadata": {},
   "outputs": [
    {
     "name": "stderr",
     "output_type": "stream",
     "text": [
      "/var/folders/dw/h996rvzd3dgfxkgv5h6l_qcm0000gn/T/ipykernel_70101/3149170320.py:1: FutureWarning: The default value of regex will change from True to False in a future version.\n",
      "  result_2017[\"날짜\"] = result_2017[\"날짜\"].str.replace(\"(\\w+|\\W+)(\\s+)(\\w+|\\W+)\", \"\")\n"
     ]
    }
   ],
   "source": [
    "result_2017[\"날짜\"] = result_2017[\"날짜\"].str.replace(\"(\\w+|\\W+)(\\s+)(\\w+|\\W+)\", \"\")\n",
    "result_2017[\"날짜\"].replace('', np.nan, inplace=True)"
   ]
  },
  {
   "cell_type": "code",
   "execution_count": 76,
   "metadata": {},
   "outputs": [
    {
     "data": {
      "text/plain": [
       "366"
      ]
     },
     "execution_count": 76,
     "metadata": {},
     "output_type": "execute_result"
    }
   ],
   "source": [
    "result_2017[\"날짜\"].nunique()"
   ]
  },
  {
   "cell_type": "code",
   "execution_count": 78,
   "metadata": {},
   "outputs": [
    {
     "name": "stdout",
     "output_type": "stream",
     "text": [
      "<class 'pandas.core.frame.DataFrame'>\n",
      "Int64Index: 299804 entries, 0 to 1263\n",
      "Data columns (total 3 columns):\n",
      " #   Column  Non-Null Count   Dtype \n",
      "---  ------  --------------   ----- \n",
      " 0   언론사     299804 non-null  object\n",
      " 1   날짜      270856 non-null  object\n",
      " 2   제목      299804 non-null  object\n",
      "dtypes: object(3)\n",
      "memory usage: 17.2+ MB\n"
     ]
    }
   ],
   "source": [
    "result_2017.info()"
   ]
  },
  {
   "cell_type": "code",
   "execution_count": 79,
   "metadata": {},
   "outputs": [
    {
     "data": {
      "text/plain": [
       "0     2017.01.01.\n",
       "1     2017.01.01.\n",
       "2     2017.01.01.\n",
       "3             NaN\n",
       "4     2017.01.01.\n",
       "5     2017.01.01.\n",
       "6     2017.01.01.\n",
       "7     2017.01.01.\n",
       "8             NaN\n",
       "9     2017.01.01.\n",
       "10    2017.01.01.\n",
       "11    2017.01.01.\n",
       "12    2017.01.01.\n",
       "13    2017.01.01.\n",
       "14    2017.01.01.\n",
       "15    2017.01.01.\n",
       "16    2017.01.01.\n",
       "17    2017.01.01.\n",
       "18    2017.01.01.\n",
       "19    2017.01.01.\n",
       "20    2017.01.01.\n",
       "21    2017.01.01.\n",
       "22    2017.01.01.\n",
       "23            NaN\n",
       "24    2017.01.01.\n",
       "25    2017.01.01.\n",
       "26    2017.01.01.\n",
       "27    2017.01.01.\n",
       "28    2017.01.01.\n",
       "29    2017.01.01.\n",
       "Name: 날짜, dtype: object"
      ]
     },
     "execution_count": 79,
     "metadata": {},
     "output_type": "execute_result"
    }
   ],
   "source": [
    "result_2017[\"날짜\"].head(30)"
   ]
  },
  {
   "cell_type": "code",
   "execution_count": 112,
   "metadata": {},
   "outputs": [],
   "source": [
    "df = pd.read_csv(\"df_final.csv\")"
   ]
  },
  {
   "cell_type": "code",
   "execution_count": 113,
   "metadata": {},
   "outputs": [
    {
     "data": {
      "text/html": [
       "<div>\n",
       "<style scoped>\n",
       "    .dataframe tbody tr th:only-of-type {\n",
       "        vertical-align: middle;\n",
       "    }\n",
       "\n",
       "    .dataframe tbody tr th {\n",
       "        vertical-align: top;\n",
       "    }\n",
       "\n",
       "    .dataframe thead th {\n",
       "        text-align: right;\n",
       "    }\n",
       "</style>\n",
       "<table border=\"1\" class=\"dataframe\">\n",
       "  <thead>\n",
       "    <tr style=\"text-align: right;\">\n",
       "      <th></th>\n",
       "      <th>Unnamed: 0</th>\n",
       "      <th>언론사</th>\n",
       "      <th>날짜</th>\n",
       "      <th>제목</th>\n",
       "    </tr>\n",
       "  </thead>\n",
       "  <tbody>\n",
       "    <tr>\n",
       "      <th>0</th>\n",
       "      <td>0</td>\n",
       "      <td>연합뉴스</td>\n",
       "      <td>1998.05.20.</td>\n",
       "      <td>주가 사흘째 상승세</td>\n",
       "    </tr>\n",
       "    <tr>\n",
       "      <th>1</th>\n",
       "      <td>1</td>\n",
       "      <td>연합뉴스</td>\n",
       "      <td>1998.05.20.</td>\n",
       "      <td>아남텔레콤, PDA 데이터 전송서비스 개시</td>\n",
       "    </tr>\n",
       "    <tr>\n",
       "      <th>2</th>\n",
       "      <td>2</td>\n",
       "      <td>연합뉴스</td>\n",
       "      <td>1998.05.20.</td>\n",
       "      <td>&lt;회전목마&gt; 삼성전자, 사이버 사외보 제작</td>\n",
       "    </tr>\n",
       "    <tr>\n",
       "      <th>3</th>\n",
       "      <td>3</td>\n",
       "      <td>연합뉴스</td>\n",
       "      <td>1998.05.20.</td>\n",
       "      <td>&lt;주식시황&gt; 사흘째 상승, 3백70선 다가서</td>\n",
       "    </tr>\n",
       "    <tr>\n",
       "      <th>4</th>\n",
       "      <td>4</td>\n",
       "      <td>연합뉴스</td>\n",
       "      <td>1998.05.20.</td>\n",
       "      <td>-춘계승마- 신창무,싼졸쥬마장마술 우승</td>\n",
       "    </tr>\n",
       "  </tbody>\n",
       "</table>\n",
       "</div>"
      ],
      "text/plain": [
       "   Unnamed: 0   언론사           날짜                        제목\n",
       "0           0  연합뉴스  1998.05.20.                주가 사흘째 상승세\n",
       "1           1  연합뉴스  1998.05.20.   아남텔레콤, PDA 데이터 전송서비스 개시\n",
       "2           2  연합뉴스  1998.05.20.   <회전목마> 삼성전자, 사이버 사외보 제작\n",
       "3           3  연합뉴스  1998.05.20.  <주식시황> 사흘째 상승, 3백70선 다가서\n",
       "4           4  연합뉴스  1998.05.20.     -춘계승마- 신창무,싼졸쥬마장마술 우승"
      ]
     },
     "execution_count": 113,
     "metadata": {},
     "output_type": "execute_result"
    }
   ],
   "source": [
    "df.head()"
   ]
  },
  {
   "cell_type": "code",
   "execution_count": 114,
   "metadata": {},
   "outputs": [],
   "source": [
    "df.drop(\"Unnamed: 0\", axis=1, inplace=True)"
   ]
  },
  {
   "cell_type": "code",
   "execution_count": 115,
   "metadata": {},
   "outputs": [
    {
     "name": "stdout",
     "output_type": "stream",
     "text": [
      "<class 'pandas.core.frame.DataFrame'>\n",
      "RangeIndex: 3851970 entries, 0 to 3851969\n",
      "Data columns (total 3 columns):\n",
      " #   Column  Dtype \n",
      "---  ------  ----- \n",
      " 0   언론사     object\n",
      " 1   날짜      object\n",
      " 2   제목      object\n",
      "dtypes: object(3)\n",
      "memory usage: 88.2+ MB\n"
     ]
    }
   ],
   "source": [
    "df.info()"
   ]
  },
  {
   "cell_type": "code",
   "execution_count": 116,
   "metadata": {},
   "outputs": [
    {
     "data": {
      "text/html": [
       "<div>\n",
       "<style scoped>\n",
       "    .dataframe tbody tr th:only-of-type {\n",
       "        vertical-align: middle;\n",
       "    }\n",
       "\n",
       "    .dataframe tbody tr th {\n",
       "        vertical-align: top;\n",
       "    }\n",
       "\n",
       "    .dataframe thead th {\n",
       "        text-align: right;\n",
       "    }\n",
       "</style>\n",
       "<table border=\"1\" class=\"dataframe\">\n",
       "  <thead>\n",
       "    <tr style=\"text-align: right;\">\n",
       "      <th></th>\n",
       "      <th>언론사</th>\n",
       "      <th>날짜</th>\n",
       "      <th>제목</th>\n",
       "    </tr>\n",
       "  </thead>\n",
       "  <tbody>\n",
       "    <tr>\n",
       "      <th>count</th>\n",
       "      <td>3851970</td>\n",
       "      <td>3851970</td>\n",
       "      <td>3851970</td>\n",
       "    </tr>\n",
       "    <tr>\n",
       "      <th>unique</th>\n",
       "      <td>915</td>\n",
       "      <td>9692</td>\n",
       "      <td>2875888</td>\n",
       "    </tr>\n",
       "    <tr>\n",
       "      <th>top</th>\n",
       "      <td>연합뉴스</td>\n",
       "      <td>2016.12.06.</td>\n",
       "      <td>&lt;표&gt;해외 한국물 DR 가격</td>\n",
       "    </tr>\n",
       "    <tr>\n",
       "      <th>freq</th>\n",
       "      <td>175996</td>\n",
       "      <td>40720</td>\n",
       "      <td>1925</td>\n",
       "    </tr>\n",
       "  </tbody>\n",
       "</table>\n",
       "</div>"
      ],
      "text/plain": [
       "            언론사           날짜               제목\n",
       "count   3851970      3851970          3851970\n",
       "unique      915         9692          2875888\n",
       "top        연합뉴스  2016.12.06.  <표>해외 한국물 DR 가격\n",
       "freq     175996        40720             1925"
      ]
     },
     "execution_count": 116,
     "metadata": {},
     "output_type": "execute_result"
    }
   ],
   "source": [
    "df.describe()"
   ]
  },
  {
   "cell_type": "code",
   "execution_count": 117,
   "metadata": {},
   "outputs": [
    {
     "data": {
      "text/html": [
       "<div>\n",
       "<style scoped>\n",
       "    .dataframe tbody tr th:only-of-type {\n",
       "        vertical-align: middle;\n",
       "    }\n",
       "\n",
       "    .dataframe tbody tr th {\n",
       "        vertical-align: top;\n",
       "    }\n",
       "\n",
       "    .dataframe thead th {\n",
       "        text-align: right;\n",
       "    }\n",
       "</style>\n",
       "<table border=\"1\" class=\"dataframe\">\n",
       "  <thead>\n",
       "    <tr style=\"text-align: right;\">\n",
       "      <th></th>\n",
       "      <th>언론사</th>\n",
       "      <th>날짜</th>\n",
       "      <th>제목</th>\n",
       "    </tr>\n",
       "  </thead>\n",
       "  <tbody>\n",
       "    <tr>\n",
       "      <th>3851965</th>\n",
       "      <td>한국경제</td>\n",
       "      <td>2022.07.21.</td>\n",
       "      <td>디지털이미지뱅크, 한투등 3개사서 20억원 투자 유치</td>\n",
       "    </tr>\n",
       "    <tr>\n",
       "      <th>3851966</th>\n",
       "      <td>한국경제</td>\n",
       "      <td>2022.07.21.</td>\n",
       "      <td>[코스닥공시] 세보기계</td>\n",
       "    </tr>\n",
       "    <tr>\n",
       "      <th>3851967</th>\n",
       "      <td>한국경제</td>\n",
       "      <td>2022.07.21.</td>\n",
       "      <td>전자.통신업체 신용등급도 급상승세</td>\n",
       "    </tr>\n",
       "    <tr>\n",
       "      <th>3851968</th>\n",
       "      <td>한국경제</td>\n",
       "      <td>2022.07.21.</td>\n",
       "      <td>종합주가 폭락세, 916.01(-37.21) 전장마감</td>\n",
       "    </tr>\n",
       "    <tr>\n",
       "      <th>3851969</th>\n",
       "      <td>한국경제</td>\n",
       "      <td>2022.07.21.</td>\n",
       "      <td>산자부, 수치제어장치 산.학.연 공동연구 개발에 성공</td>\n",
       "    </tr>\n",
       "  </tbody>\n",
       "</table>\n",
       "</div>"
      ],
      "text/plain": [
       "          언론사           날짜                             제목\n",
       "3851965  한국경제  2022.07.21.  디지털이미지뱅크, 한투등 3개사서 20억원 투자 유치\n",
       "3851966  한국경제  2022.07.21.                   [코스닥공시] 세보기계\n",
       "3851967  한국경제  2022.07.21.             전자.통신업체 신용등급도 급상승세\n",
       "3851968  한국경제  2022.07.21.  종합주가 폭락세, 916.01(-37.21) 전장마감\n",
       "3851969  한국경제  2022.07.21.  산자부, 수치제어장치 산.학.연 공동연구 개발에 성공"
      ]
     },
     "execution_count": 117,
     "metadata": {},
     "output_type": "execute_result"
    }
   ],
   "source": [
    "df.tail()"
   ]
  },
  {
   "cell_type": "code",
   "execution_count": 118,
   "metadata": {},
   "outputs": [
    {
     "name": "stderr",
     "output_type": "stream",
     "text": [
      "/var/folders/dw/h996rvzd3dgfxkgv5h6l_qcm0000gn/T/ipykernel_70101/2569150036.py:1: FutureWarning: The default value of regex will change from True to False in a future version.\n",
      "  df[\"날짜\"] = df[\"날짜\"].str.replace(\"(\\w+|\\W+)(\\s+)(\\w+|\\W+)\", \"\")\n"
     ]
    }
   ],
   "source": [
    "df[\"날짜\"] = df[\"날짜\"].str.replace(\"(\\w+|\\W+)(\\s+)(\\w+|\\W+)\", \"\")\n",
    "df[\"날짜\"].replace('', np.nan, inplace=True)"
   ]
  },
  {
   "cell_type": "code",
   "execution_count": 119,
   "metadata": {},
   "outputs": [
    {
     "data": {
      "text/plain": [
       "8721"
      ]
     },
     "execution_count": 119,
     "metadata": {},
     "output_type": "execute_result"
    }
   ],
   "source": [
    "df[\"날짜\"].nunique()"
   ]
  },
  {
   "cell_type": "code",
   "execution_count": 120,
   "metadata": {},
   "outputs": [
    {
     "data": {
      "text/html": [
       "<div>\n",
       "<style scoped>\n",
       "    .dataframe tbody tr th:only-of-type {\n",
       "        vertical-align: middle;\n",
       "    }\n",
       "\n",
       "    .dataframe tbody tr th {\n",
       "        vertical-align: top;\n",
       "    }\n",
       "\n",
       "    .dataframe thead th {\n",
       "        text-align: right;\n",
       "    }\n",
       "</style>\n",
       "<table border=\"1\" class=\"dataframe\">\n",
       "  <thead>\n",
       "    <tr style=\"text-align: right;\">\n",
       "      <th></th>\n",
       "      <th>언론사</th>\n",
       "      <th>날짜</th>\n",
       "      <th>제목</th>\n",
       "    </tr>\n",
       "  </thead>\n",
       "  <tbody>\n",
       "    <tr>\n",
       "      <th>count</th>\n",
       "      <td>3851970</td>\n",
       "      <td>3561320</td>\n",
       "      <td>3851970</td>\n",
       "    </tr>\n",
       "    <tr>\n",
       "      <th>unique</th>\n",
       "      <td>915</td>\n",
       "      <td>8721</td>\n",
       "      <td>2875888</td>\n",
       "    </tr>\n",
       "    <tr>\n",
       "      <th>top</th>\n",
       "      <td>연합뉴스</td>\n",
       "      <td>2016.12.06.</td>\n",
       "      <td>&lt;표&gt;해외 한국물 DR 가격</td>\n",
       "    </tr>\n",
       "    <tr>\n",
       "      <th>freq</th>\n",
       "      <td>175996</td>\n",
       "      <td>40720</td>\n",
       "      <td>1925</td>\n",
       "    </tr>\n",
       "  </tbody>\n",
       "</table>\n",
       "</div>"
      ],
      "text/plain": [
       "            언론사           날짜               제목\n",
       "count   3851970      3561320          3851970\n",
       "unique      915         8721          2875888\n",
       "top        연합뉴스  2016.12.06.  <표>해외 한국물 DR 가격\n",
       "freq     175996        40720             1925"
      ]
     },
     "execution_count": 120,
     "metadata": {},
     "output_type": "execute_result"
    }
   ],
   "source": [
    "df.describe()"
   ]
  },
  {
   "cell_type": "code",
   "execution_count": 121,
   "metadata": {},
   "outputs": [],
   "source": [
    "df.columns = [\"Press\", \"Date\", \"Title\"]"
   ]
  },
  {
   "cell_type": "code",
   "execution_count": 122,
   "metadata": {},
   "outputs": [
    {
     "data": {
      "text/html": [
       "<div>\n",
       "<style scoped>\n",
       "    .dataframe tbody tr th:only-of-type {\n",
       "        vertical-align: middle;\n",
       "    }\n",
       "\n",
       "    .dataframe tbody tr th {\n",
       "        vertical-align: top;\n",
       "    }\n",
       "\n",
       "    .dataframe thead th {\n",
       "        text-align: right;\n",
       "    }\n",
       "</style>\n",
       "<table border=\"1\" class=\"dataframe\">\n",
       "  <thead>\n",
       "    <tr style=\"text-align: right;\">\n",
       "      <th></th>\n",
       "      <th>Press</th>\n",
       "      <th>Date</th>\n",
       "      <th>Title</th>\n",
       "    </tr>\n",
       "  </thead>\n",
       "  <tbody>\n",
       "    <tr>\n",
       "      <th>count</th>\n",
       "      <td>3851970</td>\n",
       "      <td>3561320</td>\n",
       "      <td>3851970</td>\n",
       "    </tr>\n",
       "    <tr>\n",
       "      <th>unique</th>\n",
       "      <td>915</td>\n",
       "      <td>8721</td>\n",
       "      <td>2875888</td>\n",
       "    </tr>\n",
       "    <tr>\n",
       "      <th>top</th>\n",
       "      <td>연합뉴스</td>\n",
       "      <td>2016.12.06.</td>\n",
       "      <td>&lt;표&gt;해외 한국물 DR 가격</td>\n",
       "    </tr>\n",
       "    <tr>\n",
       "      <th>freq</th>\n",
       "      <td>175996</td>\n",
       "      <td>40720</td>\n",
       "      <td>1925</td>\n",
       "    </tr>\n",
       "  </tbody>\n",
       "</table>\n",
       "</div>"
      ],
      "text/plain": [
       "          Press         Date            Title\n",
       "count   3851970      3561320          3851970\n",
       "unique      915         8721          2875888\n",
       "top        연합뉴스  2016.12.06.  <표>해외 한국물 DR 가격\n",
       "freq     175996        40720             1925"
      ]
     },
     "execution_count": 122,
     "metadata": {},
     "output_type": "execute_result"
    }
   ],
   "source": [
    "df.describe()"
   ]
  },
  {
   "cell_type": "code",
   "execution_count": 123,
   "metadata": {},
   "outputs": [
    {
     "name": "stderr",
     "output_type": "stream",
     "text": [
      "/var/folders/dw/h996rvzd3dgfxkgv5h6l_qcm0000gn/T/ipykernel_70101/1138176669.py:1: UserWarning: This pattern is interpreted as a regular expression, and has match groups. To actually get the groups, use str.extract.\n",
      "  df[df[\"Date\"].str.contains('(\\d*[가-힣])')==True]\n"
     ]
    },
    {
     "data": {
      "text/html": [
       "<div>\n",
       "<style scoped>\n",
       "    .dataframe tbody tr th:only-of-type {\n",
       "        vertical-align: middle;\n",
       "    }\n",
       "\n",
       "    .dataframe tbody tr th {\n",
       "        vertical-align: top;\n",
       "    }\n",
       "\n",
       "    .dataframe thead th {\n",
       "        text-align: right;\n",
       "    }\n",
       "</style>\n",
       "<table border=\"1\" class=\"dataframe\">\n",
       "  <thead>\n",
       "    <tr style=\"text-align: right;\">\n",
       "      <th></th>\n",
       "      <th>Press</th>\n",
       "      <th>Date</th>\n",
       "      <th>Title</th>\n",
       "    </tr>\n",
       "  </thead>\n",
       "  <tbody>\n",
       "    <tr>\n",
       "      <th>234668</th>\n",
       "      <td>이데일리</td>\n",
       "      <td>재정경제부</td>\n",
       "      <td>다양한 신 금융상품 설계 · 판매로 경쟁력 강화</td>\n",
       "    </tr>\n",
       "    <tr>\n",
       "      <th>239789</th>\n",
       "      <td>파이낸셜뉴스</td>\n",
       "      <td>국가정보원</td>\n",
       "      <td>ELW 개인손실 크다</td>\n",
       "    </tr>\n",
       "    <tr>\n",
       "      <th>241111</th>\n",
       "      <td>YTN</td>\n",
       "      <td>농림부</td>\n",
       "      <td>화물연대 총파업 돌입</td>\n",
       "    </tr>\n",
       "    <tr>\n",
       "      <th>241601</th>\n",
       "      <td>한겨레</td>\n",
       "      <td>공정거래위원회</td>\n",
       "      <td>[2006 혁신 경영인 대상] HR 컨텐츠 개발. 서비스 선도</td>\n",
       "    </tr>\n",
       "    <tr>\n",
       "      <th>241975</th>\n",
       "      <td>MBN</td>\n",
       "      <td>공정거래위원회</td>\n",
       "      <td>MBC게임, POS팀 인수 프로게임단 창단</td>\n",
       "    </tr>\n",
       "    <tr>\n",
       "      <th>...</th>\n",
       "      <td>...</td>\n",
       "      <td>...</td>\n",
       "      <td>...</td>\n",
       "    </tr>\n",
       "    <tr>\n",
       "      <th>3832231</th>\n",
       "      <td>연합뉴스</td>\n",
       "      <td>1단</td>\n",
       "      <td>갤럭시 워치4 시리즈용 '원UI 워치 4.5' 주요 기능 소개.. 3분기 출시</td>\n",
       "    </tr>\n",
       "    <tr>\n",
       "      <th>3835764</th>\n",
       "      <td>이데일리언론사 선정</td>\n",
       "      <td>1단</td>\n",
       "      <td>반도체 투심 회복에…소부장주도 '화색'</td>\n",
       "    </tr>\n",
       "    <tr>\n",
       "      <th>3837431</th>\n",
       "      <td>스포츠조선</td>\n",
       "      <td>1단</td>\n",
       "      <td>LF 트라이씨클, 간편결제 혜택 확대</td>\n",
       "    </tr>\n",
       "    <tr>\n",
       "      <th>3843071</th>\n",
       "      <td>연합뉴스</td>\n",
       "      <td>1단</td>\n",
       "      <td>&lt;備忘錄&gt;현대그룹 전자부문 본격강화, 삼성 긴장</td>\n",
       "    </tr>\n",
       "    <tr>\n",
       "      <th>3847638</th>\n",
       "      <td>연합뉴스</td>\n",
       "      <td>1단</td>\n",
       "      <td>&lt;주식시황&gt; 종합지수 7백선 무너져</td>\n",
       "    </tr>\n",
       "  </tbody>\n",
       "</table>\n",
       "<p>615 rows × 3 columns</p>\n",
       "</div>"
      ],
      "text/plain": [
       "              Press     Date                                        Title\n",
       "234668         이데일리    재정경제부                   다양한 신 금융상품 설계 · 판매로 경쟁력 강화\n",
       "239789       파이낸셜뉴스    국가정보원                                  ELW 개인손실 크다\n",
       "241111          YTN      농림부                                  화물연대 총파업 돌입\n",
       "241601          한겨레  공정거래위원회           [2006 혁신 경영인 대상] HR 컨텐츠 개발. 서비스 선도\n",
       "241975          MBN  공정거래위원회                      MBC게임, POS팀 인수 프로게임단 창단\n",
       "...             ...      ...                                          ...\n",
       "3832231        연합뉴스       1단  갤럭시 워치4 시리즈용 '원UI 워치 4.5' 주요 기능 소개.. 3분기 출시\n",
       "3835764  이데일리언론사 선정       1단                        반도체 투심 회복에…소부장주도 '화색'\n",
       "3837431       스포츠조선       1단                         LF 트라이씨클, 간편결제 혜택 확대\n",
       "3843071        연합뉴스       1단                   <備忘錄>현대그룹 전자부문 본격강화, 삼성 긴장\n",
       "3847638        연합뉴스       1단                          <주식시황> 종합지수 7백선 무너져\n",
       "\n",
       "[615 rows x 3 columns]"
      ]
     },
     "execution_count": 123,
     "metadata": {},
     "output_type": "execute_result"
    }
   ],
   "source": [
    "df[df[\"Date\"].str.contains('(\\d*[가-힣])')==True]"
   ]
  },
  {
   "cell_type": "code",
   "execution_count": 124,
   "metadata": {},
   "outputs": [
    {
     "name": "stderr",
     "output_type": "stream",
     "text": [
      "/var/folders/dw/h996rvzd3dgfxkgv5h6l_qcm0000gn/T/ipykernel_70101/1807846569.py:1: FutureWarning: The default value of regex will change from True to False in a future version.\n",
      "  df[\"Date\"] = df[\"Date\"].str.replace('(\\d*[가-힣])', \"\")\n"
     ]
    }
   ],
   "source": [
    "df[\"Date\"] = df[\"Date\"].str.replace('(\\d*[가-힣])', \"\")\n",
    "df[\"Date\"].replace('', np.nan, inplace=True)"
   ]
  },
  {
   "cell_type": "code",
   "execution_count": 125,
   "metadata": {},
   "outputs": [
    {
     "name": "stderr",
     "output_type": "stream",
     "text": [
      "/var/folders/dw/h996rvzd3dgfxkgv5h6l_qcm0000gn/T/ipykernel_70101/1138176669.py:1: UserWarning: This pattern is interpreted as a regular expression, and has match groups. To actually get the groups, use str.extract.\n",
      "  df[df[\"Date\"].str.contains('(\\d*[가-힣])')==True]\n"
     ]
    },
    {
     "data": {
      "text/html": [
       "<div>\n",
       "<style scoped>\n",
       "    .dataframe tbody tr th:only-of-type {\n",
       "        vertical-align: middle;\n",
       "    }\n",
       "\n",
       "    .dataframe tbody tr th {\n",
       "        vertical-align: top;\n",
       "    }\n",
       "\n",
       "    .dataframe thead th {\n",
       "        text-align: right;\n",
       "    }\n",
       "</style>\n",
       "<table border=\"1\" class=\"dataframe\">\n",
       "  <thead>\n",
       "    <tr style=\"text-align: right;\">\n",
       "      <th></th>\n",
       "      <th>Press</th>\n",
       "      <th>Date</th>\n",
       "      <th>Title</th>\n",
       "    </tr>\n",
       "  </thead>\n",
       "  <tbody>\n",
       "  </tbody>\n",
       "</table>\n",
       "</div>"
      ],
      "text/plain": [
       "Empty DataFrame\n",
       "Columns: [Press, Date, Title]\n",
       "Index: []"
      ]
     },
     "execution_count": 125,
     "metadata": {},
     "output_type": "execute_result"
    }
   ],
   "source": [
    "df[df[\"Date\"].str.contains('(\\d*[가-힣])')==True]"
   ]
  },
  {
   "cell_type": "code",
   "execution_count": 127,
   "metadata": {},
   "outputs": [
    {
     "data": {
      "text/html": [
       "<div>\n",
       "<style scoped>\n",
       "    .dataframe tbody tr th:only-of-type {\n",
       "        vertical-align: middle;\n",
       "    }\n",
       "\n",
       "    .dataframe tbody tr th {\n",
       "        vertical-align: top;\n",
       "    }\n",
       "\n",
       "    .dataframe thead th {\n",
       "        text-align: right;\n",
       "    }\n",
       "</style>\n",
       "<table border=\"1\" class=\"dataframe\">\n",
       "  <thead>\n",
       "    <tr style=\"text-align: right;\">\n",
       "      <th></th>\n",
       "      <th>Press</th>\n",
       "      <th>Date</th>\n",
       "      <th>Title</th>\n",
       "    </tr>\n",
       "  </thead>\n",
       "  <tbody>\n",
       "  </tbody>\n",
       "</table>\n",
       "</div>"
      ],
      "text/plain": [
       "Empty DataFrame\n",
       "Columns: [Press, Date, Title]\n",
       "Index: []"
      ]
     },
     "execution_count": 127,
     "metadata": {},
     "output_type": "execute_result"
    }
   ],
   "source": [
    "df[df[\"Date\"].str.contains('[a-zA-Z]')==True]"
   ]
  },
  {
   "cell_type": "code",
   "execution_count": 128,
   "metadata": {},
   "outputs": [],
   "source": [
    "df.fillna(method='ffill', inplace=True)"
   ]
  },
  {
   "cell_type": "code",
   "execution_count": 129,
   "metadata": {},
   "outputs": [
    {
     "data": {
      "text/plain": [
       "False"
      ]
     },
     "execution_count": 129,
     "metadata": {},
     "output_type": "execute_result"
    }
   ],
   "source": [
    "df.isnull().values.any()"
   ]
  },
  {
   "cell_type": "markdown",
   "metadata": {},
   "source": [
    "한 날짜에 기사수가 너무 많은 경우 공간만 낭비하는 아웃라이더일 가능성이 높기 때문에 제거해 주기"
   ]
  },
  {
   "cell_type": "code",
   "execution_count": null,
   "metadata": {},
   "outputs": [],
   "source": []
  },
  {
   "cell_type": "code",
   "execution_count": 158,
   "metadata": {},
   "outputs": [
    {
     "data": {
      "text/plain": [
       "2016.12.06.    42061\n",
       "2017.08.25.    23659\n",
       "2016.10.27.    10042\n",
       "2021.01.15.     5866\n",
       "2018.02.05.     5583\n",
       "               ...  \n",
       "1999.08.08.        1\n",
       "1999.12.05.        1\n",
       "1999.08.09.        1\n",
       "1998.07.05.        1\n",
       "1998.10.06.        1\n",
       "Name: Date, Length: 8697, dtype: int64"
      ]
     },
     "execution_count": 158,
     "metadata": {},
     "output_type": "execute_result"
    }
   ],
   "source": [
    "df.Date.value_counts()"
   ]
  },
  {
   "cell_type": "code",
   "execution_count": 160,
   "metadata": {},
   "outputs": [],
   "source": [
    "max_num = max(df.Date.value_counts())"
   ]
  },
  {
   "cell_type": "code",
   "execution_count": 161,
   "metadata": {},
   "outputs": [
    {
     "data": {
      "text/plain": [
       "<AxesSubplot:ylabel='Frequency'>"
      ]
     },
     "execution_count": 161,
     "metadata": {},
     "output_type": "execute_result"
    },
    {
     "data": {
      "image/png": "[encoded data removed]",
      "text/plain": [
       "<Figure size 432x288 with 1 Axes>"
      ]
     },
     "metadata": {
      "needs_background": "light"
     },
     "output_type": "display_data"
    }
   ],
   "source": [
    "bins = np.arange(0, max_num, 100)\n",
    "df.Date.value_counts().plot(kind='hist', bins=bins)"
   ]
  },
  {
   "cell_type": "code",
   "execution_count": 203,
   "metadata": {},
   "outputs": [],
   "source": [
    "outliers = (df[\"Date\"].value_counts() > 5000)"
   ]
  },
  {
   "cell_type": "code",
   "execution_count": 204,
   "metadata": {},
   "outputs": [
    {
     "data": {
      "text/plain": [
       "False    8691\n",
       "True        6\n",
       "Name: Date, dtype: int64"
      ]
     },
     "execution_count": 204,
     "metadata": {},
     "output_type": "execute_result"
    }
   ],
   "source": [
    "outliers.value_counts()"
   ]
  },
  {
   "cell_type": "code",
   "execution_count": 201,
   "metadata": {},
   "outputs": [
    {
     "data": {
      "text/plain": [
       "2016.12.06.     True\n",
       "2017.08.25.     True\n",
       "2016.10.27.     True\n",
       "2021.01.15.     True\n",
       "2018.02.05.     True\n",
       "               ...  \n",
       "1999.08.08.    False\n",
       "1999.12.05.    False\n",
       "1999.08.09.    False\n",
       "1998.07.05.    False\n",
       "1998.10.06.    False\n",
       "Name: Date, Length: 8697, dtype: bool"
      ]
     },
     "execution_count": 201,
     "metadata": {},
     "output_type": "execute_result"
    }
   ],
   "source": [
    "outliers"
   ]
  },
  {
   "cell_type": "code",
   "execution_count": 207,
   "metadata": {},
   "outputs": [],
   "source": [
    "outliers = outliers.reset_index()"
   ]
  },
  {
   "cell_type": "code",
   "execution_count": 208,
   "metadata": {},
   "outputs": [
    {
     "data": {
      "text/html": [
       "<div>\n",
       "<style scoped>\n",
       "    .dataframe tbody tr th:only-of-type {\n",
       "        vertical-align: middle;\n",
       "    }\n",
       "\n",
       "    .dataframe tbody tr th {\n",
       "        vertical-align: top;\n",
       "    }\n",
       "\n",
       "    .dataframe thead th {\n",
       "        text-align: right;\n",
       "    }\n",
       "</style>\n",
       "<table border=\"1\" class=\"dataframe\">\n",
       "  <thead>\n",
       "    <tr style=\"text-align: right;\">\n",
       "      <th></th>\n",
       "      <th>index</th>\n",
       "      <th>Date</th>\n",
       "    </tr>\n",
       "  </thead>\n",
       "  <tbody>\n",
       "    <tr>\n",
       "      <th>0</th>\n",
       "      <td>2016.12.06.</td>\n",
       "      <td>True</td>\n",
       "    </tr>\n",
       "    <tr>\n",
       "      <th>1</th>\n",
       "      <td>2017.08.25.</td>\n",
       "      <td>True</td>\n",
       "    </tr>\n",
       "    <tr>\n",
       "      <th>2</th>\n",
       "      <td>2016.10.27.</td>\n",
       "      <td>True</td>\n",
       "    </tr>\n",
       "    <tr>\n",
       "      <th>3</th>\n",
       "      <td>2021.01.15.</td>\n",
       "      <td>True</td>\n",
       "    </tr>\n",
       "    <tr>\n",
       "      <th>4</th>\n",
       "      <td>2018.02.05.</td>\n",
       "      <td>True</td>\n",
       "    </tr>\n",
       "    <tr>\n",
       "      <th>...</th>\n",
       "      <td>...</td>\n",
       "      <td>...</td>\n",
       "    </tr>\n",
       "    <tr>\n",
       "      <th>8692</th>\n",
       "      <td>1999.08.08.</td>\n",
       "      <td>False</td>\n",
       "    </tr>\n",
       "    <tr>\n",
       "      <th>8693</th>\n",
       "      <td>1999.12.05.</td>\n",
       "      <td>False</td>\n",
       "    </tr>\n",
       "    <tr>\n",
       "      <th>8694</th>\n",
       "      <td>1999.08.09.</td>\n",
       "      <td>False</td>\n",
       "    </tr>\n",
       "    <tr>\n",
       "      <th>8695</th>\n",
       "      <td>1998.07.05.</td>\n",
       "      <td>False</td>\n",
       "    </tr>\n",
       "    <tr>\n",
       "      <th>8696</th>\n",
       "      <td>1998.10.06.</td>\n",
       "      <td>False</td>\n",
       "    </tr>\n",
       "  </tbody>\n",
       "</table>\n",
       "<p>8697 rows × 2 columns</p>\n",
       "</div>"
      ],
      "text/plain": [
       "            index   Date\n",
       "0     2016.12.06.   True\n",
       "1     2017.08.25.   True\n",
       "2     2016.10.27.   True\n",
       "3     2021.01.15.   True\n",
       "4     2018.02.05.   True\n",
       "...           ...    ...\n",
       "8692  1999.08.08.  False\n",
       "8693  1999.12.05.  False\n",
       "8694  1999.08.09.  False\n",
       "8695  1998.07.05.  False\n",
       "8696  1998.10.06.  False\n",
       "\n",
       "[8697 rows x 2 columns]"
      ]
     },
     "execution_count": 208,
     "metadata": {},
     "output_type": "execute_result"
    }
   ],
   "source": [
    "outliers"
   ]
  },
  {
   "cell_type": "code",
   "execution_count": 222,
   "metadata": {},
   "outputs": [],
   "source": [
    "list_outliers = outliers[outliers[\"Date\"] == True]\n",
    "list_outliers = list_outliers[\"index\"]"
   ]
  },
  {
   "cell_type": "code",
   "execution_count": 223,
   "metadata": {},
   "outputs": [
    {
     "data": {
      "text/plain": [
       "array(['2016.12.06.', '2017.08.25.', '2016.10.27.', '2021.01.15.',\n",
       "       '2018.02.05.', '2020.10.25.'], dtype=object)"
      ]
     },
     "execution_count": 223,
     "metadata": {},
     "output_type": "execute_result"
    }
   ],
   "source": [
    "list_outliers = list_outliers.values\n",
    "list_outliers"
   ]
  },
  {
   "cell_type": "code",
   "execution_count": 224,
   "metadata": {},
   "outputs": [
    {
     "data": {
      "text/plain": [
       "'2016.12.06.'"
      ]
     },
     "execution_count": 224,
     "metadata": {},
     "output_type": "execute_result"
    }
   ],
   "source": [
    "list_outliers[0]"
   ]
  },
  {
   "cell_type": "code",
   "execution_count": 225,
   "metadata": {},
   "outputs": [],
   "source": [
    "idx_outliers = []\n",
    "for i in list_outliers:\n",
    "    idx_outlier = df[df[\"Date\"] == i].index\n",
    "    idx_outliers.append(idx_outlier)"
   ]
  },
  {
   "cell_type": "code",
   "execution_count": 232,
   "metadata": {},
   "outputs": [
    {
     "data": {
      "text/plain": [
       "[Int64Index([2078350, 2078351, 2078352, 2078353, 2078354, 2078355, 2078356,\n",
       "             2078357, 2078358, 2078359,\n",
       "             ...\n",
       "             2120401, 2120402, 2120403, 2120404, 2120405, 2120406, 2120407,\n",
       "             2120408, 2120409, 2120410],\n",
       "            dtype='int64', length=42061),\n",
       " Int64Index([2366225, 2366226, 2366227, 2366228, 2366229, 2366230, 2366231,\n",
       "             2366232, 2366233, 2366234,\n",
       "             ...\n",
       "             2389874, 2389875, 2389876, 2389877, 2389878, 2389879, 2389880,\n",
       "             2389881, 2389882, 2389883],\n",
       "            dtype='int64', length=23659),\n",
       " Int64Index([2031064, 2031065, 2031066, 2031067, 2031068, 2031069, 2031070,\n",
       "             2031071, 2031072, 2031073,\n",
       "             ...\n",
       "             2046467, 2046468, 2046469, 2046470, 2046471, 2046472, 2046473,\n",
       "             2046474, 2046475, 2046476],\n",
       "            dtype='int64', length=10042),\n",
       " Int64Index([3358676, 3358677, 3358678, 3358679, 3358680, 3358681, 3358682,\n",
       "             3358683, 3358684, 3358685,\n",
       "             ...\n",
       "             3379464, 3379465, 3379466, 3379467, 3379468, 3379469, 3379470,\n",
       "             3379471, 3379472, 3379473],\n",
       "            dtype='int64', length=5866),\n",
       " Int64Index([2505609, 2505610, 2505611, 2505612, 2505613, 2505614, 2505615,\n",
       "             2505616, 2505617, 2505618,\n",
       "             ...\n",
       "             2511182, 2511183, 2511184, 2511185, 2511186, 2511187, 2511188,\n",
       "             2511189, 2511190, 2511191],\n",
       "            dtype='int64', length=5583),\n",
       " Int64Index([3279099, 3279100, 3279101, 3279102, 3279103, 3279104, 3279105,\n",
       "             3279106, 3279107, 3279108,\n",
       "             ...\n",
       "             3284500, 3284501, 3284502, 3284503, 3284504, 3284505, 3284506,\n",
       "             3284507, 3284508, 3284509],\n",
       "            dtype='int64', length=5411)]"
      ]
     },
     "execution_count": 232,
     "metadata": {},
     "output_type": "execute_result"
    }
   ],
   "source": [
    "idx_outliers"
   ]
  },
  {
   "cell_type": "code",
   "execution_count": 234,
   "metadata": {},
   "outputs": [
    {
     "data": {
      "text/plain": [
       "[2078350,\n",
       " 2078351,\n",
       " 2078352,\n",
       " 2078353,\n",
       " 2078354,\n",
       " 2078355,\n",
       " 2078356,\n",
       " 2078357,\n",
       " 2078358,\n",
       " 2078359,\n",
       " 2078360,\n",
       " 2078361,\n",
       " 2078362,\n",
       " 2078363,\n",
       " 2078364,\n",
       " 2078365,\n",
       " 2078366,\n",
       " 2078367,\n",
       " 2078368,\n",
       " 2078369,\n",
       " 2078370,\n",
       " 2078371,\n",
       " 2078372,\n",
       " 2078373,\n",
       " 2078374,\n",
       " 2078375,\n",
       " 2078376,\n",
       " 2078377,\n",
       " 2078378,\n",
       " 2078379,\n",
       " 2078380,\n",
       " 2078381,\n",
       " 2078382,\n",
       " 2078383,\n",
       " 2078384,\n",
       " 2078385,\n",
       " 2078386,\n",
       " 2078387,\n",
       " 2078388,\n",
       " 2078389,\n",
       " 2078390,\n",
       " 2078391,\n",
       " 2078392,\n",
       " 2078393,\n",
       " 2078394,\n",
       " 2078395,\n",
       " 2078396,\n",
       " 2078397,\n",
       " 2078398,\n",
       " 2078399,\n",
       " 2078400,\n",
       " 2078401,\n",
       " 2078402,\n",
       " 2078403,\n",
       " 2078404,\n",
       " 2078405,\n",
       " 2078406,\n",
       " 2078407,\n",
       " 2078408,\n",
       " 2078409,\n",
       " 2078410,\n",
       " 2078411,\n",
       " 2078412,\n",
       " 2078413,\n",
       " 2078414,\n",
       " 2078415,\n",
       " 2078416,\n",
       " 2078417,\n",
       " 2078418,\n",
       " 2078419,\n",
       " 2078420,\n",
       " 2078421,\n",
       " 2078422,\n",
       " 2078423,\n",
       " 2078424,\n",
       " 2078425,\n",
       " 2078426,\n",
       " 2078427,\n",
       " 2078428,\n",
       " 2078429,\n",
       " 2078430,\n",
       " 2078431,\n",
       " 2078432,\n",
       " 2078433,\n",
       " 2078434,\n",
       " 2078435,\n",
       " 2078436,\n",
       " 2078437,\n",
       " 2078438,\n",
       " 2078439,\n",
       " 2078440,\n",
       " 2078441,\n",
       " 2078442,\n",
       " 2078443,\n",
       " 2078444,\n",
       " 2078445,\n",
       " 2078446,\n",
       " 2078447,\n",
       " 2078448,\n",
       " 2078449,\n",
       " 2078450,\n",
       " 2078451,\n",
       " 2078452,\n",
       " 2078453,\n",
       " 2078454,\n",
       " 2078455,\n",
       " 2078456,\n",
       " 2078457,\n",
       " 2078458,\n",
       " 2078459,\n",
       " 2078460,\n",
       " 2078461,\n",
       " 2078462,\n",
       " 2078463,\n",
       " 2078464,\n",
       " 2078465,\n",
       " 2078466,\n",
       " 2078467,\n",
       " 2078468,\n",
       " 2078469,\n",
       " 2078470,\n",
       " 2078471,\n",
       " 2078472,\n",
       " 2078473,\n",
       " 2078474,\n",
       " 2078475,\n",
       " 2078476,\n",
       " 2078477,\n",
       " 2078478,\n",
       " 2078479,\n",
       " 2078480,\n",
       " 2078481,\n",
       " 2078482,\n",
       " 2078483,\n",
       " 2078484,\n",
       " 2078485,\n",
       " 2078486,\n",
       " 2078487,\n",
       " 2078488,\n",
       " 2078489,\n",
       " 2078490,\n",
       " 2078491,\n",
       " 2078492,\n",
       " 2078493,\n",
       " 2078494,\n",
       " 2078495,\n",
       " 2078496,\n",
       " 2078497,\n",
       " 2078498,\n",
       " 2078499,\n",
       " 2078500,\n",
       " 2078501,\n",
       " 2078502,\n",
       " 2078503,\n",
       " 2078504,\n",
       " 2078505,\n",
       " 2078506,\n",
       " 2078507,\n",
       " 2078508,\n",
       " 2078509,\n",
       " 2078510,\n",
       " 2078511,\n",
       " 2078512,\n",
       " 2078513,\n",
       " 2078514,\n",
       " 2078515,\n",
       " 2078516,\n",
       " 2078517,\n",
       " 2078518,\n",
       " 2078519,\n",
       " 2078520,\n",
       " 2078521,\n",
       " 2078522,\n",
       " 2078523,\n",
       " 2078524,\n",
       " 2078525,\n",
       " 2078526,\n",
       " 2078527,\n",
       " 2078528,\n",
       " 2078529,\n",
       " 2078530,\n",
       " 2078531,\n",
       " 2078532,\n",
       " 2078533,\n",
       " 2078534,\n",
       " 2078535,\n",
       " 2078536,\n",
       " 2078537,\n",
       " 2078538,\n",
       " 2078539,\n",
       " 2078540,\n",
       " 2078541,\n",
       " 2078542,\n",
       " 2078543,\n",
       " 2078544,\n",
       " 2078545,\n",
       " 2078546,\n",
       " 2078547,\n",
       " 2078548,\n",
       " 2078549,\n",
       " 2078550,\n",
       " 2078551,\n",
       " 2078552,\n",
       " 2078553,\n",
       " 2078554,\n",
       " 2078555,\n",
       " 2078556,\n",
       " 2078557,\n",
       " 2078558,\n",
       " 2078559,\n",
       " 2078560,\n",
       " 2078561,\n",
       " 2078562,\n",
       " 2078563,\n",
       " 2078564,\n",
       " 2078565,\n",
       " 2078566,\n",
       " 2078567,\n",
       " 2078568,\n",
       " 2078569,\n",
       " 2078570,\n",
       " 2078571,\n",
       " 2078572,\n",
       " 2078573,\n",
       " 2078574,\n",
       " 2078575,\n",
       " 2078576,\n",
       " 2078577,\n",
       " 2078578,\n",
       " 2078579,\n",
       " 2078580,\n",
       " 2078581,\n",
       " 2078582,\n",
       " 2078583,\n",
       " 2078584,\n",
       " 2078585,\n",
       " 2078586,\n",
       " 2078587,\n",
       " 2078588,\n",
       " 2078589,\n",
       " 2078590,\n",
       " 2078591,\n",
       " 2078592,\n",
       " 2078593,\n",
       " 2078594,\n",
       " 2078595,\n",
       " 2078596,\n",
       " 2078597,\n",
       " 2078598,\n",
       " 2078599,\n",
       " 2078600,\n",
       " 2078601,\n",
       " 2078602,\n",
       " 2078603,\n",
       " 2078604,\n",
       " 2078605,\n",
       " 2078606,\n",
       " 2078607,\n",
       " 2078608,\n",
       " 2078609,\n",
       " 2078610,\n",
       " 2078611,\n",
       " 2078612,\n",
       " 2078613,\n",
       " 2078614,\n",
       " 2078615,\n",
       " 2078616,\n",
       " 2078617,\n",
       " 2078618,\n",
       " 2078619,\n",
       " 2078620,\n",
       " 2078621,\n",
       " 2078622,\n",
       " 2078623,\n",
       " 2078624,\n",
       " 2078625,\n",
       " 2078626,\n",
       " 2078627,\n",
       " 2078628,\n",
       " 2078629,\n",
       " 2078630,\n",
       " 2078631,\n",
       " 2078632,\n",
       " 2078633,\n",
       " 2078634,\n",
       " 2078635,\n",
       " 2078636,\n",
       " 2078637,\n",
       " 2078638,\n",
       " 2078639,\n",
       " 2078640,\n",
       " 2078641,\n",
       " 2078642,\n",
       " 2078643,\n",
       " 2078644,\n",
       " 2078645,\n",
       " 2078646,\n",
       " 2078647,\n",
       " 2078648,\n",
       " 2078649,\n",
       " 2078650,\n",
       " 2078651,\n",
       " 2078652,\n",
       " 2078653,\n",
       " 2078654,\n",
       " 2078655,\n",
       " 2078656,\n",
       " 2078657,\n",
       " 2078658,\n",
       " 2078659,\n",
       " 2078660,\n",
       " 2078661,\n",
       " 2078662,\n",
       " 2078663,\n",
       " 2078664,\n",
       " 2078665,\n",
       " 2078666,\n",
       " 2078667,\n",
       " 2078668,\n",
       " 2078669,\n",
       " 2078670,\n",
       " 2078671,\n",
       " 2078672,\n",
       " 2078673,\n",
       " 2078674,\n",
       " 2078675,\n",
       " 2078676,\n",
       " 2078677,\n",
       " 2078678,\n",
       " 2078679,\n",
       " 2078680,\n",
       " 2078681,\n",
       " 2078682,\n",
       " 2078683,\n",
       " 2078684,\n",
       " 2078685,\n",
       " 2078686,\n",
       " 2078687,\n",
       " 2078688,\n",
       " 2078689,\n",
       " 2078690,\n",
       " 2078691,\n",
       " 2078692,\n",
       " 2078693,\n",
       " 2078694,\n",
       " 2078695,\n",
       " 2078696,\n",
       " 2078697,\n",
       " 2078698,\n",
       " 2078699,\n",
       " 2078700,\n",
       " 2078701,\n",
       " 2078702,\n",
       " 2078703,\n",
       " 2078704,\n",
       " 2078705,\n",
       " 2078706,\n",
       " 2078707,\n",
       " 2078708,\n",
       " 2078709,\n",
       " 2078710,\n",
       " 2078711,\n",
       " 2078712,\n",
       " 2078713,\n",
       " 2078714,\n",
       " 2078715,\n",
       " 2078716,\n",
       " 2078717,\n",
       " 2078718,\n",
       " 2078719,\n",
       " 2078720,\n",
       " 2078721,\n",
       " 2078722,\n",
       " 2078723,\n",
       " 2078724,\n",
       " 2078725,\n",
       " 2078726,\n",
       " 2078727,\n",
       " 2078728,\n",
       " 2078729,\n",
       " 2078730,\n",
       " 2078731,\n",
       " 2078732,\n",
       " 2078733,\n",
       " 2078734,\n",
       " 2078735,\n",
       " 2078736,\n",
       " 2078737,\n",
       " 2078738,\n",
       " 2078739,\n",
       " 2078740,\n",
       " 2078741,\n",
       " 2078742,\n",
       " 2078743,\n",
       " 2078744,\n",
       " 2078745,\n",
       " 2078746,\n",
       " 2078747,\n",
       " 2078748,\n",
       " 2078749,\n",
       " 2078750,\n",
       " 2078751,\n",
       " 2078752,\n",
       " 2078753,\n",
       " 2078754,\n",
       " 2078755,\n",
       " 2078756,\n",
       " 2078757,\n",
       " 2078758,\n",
       " 2078759,\n",
       " 2078760,\n",
       " 2078761,\n",
       " 2078762,\n",
       " 2078763,\n",
       " 2078764,\n",
       " 2078765,\n",
       " 2078766,\n",
       " 2078767,\n",
       " 2078768,\n",
       " 2078769,\n",
       " 2078770,\n",
       " 2078771,\n",
       " 2078772,\n",
       " 2078773,\n",
       " 2078774,\n",
       " 2078775,\n",
       " 2078776,\n",
       " 2078777,\n",
       " 2078778,\n",
       " 2078779,\n",
       " 2078780,\n",
       " 2078781,\n",
       " 2078782,\n",
       " 2078783,\n",
       " 2078784,\n",
       " 2078785,\n",
       " 2078786,\n",
       " 2078787,\n",
       " 2078788,\n",
       " 2078789,\n",
       " 2078790,\n",
       " 2078791,\n",
       " 2078792,\n",
       " 2078793,\n",
       " 2078794,\n",
       " 2078795,\n",
       " 2078796,\n",
       " 2078797,\n",
       " 2078798,\n",
       " 2078799,\n",
       " 2078800,\n",
       " 2078801,\n",
       " 2078802,\n",
       " 2078803,\n",
       " 2078804,\n",
       " 2078805,\n",
       " 2078806,\n",
       " 2078807,\n",
       " 2078808,\n",
       " 2078809,\n",
       " 2078810,\n",
       " 2078811,\n",
       " 2078812,\n",
       " 2078813,\n",
       " 2078814,\n",
       " 2078815,\n",
       " 2078816,\n",
       " 2078817,\n",
       " 2078818,\n",
       " 2078819,\n",
       " 2078820,\n",
       " 2078821,\n",
       " 2078822,\n",
       " 2078823,\n",
       " 2078824,\n",
       " 2078825,\n",
       " 2078826,\n",
       " 2078827,\n",
       " 2078828,\n",
       " 2078829,\n",
       " 2078830,\n",
       " 2078831,\n",
       " 2078832,\n",
       " 2078833,\n",
       " 2078834,\n",
       " 2078835,\n",
       " 2078836,\n",
       " 2078837,\n",
       " 2078838,\n",
       " 2078839,\n",
       " 2078840,\n",
       " 2078841,\n",
       " 2078842,\n",
       " 2078843,\n",
       " 2078844,\n",
       " 2078845,\n",
       " 2078846,\n",
       " 2078847,\n",
       " 2078848,\n",
       " 2078849,\n",
       " 2078850,\n",
       " 2078851,\n",
       " 2078852,\n",
       " 2078853,\n",
       " 2078854,\n",
       " 2078855,\n",
       " 2078856,\n",
       " 2078857,\n",
       " 2078858,\n",
       " 2078859,\n",
       " 2078860,\n",
       " 2078861,\n",
       " 2078862,\n",
       " 2078863,\n",
       " 2078864,\n",
       " 2078865,\n",
       " 2078866,\n",
       " 2078867,\n",
       " 2078868,\n",
       " 2078869,\n",
       " 2078870,\n",
       " 2078871,\n",
       " 2078872,\n",
       " 2078873,\n",
       " 2078874,\n",
       " 2078875,\n",
       " 2078876,\n",
       " 2078877,\n",
       " 2078878,\n",
       " 2078879,\n",
       " 2078880,\n",
       " 2078881,\n",
       " 2078882,\n",
       " 2078883,\n",
       " 2078884,\n",
       " 2078885,\n",
       " 2078886,\n",
       " 2078887,\n",
       " 2078888,\n",
       " 2078889,\n",
       " 2078890,\n",
       " 2078891,\n",
       " 2078892,\n",
       " 2078893,\n",
       " 2078894,\n",
       " 2078895,\n",
       " 2078896,\n",
       " 2078897,\n",
       " 2078898,\n",
       " 2078899,\n",
       " 2078900,\n",
       " 2078901,\n",
       " 2078902,\n",
       " 2078903,\n",
       " 2078904,\n",
       " 2078905,\n",
       " 2078906,\n",
       " 2078907,\n",
       " 2078908,\n",
       " 2078909,\n",
       " 2078910,\n",
       " 2078911,\n",
       " 2078912,\n",
       " 2078913,\n",
       " 2078914,\n",
       " 2078915,\n",
       " 2078916,\n",
       " 2078917,\n",
       " 2078918,\n",
       " 2078919,\n",
       " 2078920,\n",
       " 2078921,\n",
       " 2078922,\n",
       " 2078923,\n",
       " 2078924,\n",
       " 2078925,\n",
       " 2078926,\n",
       " 2078927,\n",
       " 2078928,\n",
       " 2078929,\n",
       " 2078930,\n",
       " 2078931,\n",
       " 2078932,\n",
       " 2078933,\n",
       " 2078934,\n",
       " 2078935,\n",
       " 2078936,\n",
       " 2078937,\n",
       " 2078938,\n",
       " 2078939,\n",
       " 2078940,\n",
       " 2078941,\n",
       " 2078942,\n",
       " 2078943,\n",
       " 2078944,\n",
       " 2078945,\n",
       " 2078946,\n",
       " 2078947,\n",
       " 2078948,\n",
       " 2078949,\n",
       " 2078950,\n",
       " 2078951,\n",
       " 2078952,\n",
       " 2078953,\n",
       " 2078954,\n",
       " 2078955,\n",
       " 2078956,\n",
       " 2078957,\n",
       " 2078958,\n",
       " 2078959,\n",
       " 2078960,\n",
       " 2078961,\n",
       " 2078962,\n",
       " 2078963,\n",
       " 2078964,\n",
       " 2078965,\n",
       " 2078966,\n",
       " 2078967,\n",
       " 2078968,\n",
       " 2078969,\n",
       " 2078970,\n",
       " 2078971,\n",
       " 2078972,\n",
       " 2078973,\n",
       " 2078974,\n",
       " 2078975,\n",
       " 2078976,\n",
       " 2078977,\n",
       " 2078978,\n",
       " 2078979,\n",
       " 2078980,\n",
       " 2078981,\n",
       " 2078982,\n",
       " 2078983,\n",
       " 2078984,\n",
       " 2078985,\n",
       " 2078986,\n",
       " 2078987,\n",
       " 2078988,\n",
       " 2078989,\n",
       " 2078990,\n",
       " 2078991,\n",
       " 2078992,\n",
       " 2078993,\n",
       " 2078994,\n",
       " 2078995,\n",
       " 2078996,\n",
       " 2078997,\n",
       " 2078998,\n",
       " 2078999,\n",
       " 2079000,\n",
       " 2079001,\n",
       " 2079002,\n",
       " 2079003,\n",
       " 2079004,\n",
       " 2079005,\n",
       " 2079006,\n",
       " 2079007,\n",
       " 2079008,\n",
       " 2079009,\n",
       " 2079010,\n",
       " 2079011,\n",
       " 2079012,\n",
       " 2079013,\n",
       " 2079014,\n",
       " 2079015,\n",
       " 2079016,\n",
       " 2079017,\n",
       " 2079018,\n",
       " 2079019,\n",
       " 2079020,\n",
       " 2079021,\n",
       " 2079022,\n",
       " 2079023,\n",
       " 2079024,\n",
       " 2079025,\n",
       " 2079026,\n",
       " 2079027,\n",
       " 2079028,\n",
       " 2079029,\n",
       " 2079030,\n",
       " 2079031,\n",
       " 2079032,\n",
       " 2079033,\n",
       " 2079034,\n",
       " 2079035,\n",
       " 2079036,\n",
       " 2079037,\n",
       " 2079038,\n",
       " 2079039,\n",
       " 2079040,\n",
       " 2079041,\n",
       " 2079042,\n",
       " 2079043,\n",
       " 2079044,\n",
       " 2079045,\n",
       " 2079046,\n",
       " 2079047,\n",
       " 2079048,\n",
       " 2079049,\n",
       " 2079050,\n",
       " 2079051,\n",
       " 2079052,\n",
       " 2079053,\n",
       " 2079054,\n",
       " 2079055,\n",
       " 2079056,\n",
       " 2079057,\n",
       " 2079058,\n",
       " 2079059,\n",
       " 2079060,\n",
       " 2079061,\n",
       " 2079062,\n",
       " 2079063,\n",
       " 2079064,\n",
       " 2079065,\n",
       " 2079066,\n",
       " 2079067,\n",
       " 2079068,\n",
       " 2079069,\n",
       " 2079070,\n",
       " 2079071,\n",
       " 2079072,\n",
       " 2079073,\n",
       " 2079074,\n",
       " 2079075,\n",
       " 2079076,\n",
       " 2079077,\n",
       " 2079078,\n",
       " 2079079,\n",
       " 2079080,\n",
       " 2079081,\n",
       " 2079082,\n",
       " 2079083,\n",
       " 2079084,\n",
       " 2079085,\n",
       " 2079086,\n",
       " 2079087,\n",
       " 2079088,\n",
       " 2079089,\n",
       " 2079090,\n",
       " 2079091,\n",
       " 2079092,\n",
       " 2079093,\n",
       " 2079094,\n",
       " 2079095,\n",
       " 2079096,\n",
       " 2079097,\n",
       " 2079098,\n",
       " 2079099,\n",
       " 2079100,\n",
       " 2079101,\n",
       " 2079102,\n",
       " 2079103,\n",
       " 2079104,\n",
       " 2079105,\n",
       " 2079106,\n",
       " 2079107,\n",
       " 2079108,\n",
       " 2079109,\n",
       " 2079110,\n",
       " 2079111,\n",
       " 2079112,\n",
       " 2079113,\n",
       " 2079114,\n",
       " 2079115,\n",
       " 2079116,\n",
       " 2079117,\n",
       " 2079118,\n",
       " 2079119,\n",
       " 2079120,\n",
       " 2079121,\n",
       " 2079122,\n",
       " 2079123,\n",
       " 2079124,\n",
       " 2079125,\n",
       " 2079126,\n",
       " 2079127,\n",
       " 2079128,\n",
       " 2079129,\n",
       " 2079130,\n",
       " 2079131,\n",
       " 2079132,\n",
       " 2079133,\n",
       " 2079134,\n",
       " 2079135,\n",
       " 2079136,\n",
       " 2079137,\n",
       " 2079138,\n",
       " 2079139,\n",
       " 2079140,\n",
       " 2079141,\n",
       " 2079142,\n",
       " 2079143,\n",
       " 2079144,\n",
       " 2079145,\n",
       " 2079146,\n",
       " 2079147,\n",
       " 2079148,\n",
       " 2079149,\n",
       " 2079150,\n",
       " 2079151,\n",
       " 2079152,\n",
       " 2079153,\n",
       " 2079154,\n",
       " 2079155,\n",
       " 2079156,\n",
       " 2079157,\n",
       " 2079158,\n",
       " 2079159,\n",
       " 2079160,\n",
       " 2079161,\n",
       " 2079162,\n",
       " 2079163,\n",
       " 2079164,\n",
       " 2079165,\n",
       " 2079166,\n",
       " 2079167,\n",
       " 2079168,\n",
       " 2079169,\n",
       " 2079170,\n",
       " 2079171,\n",
       " 2079172,\n",
       " 2079173,\n",
       " 2079174,\n",
       " 2079175,\n",
       " 2079176,\n",
       " 2079177,\n",
       " 2079178,\n",
       " 2079179,\n",
       " 2079180,\n",
       " 2079181,\n",
       " 2079182,\n",
       " 2079183,\n",
       " 2079184,\n",
       " 2079185,\n",
       " 2079186,\n",
       " 2079187,\n",
       " 2079188,\n",
       " 2079189,\n",
       " 2079190,\n",
       " 2079191,\n",
       " 2079192,\n",
       " 2079193,\n",
       " 2079194,\n",
       " 2079195,\n",
       " 2079196,\n",
       " 2079197,\n",
       " 2079198,\n",
       " 2079199,\n",
       " 2079200,\n",
       " 2079201,\n",
       " 2079202,\n",
       " 2079203,\n",
       " 2079204,\n",
       " 2079205,\n",
       " 2079206,\n",
       " 2079207,\n",
       " 2079208,\n",
       " 2079209,\n",
       " 2079210,\n",
       " 2079211,\n",
       " 2079212,\n",
       " 2079213,\n",
       " 2079214,\n",
       " 2079215,\n",
       " 2079216,\n",
       " 2079217,\n",
       " 2079218,\n",
       " 2079219,\n",
       " 2079220,\n",
       " 2079221,\n",
       " 2079222,\n",
       " 2079223,\n",
       " 2079224,\n",
       " 2079225,\n",
       " 2079226,\n",
       " 2079227,\n",
       " 2079228,\n",
       " 2079229,\n",
       " 2079230,\n",
       " 2079231,\n",
       " 2079232,\n",
       " 2079233,\n",
       " 2079234,\n",
       " 2079235,\n",
       " 2079236,\n",
       " 2079237,\n",
       " 2079238,\n",
       " 2079239,\n",
       " 2079240,\n",
       " 2079241,\n",
       " 2079242,\n",
       " 2079243,\n",
       " 2079244,\n",
       " 2079245,\n",
       " 2079246,\n",
       " 2079247,\n",
       " 2079248,\n",
       " 2079249,\n",
       " 2079250,\n",
       " 2079251,\n",
       " 2079252,\n",
       " 2079253,\n",
       " 2079254,\n",
       " 2079255,\n",
       " 2079256,\n",
       " 2079257,\n",
       " 2079258,\n",
       " 2079259,\n",
       " 2079260,\n",
       " 2079261,\n",
       " 2079262,\n",
       " 2079263,\n",
       " 2079264,\n",
       " 2079265,\n",
       " 2079266,\n",
       " 2079267,\n",
       " 2079268,\n",
       " 2079269,\n",
       " 2079270,\n",
       " 2079271,\n",
       " 2079272,\n",
       " 2079273,\n",
       " 2079274,\n",
       " 2079275,\n",
       " 2079276,\n",
       " 2079277,\n",
       " 2079278,\n",
       " 2079279,\n",
       " 2079280,\n",
       " 2079281,\n",
       " 2079282,\n",
       " 2079283,\n",
       " 2079284,\n",
       " 2079285,\n",
       " 2079286,\n",
       " 2079287,\n",
       " 2079288,\n",
       " 2079289,\n",
       " 2079290,\n",
       " 2079291,\n",
       " 2079292,\n",
       " 2079293,\n",
       " 2079294,\n",
       " 2079295,\n",
       " 2079296,\n",
       " 2079297,\n",
       " 2079298,\n",
       " 2079299,\n",
       " 2079300,\n",
       " 2079301,\n",
       " 2079302,\n",
       " 2079303,\n",
       " 2079304,\n",
       " 2079305,\n",
       " 2079306,\n",
       " 2079307,\n",
       " 2079308,\n",
       " 2079309,\n",
       " 2079310,\n",
       " 2079311,\n",
       " 2079312,\n",
       " 2079313,\n",
       " 2079314,\n",
       " 2079315,\n",
       " 2079316,\n",
       " 2079317,\n",
       " 2079318,\n",
       " 2079319,\n",
       " 2079320,\n",
       " 2079321,\n",
       " 2079322,\n",
       " 2079323,\n",
       " 2079324,\n",
       " 2079325,\n",
       " 2079326,\n",
       " 2079327,\n",
       " 2079328,\n",
       " 2079329,\n",
       " 2079330,\n",
       " 2079331,\n",
       " 2079332,\n",
       " 2079333,\n",
       " 2079334,\n",
       " 2079335,\n",
       " 2079336,\n",
       " 2079337,\n",
       " 2079338,\n",
       " 2079339,\n",
       " 2079340,\n",
       " 2079341,\n",
       " 2079342,\n",
       " 2079343,\n",
       " 2079344,\n",
       " 2079345,\n",
       " 2079346,\n",
       " 2079347,\n",
       " 2079348,\n",
       " 2079349,\n",
       " ...]"
      ]
     },
     "execution_count": 234,
     "metadata": {},
     "output_type": "execute_result"
    }
   ],
   "source": [
    "final_drop_indices = []\n",
    "\n",
    "for i in range(len(idx_outliers)):\n",
    "    for j in idx_outliers[i]:\n",
    "        final_drop_indices.append(j)\n",
    "\n",
    "final_drop_indices\n"
   ]
  },
  {
   "cell_type": "code",
   "execution_count": 235,
   "metadata": {},
   "outputs": [],
   "source": [
    "df = df.drop(final_drop_indices)"
   ]
  },
  {
   "cell_type": "code",
   "execution_count": 236,
   "metadata": {},
   "outputs": [
    {
     "data": {
      "text/plain": [
       "2017.01.18.    4819\n",
       "2021.01.06.    4606\n",
       "2021.05.14.    4603\n",
       "2017.01.19.    4384\n",
       "2022.05.20.    4380\n",
       "               ... \n",
       "1999.09.26.       1\n",
       "2000.03.16.       1\n",
       "2000.05.13.       1\n",
       "1999.08.08.       1\n",
       "1999.06.06.       1\n",
       "Name: Date, Length: 8691, dtype: int64"
      ]
     },
     "execution_count": 236,
     "metadata": {},
     "output_type": "execute_result"
    }
   ],
   "source": [
    "df.Date.value_counts()"
   ]
  },
  {
   "cell_type": "code",
   "execution_count": 238,
   "metadata": {},
   "outputs": [
    {
     "data": {
      "text/html": [
       "<div>\n",
       "<style scoped>\n",
       "    .dataframe tbody tr th:only-of-type {\n",
       "        vertical-align: middle;\n",
       "    }\n",
       "\n",
       "    .dataframe tbody tr th {\n",
       "        vertical-align: top;\n",
       "    }\n",
       "\n",
       "    .dataframe thead th {\n",
       "        text-align: right;\n",
       "    }\n",
       "</style>\n",
       "<table border=\"1\" class=\"dataframe\">\n",
       "  <thead>\n",
       "    <tr style=\"text-align: right;\">\n",
       "      <th></th>\n",
       "      <th>Press</th>\n",
       "      <th>Date</th>\n",
       "      <th>Title</th>\n",
       "    </tr>\n",
       "  </thead>\n",
       "  <tbody>\n",
       "    <tr>\n",
       "      <th>0</th>\n",
       "      <td>연합뉴스</td>\n",
       "      <td>1998.05.20.</td>\n",
       "      <td>주가 사흘째 상승세</td>\n",
       "    </tr>\n",
       "    <tr>\n",
       "      <th>1</th>\n",
       "      <td>연합뉴스</td>\n",
       "      <td>1998.05.20.</td>\n",
       "      <td>아남텔레콤, PDA 데이터 전송서비스 개시</td>\n",
       "    </tr>\n",
       "    <tr>\n",
       "      <th>2</th>\n",
       "      <td>연합뉴스</td>\n",
       "      <td>1998.05.20.</td>\n",
       "      <td>&lt;회전목마&gt; 삼성전자, 사이버 사외보 제작</td>\n",
       "    </tr>\n",
       "    <tr>\n",
       "      <th>3</th>\n",
       "      <td>연합뉴스</td>\n",
       "      <td>1998.05.20.</td>\n",
       "      <td>&lt;주식시황&gt; 사흘째 상승, 3백70선 다가서</td>\n",
       "    </tr>\n",
       "    <tr>\n",
       "      <th>4</th>\n",
       "      <td>연합뉴스</td>\n",
       "      <td>1998.05.20.</td>\n",
       "      <td>-춘계승마- 신창무,싼졸쥬마장마술 우승</td>\n",
       "    </tr>\n",
       "    <tr>\n",
       "      <th>5</th>\n",
       "      <td>연합뉴스</td>\n",
       "      <td>1998.05.21.</td>\n",
       "      <td>주가 3백70선 회복</td>\n",
       "    </tr>\n",
       "    <tr>\n",
       "      <th>6</th>\n",
       "      <td>연합뉴스</td>\n",
       "      <td>1998.05.21.</td>\n",
       "      <td>`반도체업체는 여전히 안정된 직장'</td>\n",
       "    </tr>\n",
       "    <tr>\n",
       "      <th>7</th>\n",
       "      <td>연합뉴스</td>\n",
       "      <td>1998.05.21.</td>\n",
       "      <td>휴대형 입체영상 모니터 국내 첫 개발</td>\n",
       "    </tr>\n",
       "    <tr>\n",
       "      <th>8</th>\n",
       "      <td>연합뉴스</td>\n",
       "      <td>1998.05.21.</td>\n",
       "      <td>&lt;체육단신&gt; 삼성전자, 스포츠전문 웹진 개설</td>\n",
       "    </tr>\n",
       "    <tr>\n",
       "      <th>9</th>\n",
       "      <td>연합뉴스</td>\n",
       "      <td>1998.05.21.</td>\n",
       "      <td>임금삭감으로 직장인들 보릿고개 고통</td>\n",
       "    </tr>\n",
       "    <tr>\n",
       "      <th>10</th>\n",
       "      <td>연합뉴스</td>\n",
       "      <td>1998.05.21.</td>\n",
       "      <td>&lt;주식시황&gt;주가 나흘만에 하락</td>\n",
       "    </tr>\n",
       "    <tr>\n",
       "      <th>11</th>\n",
       "      <td>연합뉴스</td>\n",
       "      <td>1998.05.21.</td>\n",
       "      <td>-춘계승마- 신수진, 2관왕</td>\n",
       "    </tr>\n",
       "    <tr>\n",
       "      <th>12</th>\n",
       "      <td>연합뉴스</td>\n",
       "      <td>1998.05.21.</td>\n",
       "      <td>기관, 투자한도폐지 맞춰 우량주 대거처분 계획</td>\n",
       "    </tr>\n",
       "    <tr>\n",
       "      <th>13</th>\n",
       "      <td>연합뉴스</td>\n",
       "      <td>1998.05.22.</td>\n",
       "      <td>삼성디자인연구원, 전통유산 디자인 CD-롬 제작</td>\n",
       "    </tr>\n",
       "    <tr>\n",
       "      <th>14</th>\n",
       "      <td>연합뉴스</td>\n",
       "      <td>1998.05.22.</td>\n",
       "      <td>주가 3백50대로 밀려</td>\n",
       "    </tr>\n",
       "    <tr>\n",
       "      <th>15</th>\n",
       "      <td>연합뉴스</td>\n",
       "      <td>1998.05.22.</td>\n",
       "      <td>&lt;확대경&gt; 전자업계, 해외자회사 구조조정 `十人十色'</td>\n",
       "    </tr>\n",
       "    <tr>\n",
       "      <th>16</th>\n",
       "      <td>연합뉴스</td>\n",
       "      <td>1998.05.22.</td>\n",
       "      <td>&lt;회전목마&gt; 전자업계, 월드컵 16강 담보 `하나더 판촉전'</td>\n",
       "    </tr>\n",
       "    <tr>\n",
       "      <th>17</th>\n",
       "      <td>연합뉴스</td>\n",
       "      <td>1998.05.22.</td>\n",
       "      <td>&lt;回轉木馬&gt; 34세 주부 삼성생명 보험영업 여왕 등극</td>\n",
       "    </tr>\n",
       "    <tr>\n",
       "      <th>18</th>\n",
       "      <td>연합뉴스</td>\n",
       "      <td>1998.05.22.</td>\n",
       "      <td>-춘계승마- 어영해, 중장애물비월 우승</td>\n",
       "    </tr>\n",
       "    <tr>\n",
       "      <th>19</th>\n",
       "      <td>연합뉴스</td>\n",
       "      <td>1998.05.23.</td>\n",
       "      <td>주가 소폭 반등</td>\n",
       "    </tr>\n",
       "    <tr>\n",
       "      <th>20</th>\n",
       "      <td>연합뉴스</td>\n",
       "      <td>1998.05.23.</td>\n",
       "      <td>전자업계, 컨테이너 운송비용 인상에 반발</td>\n",
       "    </tr>\n",
       "    <tr>\n",
       "      <th>21</th>\n",
       "      <td>연합뉴스</td>\n",
       "      <td>1998.05.23.</td>\n",
       "      <td>&lt;주식시황&gt; 주가 사흘만에 소폭 상승</td>\n",
       "    </tr>\n",
       "    <tr>\n",
       "      <th>22</th>\n",
       "      <td>연합뉴스</td>\n",
       "      <td>1998.05.23.</td>\n",
       "      <td>춘계승마- 상무, 속도장애물비월 단체 우승</td>\n",
       "    </tr>\n",
       "    <tr>\n",
       "      <th>23</th>\n",
       "      <td>연합뉴스</td>\n",
       "      <td>1998.05.23.</td>\n",
       "      <td>25일 투자한도 완전철폐, 2천억∼7천억원 유입 전망</td>\n",
       "    </tr>\n",
       "    <tr>\n",
       "      <th>24</th>\n",
       "      <td>연합뉴스</td>\n",
       "      <td>1998.05.25.</td>\n",
       "      <td>한도폐지 첫날 주가 하락세</td>\n",
       "    </tr>\n",
       "    <tr>\n",
       "      <th>25</th>\n",
       "      <td>연합뉴스</td>\n",
       "      <td>1998.05.25.</td>\n",
       "      <td>주가, 11년만에 최저치로 폭락</td>\n",
       "    </tr>\n",
       "    <tr>\n",
       "      <th>26</th>\n",
       "      <td>연합뉴스</td>\n",
       "      <td>1998.05.26.</td>\n",
       "      <td>주가 급락세 지속, 3백10선도 위협</td>\n",
       "    </tr>\n",
       "    <tr>\n",
       "      <th>27</th>\n",
       "      <td>연합뉴스</td>\n",
       "      <td>1998.05.26.</td>\n",
       "      <td>삼성전자, 매출 급신장</td>\n",
       "    </tr>\n",
       "    <tr>\n",
       "      <th>28</th>\n",
       "      <td>연합뉴스</td>\n",
       "      <td>1998.05.26.</td>\n",
       "      <td>엘니뇨 덕, 에어컨 일부 품목 품귀현상</td>\n",
       "    </tr>\n",
       "    <tr>\n",
       "      <th>29</th>\n",
       "      <td>연합뉴스</td>\n",
       "      <td>1998.05.26.</td>\n",
       "      <td>폐가전제품 재자원화시설 첫 준공</td>\n",
       "    </tr>\n",
       "    <tr>\n",
       "      <th>30</th>\n",
       "      <td>연합뉴스</td>\n",
       "      <td>1998.05.26.</td>\n",
       "      <td>주가 대폭락, 증시공황 우려감 팽배</td>\n",
       "    </tr>\n",
       "    <tr>\n",
       "      <th>31</th>\n",
       "      <td>연합뉴스</td>\n",
       "      <td>1998.05.26.</td>\n",
       "      <td>&lt;오늘의 주요 경제뉴스&gt; (27일)</td>\n",
       "    </tr>\n",
       "    <tr>\n",
       "      <th>32</th>\n",
       "      <td>연합뉴스</td>\n",
       "      <td>1998.05.27.</td>\n",
       "      <td>삼성전자, 한국HP 지분 45% 전량 매각</td>\n",
       "    </tr>\n",
       "    <tr>\n",
       "      <th>33</th>\n",
       "      <td>연합뉴스</td>\n",
       "      <td>1998.05.27.</td>\n",
       "      <td>상장사 10개중 7개는 영업할수록 손해</td>\n",
       "    </tr>\n",
       "    <tr>\n",
       "      <th>34</th>\n",
       "      <td>연합뉴스</td>\n",
       "      <td>1998.05.27.</td>\n",
       "      <td>&lt;표&gt; 97년기준 EVA 상위 30사</td>\n",
       "    </tr>\n",
       "    <tr>\n",
       "      <th>35</th>\n",
       "      <td>연합뉴스</td>\n",
       "      <td>1998.05.27.</td>\n",
       "      <td>가전사들, 동남아 수출차질 만회 안간힘</td>\n",
       "    </tr>\n",
       "    <tr>\n",
       "      <th>36</th>\n",
       "      <td>연합뉴스</td>\n",
       "      <td>1998.05.27.</td>\n",
       "      <td>반도체산업민간협의회 개최</td>\n",
       "    </tr>\n",
       "    <tr>\n",
       "      <th>37</th>\n",
       "      <td>연합뉴스</td>\n",
       "      <td>1998.05.28.</td>\n",
       "      <td>주가 상승세</td>\n",
       "    </tr>\n",
       "    <tr>\n",
       "      <th>38</th>\n",
       "      <td>연합뉴스</td>\n",
       "      <td>1998.05.28.</td>\n",
       "      <td>삼성전자, 하나더 판촉 확대실시</td>\n",
       "    </tr>\n",
       "    <tr>\n",
       "      <th>39</th>\n",
       "      <td>연합뉴스</td>\n",
       "      <td>1998.05.28.</td>\n",
       "      <td>&lt;주식시황&gt; 주가 상승 3백20선 회복</td>\n",
       "    </tr>\n",
       "  </tbody>\n",
       "</table>\n",
       "</div>"
      ],
      "text/plain": [
       "   Press         Date                              Title\n",
       "0   연합뉴스  1998.05.20.                         주가 사흘째 상승세\n",
       "1   연합뉴스  1998.05.20.            아남텔레콤, PDA 데이터 전송서비스 개시\n",
       "2   연합뉴스  1998.05.20.            <회전목마> 삼성전자, 사이버 사외보 제작\n",
       "3   연합뉴스  1998.05.20.           <주식시황> 사흘째 상승, 3백70선 다가서\n",
       "4   연합뉴스  1998.05.20.              -춘계승마- 신창무,싼졸쥬마장마술 우승\n",
       "5   연합뉴스  1998.05.21.                        주가 3백70선 회복\n",
       "6   연합뉴스  1998.05.21.                `반도체업체는 여전히 안정된 직장'\n",
       "7   연합뉴스  1998.05.21.               휴대형 입체영상 모니터 국내 첫 개발\n",
       "8   연합뉴스  1998.05.21.           <체육단신> 삼성전자, 스포츠전문 웹진 개설\n",
       "9   연합뉴스  1998.05.21.                임금삭감으로 직장인들 보릿고개 고통\n",
       "10  연합뉴스  1998.05.21.                   <주식시황>주가 나흘만에 하락\n",
       "11  연합뉴스  1998.05.21.                    -춘계승마- 신수진, 2관왕\n",
       "12  연합뉴스  1998.05.21.          기관, 투자한도폐지 맞춰 우량주 대거처분 계획\n",
       "13  연합뉴스  1998.05.22.         삼성디자인연구원, 전통유산 디자인 CD-롬 제작\n",
       "14  연합뉴스  1998.05.22.                       주가 3백50대로 밀려\n",
       "15  연합뉴스  1998.05.22.      <확대경> 전자업계, 해외자회사 구조조정 `十人十色'\n",
       "16  연합뉴스  1998.05.22.  <회전목마> 전자업계, 월드컵 16강 담보 `하나더 판촉전'\n",
       "17  연합뉴스  1998.05.22.      <回轉木馬> 34세 주부 삼성생명 보험영업 여왕 등극\n",
       "18  연합뉴스  1998.05.22.              -춘계승마- 어영해, 중장애물비월 우승\n",
       "19  연합뉴스  1998.05.23.                           주가 소폭 반등\n",
       "20  연합뉴스  1998.05.23.             전자업계, 컨테이너 운송비용 인상에 반발\n",
       "21  연합뉴스  1998.05.23.               <주식시황> 주가 사흘만에 소폭 상승\n",
       "22  연합뉴스  1998.05.23.            춘계승마- 상무, 속도장애물비월 단체 우승\n",
       "23  연합뉴스  1998.05.23.      25일 투자한도 완전철폐, 2천억∼7천억원 유입 전망\n",
       "24  연합뉴스  1998.05.25.                     한도폐지 첫날 주가 하락세\n",
       "25  연합뉴스  1998.05.25.                  주가, 11년만에 최저치로 폭락\n",
       "26  연합뉴스  1998.05.26.               주가 급락세 지속, 3백10선도 위협\n",
       "27  연합뉴스  1998.05.26.                       삼성전자, 매출 급신장\n",
       "28  연합뉴스  1998.05.26.              엘니뇨 덕, 에어컨 일부 품목 품귀현상\n",
       "29  연합뉴스  1998.05.26.                  폐가전제품 재자원화시설 첫 준공\n",
       "30  연합뉴스  1998.05.26.                주가 대폭락, 증시공황 우려감 팽배\n",
       "31  연합뉴스  1998.05.26.                <오늘의 주요 경제뉴스> (27일)\n",
       "32  연합뉴스  1998.05.27.            삼성전자, 한국HP 지분 45% 전량 매각\n",
       "33  연합뉴스  1998.05.27.              상장사 10개중 7개는 영업할수록 손해\n",
       "34  연합뉴스  1998.05.27.               <표> 97년기준 EVA 상위 30사\n",
       "35  연합뉴스  1998.05.27.              가전사들, 동남아 수출차질 만회 안간힘\n",
       "36  연합뉴스  1998.05.27.                      반도체산업민간협의회 개최\n",
       "37  연합뉴스  1998.05.28.                             주가 상승세\n",
       "38  연합뉴스  1998.05.28.                  삼성전자, 하나더 판촉 확대실시\n",
       "39  연합뉴스  1998.05.28.              <주식시황> 주가 상승 3백20선 회복"
      ]
     },
     "execution_count": 238,
     "metadata": {},
     "output_type": "execute_result"
    }
   ],
   "source": [
    "df.head(40)"
   ]
  },
  {
   "cell_type": "markdown",
   "metadata": {},
   "source": [
    "날짜 별로 타이틀 묶기"
   ]
  },
  {
   "cell_type": "code",
   "execution_count": 277,
   "metadata": {},
   "outputs": [
    {
     "data": {
      "text/plain": [
       "array(['1998.05.20.', '1998.05.21.', '1998.05.22.', ..., '2022.07.19.',\n",
       "       '2022.07.20.', '2022.07.21.'], dtype=object)"
      ]
     },
     "execution_count": 277,
     "metadata": {},
     "output_type": "execute_result"
    }
   ],
   "source": [
    "# 날짜만 확인\n",
    "dates = df[\"Date\"].unique()\n",
    "dates"
   ]
  },
  {
   "cell_type": "code",
   "execution_count": 255,
   "metadata": {},
   "outputs": [
    {
     "data": {
      "text/plain": [
       "array(['주가 사흘째 상승세', '아남텔레콤, PDA 데이터 전송서비스 개시', '<회전목마> 삼성전자, 사이버 사외보 제작',\n",
       "       '<주식시황> 사흘째 상승, 3백70선 다가서', '-춘계승마- 신창무,싼졸쥬마장마술 우승'], dtype=object)"
      ]
     },
     "execution_count": 255,
     "metadata": {},
     "output_type": "execute_result"
    }
   ],
   "source": [
    "title = df[df[\"Date\"] == '1998.05.20.'][\"Title\"].values\n",
    "title"
   ]
  },
  {
   "cell_type": "code",
   "execution_count": 257,
   "metadata": {},
   "outputs": [],
   "source": [
    "sentences = []\n",
    "\n",
    "titles = df[df[\"Date\"] == i][\"Title\"].values\n",
    "sentence = \"\"\n",
    "for title in titles:\n",
    "    sentence = sentence + title + \"\\n\"\n",
    "sentences.append(sentence)"
   ]
  },
  {
   "cell_type": "code",
   "execution_count": 258,
   "metadata": {},
   "outputs": [
    {
     "data": {
      "text/plain": [
       "['<새상품> 삼성전자 MP3휴대폰 출시\\n-중국국제승마- 한국, 단체전 2위\\n재계, 수해 구호 및 복구지원 돌입\\nPC업체들 수해지역 무상 점검.수리 서비스\\n<주식시황> 주가 이틀째 하락, 투신권도 매도로 반전\\n']"
      ]
     },
     "execution_count": 258,
     "metadata": {},
     "output_type": "execute_result"
    }
   ],
   "source": [
    "sentences"
   ]
  },
  {
   "cell_type": "code",
   "execution_count": 260,
   "metadata": {},
   "outputs": [],
   "source": [
    "sentences = []\n",
    "for i in dates:\n",
    "    titles = df[df[\"Date\"] == i][\"Title\"].values\n",
    "    sentence = \"\"\n",
    "    for title in titles:\n",
    "        sentence = sentence + title + \"\\n\"\n",
    "    sentences.append(sentence)"
   ]
  },
  {
   "cell_type": "code",
   "execution_count": 261,
   "metadata": {},
   "outputs": [],
   "source": [
    "# dict(zip(dates, sentences))"
   ]
  },
  {
   "cell_type": "code",
   "execution_count": 278,
   "metadata": {},
   "outputs": [
    {
     "data": {
      "text/plain": [
       "['1998-05-20', '1998-05-21', '1998-05-22']"
      ]
     },
     "execution_count": 278,
     "metadata": {},
     "output_type": "execute_result"
    }
   ],
   "source": [
    "dates = list(map(lambda x: (x[:-1].replace('.', '-')), dates))\n",
    "dates[:3]"
   ]
  },
  {
   "cell_type": "code",
   "execution_count": 298,
   "metadata": {},
   "outputs": [],
   "source": [
    "data = pd.DataFrame(data = list(zip(dates, sentences)), columns=[\"Date\", \"Sentence\"])"
   ]
  },
  {
   "cell_type": "code",
   "execution_count": 299,
   "metadata": {},
   "outputs": [
    {
     "data": {
      "text/html": [
       "<div>\n",
       "<style scoped>\n",
       "    .dataframe tbody tr th:only-of-type {\n",
       "        vertical-align: middle;\n",
       "    }\n",
       "\n",
       "    .dataframe tbody tr th {\n",
       "        vertical-align: top;\n",
       "    }\n",
       "\n",
       "    .dataframe thead th {\n",
       "        text-align: right;\n",
       "    }\n",
       "</style>\n",
       "<table border=\"1\" class=\"dataframe\">\n",
       "  <thead>\n",
       "    <tr style=\"text-align: right;\">\n",
       "      <th></th>\n",
       "      <th>Date</th>\n",
       "      <th>Sentence</th>\n",
       "    </tr>\n",
       "  </thead>\n",
       "  <tbody>\n",
       "    <tr>\n",
       "      <th>0</th>\n",
       "      <td>1998-05-20</td>\n",
       "      <td>주가 사흘째 상승세\\n아남텔레콤, PDA 데이터 전송서비스 개시\\n&lt;회전목마&gt; 삼성...</td>\n",
       "    </tr>\n",
       "    <tr>\n",
       "      <th>1</th>\n",
       "      <td>1998-05-21</td>\n",
       "      <td>주가 3백70선 회복\\n`반도체업체는 여전히 안정된 직장'\\n휴대형 입체영상 모니터...</td>\n",
       "    </tr>\n",
       "    <tr>\n",
       "      <th>2</th>\n",
       "      <td>1998-05-22</td>\n",
       "      <td>삼성디자인연구원, 전통유산 디자인 CD-롬 제작\\n주가 3백50대로 밀려\\n&lt;확대경...</td>\n",
       "    </tr>\n",
       "    <tr>\n",
       "      <th>3</th>\n",
       "      <td>1998-05-23</td>\n",
       "      <td>주가 소폭 반등\\n전자업계, 컨테이너 운송비용 인상에 반발\\n&lt;주식시황&gt; 주가 사흘...</td>\n",
       "    </tr>\n",
       "    <tr>\n",
       "      <th>4</th>\n",
       "      <td>1998-05-25</td>\n",
       "      <td>한도폐지 첫날 주가 하락세\\n주가, 11년만에 최저치로 폭락\\n</td>\n",
       "    </tr>\n",
       "  </tbody>\n",
       "</table>\n",
       "</div>"
      ],
      "text/plain": [
       "         Date                                           Sentence\n",
       "0  1998-05-20  주가 사흘째 상승세\\n아남텔레콤, PDA 데이터 전송서비스 개시\\n<회전목마> 삼성...\n",
       "1  1998-05-21  주가 3백70선 회복\\n`반도체업체는 여전히 안정된 직장'\\n휴대형 입체영상 모니터...\n",
       "2  1998-05-22  삼성디자인연구원, 전통유산 디자인 CD-롬 제작\\n주가 3백50대로 밀려\\n<확대경...\n",
       "3  1998-05-23  주가 소폭 반등\\n전자업계, 컨테이너 운송비용 인상에 반발\\n<주식시황> 주가 사흘...\n",
       "4  1998-05-25                한도폐지 첫날 주가 하락세\\n주가, 11년만에 최저치로 폭락\\n"
      ]
     },
     "execution_count": 299,
     "metadata": {},
     "output_type": "execute_result"
    }
   ],
   "source": [
    "data.head()"
   ]
  },
  {
   "cell_type": "code",
   "execution_count": 300,
   "metadata": {},
   "outputs": [],
   "source": [
    "# datetime으로 변환\n",
    "data['Date'] = pd.to_datetime(data['Date'], format='%Y-%m-%d')"
   ]
  },
  {
   "cell_type": "code",
   "execution_count": 301,
   "metadata": {},
   "outputs": [
    {
     "name": "stdout",
     "output_type": "stream",
     "text": [
      "<class 'pandas.core.frame.DataFrame'>\n",
      "RangeIndex: 8691 entries, 0 to 8690\n",
      "Data columns (total 2 columns):\n",
      " #   Column    Non-Null Count  Dtype         \n",
      "---  ------    --------------  -----         \n",
      " 0   Date      8691 non-null   datetime64[ns]\n",
      " 1   Sentence  8691 non-null   object        \n",
      "dtypes: datetime64[ns](1), object(1)\n",
      "memory usage: 135.9+ KB\n"
     ]
    }
   ],
   "source": [
    "data.info()"
   ]
  },
  {
   "cell_type": "code",
   "execution_count": 302,
   "metadata": {},
   "outputs": [],
   "source": [
    "# 하루 더하기 (기사 일자를 하루 뒤로 미루기)\n",
    "from datetime import datetime, timedelta\n",
    "data['Date'] = pd.DatetimeIndex(data['Date']) + timedelta(days=1)"
   ]
  },
  {
   "cell_type": "code",
   "execution_count": 303,
   "metadata": {},
   "outputs": [
    {
     "data": {
      "text/html": [
       "<div>\n",
       "<style scoped>\n",
       "    .dataframe tbody tr th:only-of-type {\n",
       "        vertical-align: middle;\n",
       "    }\n",
       "\n",
       "    .dataframe tbody tr th {\n",
       "        vertical-align: top;\n",
       "    }\n",
       "\n",
       "    .dataframe thead th {\n",
       "        text-align: right;\n",
       "    }\n",
       "</style>\n",
       "<table border=\"1\" class=\"dataframe\">\n",
       "  <thead>\n",
       "    <tr style=\"text-align: right;\">\n",
       "      <th></th>\n",
       "      <th>Date</th>\n",
       "      <th>Sentence</th>\n",
       "    </tr>\n",
       "  </thead>\n",
       "  <tbody>\n",
       "    <tr>\n",
       "      <th>0</th>\n",
       "      <td>1998-05-21</td>\n",
       "      <td>주가 사흘째 상승세\\n아남텔레콤, PDA 데이터 전송서비스 개시\\n&lt;회전목마&gt; 삼성...</td>\n",
       "    </tr>\n",
       "    <tr>\n",
       "      <th>1</th>\n",
       "      <td>1998-05-22</td>\n",
       "      <td>주가 3백70선 회복\\n`반도체업체는 여전히 안정된 직장'\\n휴대형 입체영상 모니터...</td>\n",
       "    </tr>\n",
       "    <tr>\n",
       "      <th>2</th>\n",
       "      <td>1998-05-23</td>\n",
       "      <td>삼성디자인연구원, 전통유산 디자인 CD-롬 제작\\n주가 3백50대로 밀려\\n&lt;확대경...</td>\n",
       "    </tr>\n",
       "    <tr>\n",
       "      <th>3</th>\n",
       "      <td>1998-05-24</td>\n",
       "      <td>주가 소폭 반등\\n전자업계, 컨테이너 운송비용 인상에 반발\\n&lt;주식시황&gt; 주가 사흘...</td>\n",
       "    </tr>\n",
       "    <tr>\n",
       "      <th>4</th>\n",
       "      <td>1998-05-26</td>\n",
       "      <td>한도폐지 첫날 주가 하락세\\n주가, 11년만에 최저치로 폭락\\n</td>\n",
       "    </tr>\n",
       "  </tbody>\n",
       "</table>\n",
       "</div>"
      ],
      "text/plain": [
       "        Date                                           Sentence\n",
       "0 1998-05-21  주가 사흘째 상승세\\n아남텔레콤, PDA 데이터 전송서비스 개시\\n<회전목마> 삼성...\n",
       "1 1998-05-22  주가 3백70선 회복\\n`반도체업체는 여전히 안정된 직장'\\n휴대형 입체영상 모니터...\n",
       "2 1998-05-23  삼성디자인연구원, 전통유산 디자인 CD-롬 제작\\n주가 3백50대로 밀려\\n<확대경...\n",
       "3 1998-05-24  주가 소폭 반등\\n전자업계, 컨테이너 운송비용 인상에 반발\\n<주식시황> 주가 사흘...\n",
       "4 1998-05-26                한도폐지 첫날 주가 하락세\\n주가, 11년만에 최저치로 폭락\\n"
      ]
     },
     "execution_count": 303,
     "metadata": {},
     "output_type": "execute_result"
    }
   ],
   "source": [
    "data.head()"
   ]
  },
  {
   "cell_type": "code",
   "execution_count": 304,
   "metadata": {},
   "outputs": [
    {
     "data": {
      "text/html": [
       "<div>\n",
       "<style scoped>\n",
       "    .dataframe tbody tr th:only-of-type {\n",
       "        vertical-align: middle;\n",
       "    }\n",
       "\n",
       "    .dataframe tbody tr th {\n",
       "        vertical-align: top;\n",
       "    }\n",
       "\n",
       "    .dataframe thead th {\n",
       "        text-align: right;\n",
       "    }\n",
       "</style>\n",
       "<table border=\"1\" class=\"dataframe\">\n",
       "  <thead>\n",
       "    <tr style=\"text-align: right;\">\n",
       "      <th></th>\n",
       "      <th>Date</th>\n",
       "      <th>Sentence</th>\n",
       "    </tr>\n",
       "  </thead>\n",
       "  <tbody>\n",
       "    <tr>\n",
       "      <th>8686</th>\n",
       "      <td>2022-07-18</td>\n",
       "      <td>安통산장관, 무역업계와 간담회\\n삼성전자, 인력재배치 작업 본격화\\n삼성전자,2백4...</td>\n",
       "    </tr>\n",
       "    <tr>\n",
       "      <th>8687</th>\n",
       "      <td>2022-07-19</td>\n",
       "      <td>불경기에도 자동차.화장품 광고는 활발\\n&lt;주식시황&gt; 주가, 큰 폭 상승\\n삼성전자 ...</td>\n",
       "    </tr>\n",
       "    <tr>\n",
       "      <th>8688</th>\n",
       "      <td>2022-07-20</td>\n",
       "      <td>반도체 업체들, 보따리장사로 골머리\\n주가 이틀째 급상승\\n三星電子, 세계 최경량 ...</td>\n",
       "    </tr>\n",
       "    <tr>\n",
       "      <th>8689</th>\n",
       "      <td>2022-07-21</td>\n",
       "      <td>삼성전자 반도체 전문 서비스센터 개설\\n삼성전관, `6시그마운동' 설명회 개최\\n상...</td>\n",
       "    </tr>\n",
       "    <tr>\n",
       "      <th>8690</th>\n",
       "      <td>2022-07-22</td>\n",
       "      <td>D램 모듈 내수가격 큰 폭 하락\\n&lt;표&gt; 기업집단별.회사별 과징금 부과내역\\n공정위...</td>\n",
       "    </tr>\n",
       "  </tbody>\n",
       "</table>\n",
       "</div>"
      ],
      "text/plain": [
       "           Date                                           Sentence\n",
       "8686 2022-07-18  安통산장관, 무역업계와 간담회\\n삼성전자, 인력재배치 작업 본격화\\n삼성전자,2백4...\n",
       "8687 2022-07-19  불경기에도 자동차.화장품 광고는 활발\\n<주식시황> 주가, 큰 폭 상승\\n삼성전자 ...\n",
       "8688 2022-07-20  반도체 업체들, 보따리장사로 골머리\\n주가 이틀째 급상승\\n三星電子, 세계 최경량 ...\n",
       "8689 2022-07-21  삼성전자 반도체 전문 서비스센터 개설\\n삼성전관, `6시그마운동' 설명회 개최\\n상...\n",
       "8690 2022-07-22  D램 모듈 내수가격 큰 폭 하락\\n<표> 기업집단별.회사별 과징금 부과내역\\n공정위..."
      ]
     },
     "execution_count": 304,
     "metadata": {},
     "output_type": "execute_result"
    }
   ],
   "source": [
    "data.tail()"
   ]
  },
  {
   "cell_type": "code",
   "execution_count": null,
   "metadata": {},
   "outputs": [],
   "source": []
  },
  {
   "cell_type": "markdown",
   "metadata": {},
   "source": [
    "Label Part"
   ]
  },
  {
   "cell_type": "code",
   "execution_count": 105,
   "metadata": {},
   "outputs": [],
   "source": [
    "label = pd.read_csv(\"005930_Label.csv\")"
   ]
  },
  {
   "cell_type": "code",
   "execution_count": 311,
   "metadata": {},
   "outputs": [
    {
     "data": {
      "text/html": [
       "<div>\n",
       "<style scoped>\n",
       "    .dataframe tbody tr th:only-of-type {\n",
       "        vertical-align: middle;\n",
       "    }\n",
       "\n",
       "    .dataframe tbody tr th {\n",
       "        vertical-align: top;\n",
       "    }\n",
       "\n",
       "    .dataframe thead th {\n",
       "        text-align: right;\n",
       "    }\n",
       "</style>\n",
       "<table border=\"1\" class=\"dataframe\">\n",
       "  <thead>\n",
       "    <tr style=\"text-align: right;\">\n",
       "      <th></th>\n",
       "      <th>Date</th>\n",
       "      <th>Open</th>\n",
       "      <th>High</th>\n",
       "      <th>Low</th>\n",
       "      <th>Close</th>\n",
       "      <th>Volume</th>\n",
       "      <th>Change</th>\n",
       "    </tr>\n",
       "  </thead>\n",
       "  <tbody>\n",
       "    <tr>\n",
       "      <th>5995</th>\n",
       "      <td>2022-07-21</td>\n",
       "      <td>61100</td>\n",
       "      <td>61900</td>\n",
       "      <td>60700</td>\n",
       "      <td>61800</td>\n",
       "      <td>12291374</td>\n",
       "      <td>1</td>\n",
       "    </tr>\n",
       "    <tr>\n",
       "      <th>5996</th>\n",
       "      <td>2022-07-22</td>\n",
       "      <td>61800</td>\n",
       "      <td>62200</td>\n",
       "      <td>61200</td>\n",
       "      <td>61300</td>\n",
       "      <td>10261310</td>\n",
       "      <td>0</td>\n",
       "    </tr>\n",
       "    <tr>\n",
       "      <th>5997</th>\n",
       "      <td>2022-07-25</td>\n",
       "      <td>60900</td>\n",
       "      <td>61900</td>\n",
       "      <td>60800</td>\n",
       "      <td>61100</td>\n",
       "      <td>9193681</td>\n",
       "      <td>0</td>\n",
       "    </tr>\n",
       "    <tr>\n",
       "      <th>5998</th>\n",
       "      <td>2022-07-26</td>\n",
       "      <td>60800</td>\n",
       "      <td>61900</td>\n",
       "      <td>60800</td>\n",
       "      <td>61700</td>\n",
       "      <td>6597211</td>\n",
       "      <td>1</td>\n",
       "    </tr>\n",
       "    <tr>\n",
       "      <th>5999</th>\n",
       "      <td>2022-07-27</td>\n",
       "      <td>61300</td>\n",
       "      <td>61900</td>\n",
       "      <td>61300</td>\n",
       "      <td>61300</td>\n",
       "      <td>2685024</td>\n",
       "      <td>0</td>\n",
       "    </tr>\n",
       "  </tbody>\n",
       "</table>\n",
       "</div>"
      ],
      "text/plain": [
       "            Date   Open   High    Low  Close    Volume  Change\n",
       "5995  2022-07-21  61100  61900  60700  61800  12291374       1\n",
       "5996  2022-07-22  61800  62200  61200  61300  10261310       0\n",
       "5997  2022-07-25  60900  61900  60800  61100   9193681       0\n",
       "5998  2022-07-26  60800  61900  60800  61700   6597211       1\n",
       "5999  2022-07-27  61300  61900  61300  61300   2685024       0"
      ]
     },
     "execution_count": 311,
     "metadata": {},
     "output_type": "execute_result"
    }
   ],
   "source": [
    "label.tail()"
   ]
  },
  {
   "cell_type": "code",
   "execution_count": 312,
   "metadata": {},
   "outputs": [
    {
     "name": "stdout",
     "output_type": "stream",
     "text": [
      "<class 'pandas.core.frame.DataFrame'>\n",
      "RangeIndex: 6000 entries, 0 to 5999\n",
      "Data columns (total 7 columns):\n",
      " #   Column  Non-Null Count  Dtype \n",
      "---  ------  --------------  ----- \n",
      " 0   Date    6000 non-null   object\n",
      " 1   Open    6000 non-null   int64 \n",
      " 2   High    6000 non-null   int64 \n",
      " 3   Low     6000 non-null   int64 \n",
      " 4   Close   6000 non-null   int64 \n",
      " 5   Volume  6000 non-null   int64 \n",
      " 6   Change  6000 non-null   int64 \n",
      "dtypes: int64(6), object(1)\n",
      "memory usage: 328.2+ KB\n"
     ]
    }
   ],
   "source": [
    "label.info()"
   ]
  },
  {
   "cell_type": "code",
   "execution_count": 313,
   "metadata": {},
   "outputs": [],
   "source": [
    "label.drop([\"Open\", \"High\", \"Low\", \"Close\", \"Volume\"], axis=1, inplace=True)"
   ]
  },
  {
   "cell_type": "code",
   "execution_count": 314,
   "metadata": {},
   "outputs": [
    {
     "data": {
      "text/html": [
       "<div>\n",
       "<style scoped>\n",
       "    .dataframe tbody tr th:only-of-type {\n",
       "        vertical-align: middle;\n",
       "    }\n",
       "\n",
       "    .dataframe tbody tr th {\n",
       "        vertical-align: top;\n",
       "    }\n",
       "\n",
       "    .dataframe thead th {\n",
       "        text-align: right;\n",
       "    }\n",
       "</style>\n",
       "<table border=\"1\" class=\"dataframe\">\n",
       "  <thead>\n",
       "    <tr style=\"text-align: right;\">\n",
       "      <th></th>\n",
       "      <th>Date</th>\n",
       "      <th>Change</th>\n",
       "    </tr>\n",
       "  </thead>\n",
       "  <tbody>\n",
       "    <tr>\n",
       "      <th>0</th>\n",
       "      <td>1998-05-21</td>\n",
       "      <td>0</td>\n",
       "    </tr>\n",
       "    <tr>\n",
       "      <th>1</th>\n",
       "      <td>1998-05-22</td>\n",
       "      <td>0</td>\n",
       "    </tr>\n",
       "    <tr>\n",
       "      <th>2</th>\n",
       "      <td>1998-05-23</td>\n",
       "      <td>1</td>\n",
       "    </tr>\n",
       "    <tr>\n",
       "      <th>3</th>\n",
       "      <td>1998-05-25</td>\n",
       "      <td>0</td>\n",
       "    </tr>\n",
       "    <tr>\n",
       "      <th>4</th>\n",
       "      <td>1998-05-26</td>\n",
       "      <td>0</td>\n",
       "    </tr>\n",
       "  </tbody>\n",
       "</table>\n",
       "</div>"
      ],
      "text/plain": [
       "         Date  Change\n",
       "0  1998-05-21       0\n",
       "1  1998-05-22       0\n",
       "2  1998-05-23       1\n",
       "3  1998-05-25       0\n",
       "4  1998-05-26       0"
      ]
     },
     "execution_count": 314,
     "metadata": {},
     "output_type": "execute_result"
    }
   ],
   "source": [
    "label.head()"
   ]
  },
  {
   "cell_type": "code",
   "execution_count": 315,
   "metadata": {},
   "outputs": [],
   "source": [
    "# datetime으로 변환\n",
    "label['Date'] = pd.to_datetime(label['Date'], format='%Y-%m-%d')"
   ]
  },
  {
   "cell_type": "code",
   "execution_count": 316,
   "metadata": {},
   "outputs": [
    {
     "data": {
      "text/html": [
       "<div>\n",
       "<style scoped>\n",
       "    .dataframe tbody tr th:only-of-type {\n",
       "        vertical-align: middle;\n",
       "    }\n",
       "\n",
       "    .dataframe tbody tr th {\n",
       "        vertical-align: top;\n",
       "    }\n",
       "\n",
       "    .dataframe thead th {\n",
       "        text-align: right;\n",
       "    }\n",
       "</style>\n",
       "<table border=\"1\" class=\"dataframe\">\n",
       "  <thead>\n",
       "    <tr style=\"text-align: right;\">\n",
       "      <th></th>\n",
       "      <th>Date</th>\n",
       "      <th>Change</th>\n",
       "    </tr>\n",
       "  </thead>\n",
       "  <tbody>\n",
       "    <tr>\n",
       "      <th>0</th>\n",
       "      <td>1998-05-21</td>\n",
       "      <td>0</td>\n",
       "    </tr>\n",
       "    <tr>\n",
       "      <th>1</th>\n",
       "      <td>1998-05-22</td>\n",
       "      <td>0</td>\n",
       "    </tr>\n",
       "    <tr>\n",
       "      <th>2</th>\n",
       "      <td>1998-05-23</td>\n",
       "      <td>1</td>\n",
       "    </tr>\n",
       "    <tr>\n",
       "      <th>3</th>\n",
       "      <td>1998-05-25</td>\n",
       "      <td>0</td>\n",
       "    </tr>\n",
       "    <tr>\n",
       "      <th>4</th>\n",
       "      <td>1998-05-26</td>\n",
       "      <td>0</td>\n",
       "    </tr>\n",
       "  </tbody>\n",
       "</table>\n",
       "</div>"
      ],
      "text/plain": [
       "        Date  Change\n",
       "0 1998-05-21       0\n",
       "1 1998-05-22       0\n",
       "2 1998-05-23       1\n",
       "3 1998-05-25       0\n",
       "4 1998-05-26       0"
      ]
     },
     "execution_count": 316,
     "metadata": {},
     "output_type": "execute_result"
    }
   ],
   "source": [
    "label.head()"
   ]
  },
  {
   "cell_type": "markdown",
   "metadata": {},
   "source": [
    "Date 기준으로 조인"
   ]
  },
  {
   "cell_type": "code",
   "execution_count": 317,
   "metadata": {},
   "outputs": [],
   "source": [
    "final_data = pd.merge(left=data, right=label, how=\"inner\", on=\"Date\")"
   ]
  },
  {
   "cell_type": "code",
   "execution_count": 318,
   "metadata": {},
   "outputs": [
    {
     "data": {
      "text/html": [
       "<div>\n",
       "<style scoped>\n",
       "    .dataframe tbody tr th:only-of-type {\n",
       "        vertical-align: middle;\n",
       "    }\n",
       "\n",
       "    .dataframe tbody tr th {\n",
       "        vertical-align: top;\n",
       "    }\n",
       "\n",
       "    .dataframe thead th {\n",
       "        text-align: right;\n",
       "    }\n",
       "</style>\n",
       "<table border=\"1\" class=\"dataframe\">\n",
       "  <thead>\n",
       "    <tr style=\"text-align: right;\">\n",
       "      <th></th>\n",
       "      <th>Date</th>\n",
       "      <th>Sentence</th>\n",
       "      <th>Change</th>\n",
       "    </tr>\n",
       "  </thead>\n",
       "  <tbody>\n",
       "    <tr>\n",
       "      <th>0</th>\n",
       "      <td>1998-05-21</td>\n",
       "      <td>주가 사흘째 상승세\\n아남텔레콤, PDA 데이터 전송서비스 개시\\n&lt;회전목마&gt; 삼성...</td>\n",
       "      <td>0</td>\n",
       "    </tr>\n",
       "    <tr>\n",
       "      <th>1</th>\n",
       "      <td>1998-05-22</td>\n",
       "      <td>주가 3백70선 회복\\n`반도체업체는 여전히 안정된 직장'\\n휴대형 입체영상 모니터...</td>\n",
       "      <td>0</td>\n",
       "    </tr>\n",
       "    <tr>\n",
       "      <th>2</th>\n",
       "      <td>1998-05-23</td>\n",
       "      <td>삼성디자인연구원, 전통유산 디자인 CD-롬 제작\\n주가 3백50대로 밀려\\n&lt;확대경...</td>\n",
       "      <td>1</td>\n",
       "    </tr>\n",
       "    <tr>\n",
       "      <th>3</th>\n",
       "      <td>1998-05-26</td>\n",
       "      <td>한도폐지 첫날 주가 하락세\\n주가, 11년만에 최저치로 폭락\\n</td>\n",
       "      <td>0</td>\n",
       "    </tr>\n",
       "    <tr>\n",
       "      <th>4</th>\n",
       "      <td>1998-05-27</td>\n",
       "      <td>주가 급락세 지속, 3백10선도 위협\\n삼성전자, 매출 급신장\\n엘니뇨 덕, 에어컨...</td>\n",
       "      <td>1</td>\n",
       "    </tr>\n",
       "  </tbody>\n",
       "</table>\n",
       "</div>"
      ],
      "text/plain": [
       "        Date                                           Sentence  Change\n",
       "0 1998-05-21  주가 사흘째 상승세\\n아남텔레콤, PDA 데이터 전송서비스 개시\\n<회전목마> 삼성...       0\n",
       "1 1998-05-22  주가 3백70선 회복\\n`반도체업체는 여전히 안정된 직장'\\n휴대형 입체영상 모니터...       0\n",
       "2 1998-05-23  삼성디자인연구원, 전통유산 디자인 CD-롬 제작\\n주가 3백50대로 밀려\\n<확대경...       1\n",
       "3 1998-05-26                한도폐지 첫날 주가 하락세\\n주가, 11년만에 최저치로 폭락\\n       0\n",
       "4 1998-05-27  주가 급락세 지속, 3백10선도 위협\\n삼성전자, 매출 급신장\\n엘니뇨 덕, 에어컨...       1"
      ]
     },
     "execution_count": 318,
     "metadata": {},
     "output_type": "execute_result"
    }
   ],
   "source": [
    "final_data.head()"
   ]
  },
  {
   "cell_type": "code",
   "execution_count": 319,
   "metadata": {},
   "outputs": [
    {
     "name": "stdout",
     "output_type": "stream",
     "text": [
      "<class 'pandas.core.frame.DataFrame'>\n",
      "Int64Index: 5902 entries, 0 to 5901\n",
      "Data columns (total 3 columns):\n",
      " #   Column    Non-Null Count  Dtype         \n",
      "---  ------    --------------  -----         \n",
      " 0   Date      5902 non-null   datetime64[ns]\n",
      " 1   Sentence  5902 non-null   object        \n",
      " 2   Change    5902 non-null   int64         \n",
      "dtypes: datetime64[ns](1), int64(1), object(1)\n",
      "memory usage: 184.4+ KB\n"
     ]
    }
   ],
   "source": [
    "final_data.info()"
   ]
  },
  {
   "cell_type": "code",
   "execution_count": 320,
   "metadata": {},
   "outputs": [],
   "source": [
    "final_data.drop(\"Date\", axis=1, inplace=True)"
   ]
  },
  {
   "cell_type": "code",
   "execution_count": 321,
   "metadata": {},
   "outputs": [
    {
     "name": "stdout",
     "output_type": "stream",
     "text": [
      "<class 'pandas.core.frame.DataFrame'>\n",
      "Int64Index: 5902 entries, 0 to 5901\n",
      "Data columns (total 2 columns):\n",
      " #   Column    Non-Null Count  Dtype \n",
      "---  ------    --------------  ----- \n",
      " 0   Sentence  5902 non-null   object\n",
      " 1   Change    5902 non-null   int64 \n",
      "dtypes: int64(1), object(1)\n",
      "memory usage: 138.3+ KB\n"
     ]
    }
   ],
   "source": [
    "final_data.info()"
   ]
  },
  {
   "cell_type": "code",
   "execution_count": 322,
   "metadata": {},
   "outputs": [],
   "source": [
    "final_data.to_csv(\"final_data.csv\")"
   ]
  },
  {
   "cell_type": "code",
   "execution_count": 323,
   "metadata": {},
   "outputs": [
    {
     "data": {
      "text/html": [
       "<div>\n",
       "<style scoped>\n",
       "    .dataframe tbody tr th:only-of-type {\n",
       "        vertical-align: middle;\n",
       "    }\n",
       "\n",
       "    .dataframe tbody tr th {\n",
       "        vertical-align: top;\n",
       "    }\n",
       "\n",
       "    .dataframe thead th {\n",
       "        text-align: right;\n",
       "    }\n",
       "</style>\n",
       "<table border=\"1\" class=\"dataframe\">\n",
       "  <thead>\n",
       "    <tr style=\"text-align: right;\">\n",
       "      <th></th>\n",
       "      <th>Sentence</th>\n",
       "      <th>Change</th>\n",
       "    </tr>\n",
       "  </thead>\n",
       "  <tbody>\n",
       "    <tr>\n",
       "      <th>0</th>\n",
       "      <td>주가 사흘째 상승세\\n아남텔레콤, PDA 데이터 전송서비스 개시\\n&lt;회전목마&gt; 삼성...</td>\n",
       "      <td>0</td>\n",
       "    </tr>\n",
       "    <tr>\n",
       "      <th>1</th>\n",
       "      <td>주가 3백70선 회복\\n`반도체업체는 여전히 안정된 직장'\\n휴대형 입체영상 모니터...</td>\n",
       "      <td>0</td>\n",
       "    </tr>\n",
       "    <tr>\n",
       "      <th>2</th>\n",
       "      <td>삼성디자인연구원, 전통유산 디자인 CD-롬 제작\\n주가 3백50대로 밀려\\n&lt;확대경...</td>\n",
       "      <td>1</td>\n",
       "    </tr>\n",
       "    <tr>\n",
       "      <th>3</th>\n",
       "      <td>한도폐지 첫날 주가 하락세\\n주가, 11년만에 최저치로 폭락\\n</td>\n",
       "      <td>0</td>\n",
       "    </tr>\n",
       "    <tr>\n",
       "      <th>4</th>\n",
       "      <td>주가 급락세 지속, 3백10선도 위협\\n삼성전자, 매출 급신장\\n엘니뇨 덕, 에어컨...</td>\n",
       "      <td>1</td>\n",
       "    </tr>\n",
       "  </tbody>\n",
       "</table>\n",
       "</div>"
      ],
      "text/plain": [
       "                                            Sentence  Change\n",
       "0  주가 사흘째 상승세\\n아남텔레콤, PDA 데이터 전송서비스 개시\\n<회전목마> 삼성...       0\n",
       "1  주가 3백70선 회복\\n`반도체업체는 여전히 안정된 직장'\\n휴대형 입체영상 모니터...       0\n",
       "2  삼성디자인연구원, 전통유산 디자인 CD-롬 제작\\n주가 3백50대로 밀려\\n<확대경...       1\n",
       "3                한도폐지 첫날 주가 하락세\\n주가, 11년만에 최저치로 폭락\\n       0\n",
       "4  주가 급락세 지속, 3백10선도 위협\\n삼성전자, 매출 급신장\\n엘니뇨 덕, 에어컨...       1"
      ]
     },
     "execution_count": 323,
     "metadata": {},
     "output_type": "execute_result"
    }
   ],
   "source": [
    "final_data.head()"
   ]
  },
  {
   "cell_type": "code",
   "execution_count": null,
   "metadata": {},
   "outputs": [],
   "source": []
  }
 ],
 "metadata": {
  "kernelspec": {
   "display_name": "Python 3.8.13 ('a29')",
   "language": "python",
   "name": "python3"
  },
  "language_info": {
   "codemirror_mode": {
    "name": "ipython",
    "version": 3
   },
   "file_extension": ".py",
   "mimetype": "text/x-python",
   "name": "python",
   "nbconvert_exporter": "python",
   "pygments_lexer": "ipython3",
   "version": "3.8.13"
  },
  "orig_nbformat": 4,
  "vscode": {
   "interpreter": {
    "hash": "e3584e0094cc606059de00670c8f2673321413961648b189247649573872e648"
   }
  }
 },
 "nbformat": 4,
 "nbformat_minor": 2
}
