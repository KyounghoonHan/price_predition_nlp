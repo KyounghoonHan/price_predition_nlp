{
 "cells": [
  {
   "cell_type": "code",
   "execution_count": 1,
   "metadata": {},
   "outputs": [],
   "source": [
    "import requests\n",
    "import pandas as pd\n",
    "from bs4 import BeautifulSoup\n",
    "\n",
    "from selenium import webdriver\n",
    "from selenium.webdriver.chrome.service import Service as ChromeService\n",
    "from webdriver_manager.chrome import ChromeDriverManager\n",
    "from selenium.webdriver.common.by import By\n",
    "from selenium.webdriver.common.keys import Keys\n",
    "\n",
    "import time"
   ]
  },
  {
   "cell_type": "code",
   "execution_count": 2,
   "metadata": {},
   "outputs": [],
   "source": [
    "BASE_URL = \"https://finance.naver.com/sise/sise_market_sum.naver\"\n",
    "# https://finance.naver.com/sise/sise_market_sum.naver?&page=1\n",
    "num_last_page = 0"
   ]
  },
  {
   "cell_type": "code",
   "execution_count": 3,
   "metadata": {},
   "outputs": [
    {
     "name": "stdout",
     "output_type": "stream",
     "text": [
      "\n"
     ]
    },
    {
     "name": "stderr",
     "output_type": "stream",
     "text": [
      "[WDM] - ====== WebDriver manager ======\n",
      "[WDM] - Current google-chrome version is 102.0.5005\n",
      "[WDM] - Get LATEST chromedriver version for 102.0.5005 google-chrome\n",
      "[WDM] - About to download new driver from https://chromedriver.storage.googleapis.com/102.0.5005.61/chromedriver_mac64_m1.zip\n",
      "[WDM] - Driver has been saved in cache [/Users/krc/.wdm/drivers/chromedriver/mac64_m1/102.0.5005.61]\n"
     ]
    }
   ],
   "source": [
    "service = ChromeService(executable_path=ChromeDriverManager().install())\n",
    "driver = webdriver.Chrome(service=service)\n",
    "driver.get(BASE_URL)"
   ]
  },
  {
   "cell_type": "markdown",
   "metadata": {},
   "source": [
    "### 1. 마지막 페이지 번호 찾기"
   ]
  },
  {
   "cell_type": "code",
   "execution_count": 4,
   "metadata": {},
   "outputs": [],
   "source": [
    "xpath = \"//*[contains(text(),'맨뒤')]\"\n",
    "search_xpath = driver.find_element(by=By.XPATH, value=xpath)\n",
    "num_last_page = int(str(search_xpath.get_attribute('href'))[-2:])\n",
    "# //*[@id=\"contentarea\"]/div[3]/table[2]/tbody/tr/td[12]/a"
   ]
  },
  {
   "cell_type": "code",
   "execution_count": 5,
   "metadata": {},
   "outputs": [
    {
     "name": "stdout",
     "output_type": "stream",
     "text": [
      "37\n"
     ]
    }
   ],
   "source": [
    "print(num_last_page)\n",
    "driver.close()"
   ]
  },
  {
   "cell_type": "markdown",
   "metadata": {},
   "source": [
    "### 2. 페이지 번호 변경하면서 데이터 긁어오기"
   ]
  },
  {
   "cell_type": "code",
   "execution_count": 6,
   "metadata": {},
   "outputs": [],
   "source": [
    "columns = ['종목명', '현재가', '전일비', '등락률', '액면가', '시가총액', '상장주식수', '외국인비율', '거래량', 'PER', 'ROE', '토론실']\n",
    "tables = pd.DataFrame(columns=columns)\n",
    "# tables = tables.reset_index()"
   ]
  },
  {
   "cell_type": "code",
   "execution_count": 7,
   "metadata": {},
   "outputs": [
    {
     "data": {
      "text/html": [
       "<div>\n",
       "<style scoped>\n",
       "    .dataframe tbody tr th:only-of-type {\n",
       "        vertical-align: middle;\n",
       "    }\n",
       "\n",
       "    .dataframe tbody tr th {\n",
       "        vertical-align: top;\n",
       "    }\n",
       "\n",
       "    .dataframe thead th {\n",
       "        text-align: right;\n",
       "    }\n",
       "</style>\n",
       "<table border=\"1\" class=\"dataframe\">\n",
       "  <thead>\n",
       "    <tr style=\"text-align: right;\">\n",
       "      <th></th>\n",
       "      <th>종목명</th>\n",
       "      <th>현재가</th>\n",
       "      <th>전일비</th>\n",
       "      <th>등락률</th>\n",
       "      <th>액면가</th>\n",
       "      <th>시가총액</th>\n",
       "      <th>상장주식수</th>\n",
       "      <th>외국인비율</th>\n",
       "      <th>거래량</th>\n",
       "      <th>PER</th>\n",
       "      <th>ROE</th>\n",
       "      <th>토론실</th>\n",
       "    </tr>\n",
       "  </thead>\n",
       "  <tbody>\n",
       "  </tbody>\n",
       "</table>\n",
       "</div>"
      ],
      "text/plain": [
       "Empty DataFrame\n",
       "Columns: [종목명, 현재가, 전일비, 등락률, 액면가, 시가총액, 상장주식수, 외국인비율, 거래량, PER, ROE, 토론실]\n",
       "Index: []"
      ]
     },
     "execution_count": 7,
     "metadata": {},
     "output_type": "execute_result"
    }
   ],
   "source": [
    "tables"
   ]
  },
  {
   "cell_type": "code",
   "execution_count": 186,
   "metadata": {},
   "outputs": [],
   "source": [
    "# res = requests.get(BASE_URL+'?&page=1')\n",
    "# time.sleep(1)\n",
    "# # print(res.status_code)\n",
    "# soup = BeautifulSoup(res.content.decode(\"euc-kr\", \"replace\"), \"html.parser\")\n",
    "# soup_table = soup.select_one(\"div.box_type_l\")\n",
    "# table = pd.read_html(str(soup_table))\n",
    "# table = table[0]"
   ]
  },
  {
   "cell_type": "code",
   "execution_count": 187,
   "metadata": {},
   "outputs": [],
   "source": [
    "# table"
   ]
  },
  {
   "cell_type": "code",
   "execution_count": 188,
   "metadata": {},
   "outputs": [],
   "source": [
    "# pd.concat([tables, table], axis=0, sort=False)"
   ]
  },
  {
   "cell_type": "code",
   "execution_count": 8,
   "metadata": {},
   "outputs": [],
   "source": [
    "for i in range(1, num_last_page+1):\n",
    "    try:\n",
    "        res = requests.get(BASE_URL+f\"?&page={i}\")\n",
    "        time.sleep(1)\n",
    "        # print(res.status_code)\n",
    "        soup = BeautifulSoup(res.content.decode(\"euc-kr\", \"replace\"), \"html.parser\")\n",
    "        soup_table = soup.select_one(\"div.box_type_l\")\n",
    "        table = pd.read_html(str(soup_table))\n",
    "        table = table[0]\n",
    "        # print(table)\n",
    "        tables = pd.concat([tables, table], axis=0, sort=False)\n",
    "        # print(tables)\n",
    "\n",
    "    except:\n",
    "        print(\"Something went wrong.\")"
   ]
  },
  {
   "cell_type": "markdown",
   "metadata": {},
   "source": [
    "### Check results"
   ]
  },
  {
   "cell_type": "code",
   "execution_count": 9,
   "metadata": {},
   "outputs": [
    {
     "data": {
      "text/html": [
       "<div>\n",
       "<style scoped>\n",
       "    .dataframe tbody tr th:only-of-type {\n",
       "        vertical-align: middle;\n",
       "    }\n",
       "\n",
       "    .dataframe tbody tr th {\n",
       "        vertical-align: top;\n",
       "    }\n",
       "\n",
       "    .dataframe thead th {\n",
       "        text-align: right;\n",
       "    }\n",
       "</style>\n",
       "<table border=\"1\" class=\"dataframe\">\n",
       "  <thead>\n",
       "    <tr style=\"text-align: right;\">\n",
       "      <th></th>\n",
       "      <th>종목명</th>\n",
       "      <th>현재가</th>\n",
       "      <th>전일비</th>\n",
       "      <th>등락률</th>\n",
       "      <th>액면가</th>\n",
       "      <th>시가총액</th>\n",
       "      <th>상장주식수</th>\n",
       "      <th>외국인비율</th>\n",
       "      <th>거래량</th>\n",
       "      <th>PER</th>\n",
       "      <th>ROE</th>\n",
       "      <th>토론실</th>\n",
       "      <th>N</th>\n",
       "    </tr>\n",
       "  </thead>\n",
       "  <tbody>\n",
       "    <tr>\n",
       "      <th>0</th>\n",
       "      <td>NaN</td>\n",
       "      <td>NaN</td>\n",
       "      <td>NaN</td>\n",
       "      <td>NaN</td>\n",
       "      <td>NaN</td>\n",
       "      <td>NaN</td>\n",
       "      <td>NaN</td>\n",
       "      <td>NaN</td>\n",
       "      <td>NaN</td>\n",
       "      <td>NaN</td>\n",
       "      <td>NaN</td>\n",
       "      <td>NaN</td>\n",
       "      <td>NaN</td>\n",
       "    </tr>\n",
       "    <tr>\n",
       "      <th>1</th>\n",
       "      <td>삼성전자</td>\n",
       "      <td>65600.0</td>\n",
       "      <td>100.0</td>\n",
       "      <td>+0.15%</td>\n",
       "      <td>100.0</td>\n",
       "      <td>3916177.0</td>\n",
       "      <td>5969783.0</td>\n",
       "      <td>50.54</td>\n",
       "      <td>2849590.0</td>\n",
       "      <td>10.3</td>\n",
       "      <td>13.92</td>\n",
       "      <td>NaN</td>\n",
       "      <td>1.0</td>\n",
       "    </tr>\n",
       "    <tr>\n",
       "      <th>2</th>\n",
       "      <td>LG에너지솔루션</td>\n",
       "      <td>432000.0</td>\n",
       "      <td>0.0</td>\n",
       "      <td>0.00%</td>\n",
       "      <td>500.0</td>\n",
       "      <td>1010880.0</td>\n",
       "      <td>234000.0</td>\n",
       "      <td>3.22</td>\n",
       "      <td>20935.0</td>\n",
       "      <td>137.67</td>\n",
       "      <td>10.68</td>\n",
       "      <td>NaN</td>\n",
       "      <td>2.0</td>\n",
       "    </tr>\n",
       "    <tr>\n",
       "      <th>3</th>\n",
       "      <td>SK하이닉스</td>\n",
       "      <td>106000.0</td>\n",
       "      <td>2000.0</td>\n",
       "      <td>+1.92%</td>\n",
       "      <td>5000.0</td>\n",
       "      <td>771682.0</td>\n",
       "      <td>728002.0</td>\n",
       "      <td>49.77</td>\n",
       "      <td>724811.0</td>\n",
       "      <td>7.29</td>\n",
       "      <td>16.84</td>\n",
       "      <td>NaN</td>\n",
       "      <td>3.0</td>\n",
       "    </tr>\n",
       "    <tr>\n",
       "      <th>4</th>\n",
       "      <td>삼성바이오로직스</td>\n",
       "      <td>830000.0</td>\n",
       "      <td>8000.0</td>\n",
       "      <td>+0.97%</td>\n",
       "      <td>2500.0</td>\n",
       "      <td>590744.0</td>\n",
       "      <td>71174.0</td>\n",
       "      <td>10.52</td>\n",
       "      <td>6702.0</td>\n",
       "      <td>115.89</td>\n",
       "      <td>8.21</td>\n",
       "      <td>NaN</td>\n",
       "      <td>4.0</td>\n",
       "    </tr>\n",
       "  </tbody>\n",
       "</table>\n",
       "</div>"
      ],
      "text/plain": [
       "        종목명       현재가     전일비     등락률     액면가       시가총액      상장주식수  외국인비율  \\\n",
       "0       NaN       NaN     NaN     NaN     NaN        NaN        NaN    NaN   \n",
       "1      삼성전자   65600.0   100.0  +0.15%   100.0  3916177.0  5969783.0  50.54   \n",
       "2  LG에너지솔루션  432000.0     0.0   0.00%   500.0  1010880.0   234000.0   3.22   \n",
       "3    SK하이닉스  106000.0  2000.0  +1.92%  5000.0   771682.0   728002.0  49.77   \n",
       "4  삼성바이오로직스  830000.0  8000.0  +0.97%  2500.0   590744.0    71174.0  10.52   \n",
       "\n",
       "         거래량     PER    ROE  토론실    N  \n",
       "0        NaN     NaN    NaN  NaN  NaN  \n",
       "1  2849590.0    10.3  13.92  NaN  1.0  \n",
       "2    20935.0  137.67  10.68  NaN  2.0  \n",
       "3   724811.0    7.29  16.84  NaN  3.0  \n",
       "4     6702.0  115.89   8.21  NaN  4.0  "
      ]
     },
     "execution_count": 9,
     "metadata": {},
     "output_type": "execute_result"
    }
   ],
   "source": [
    "tables.head()"
   ]
  },
  {
   "cell_type": "code",
   "execution_count": 10,
   "metadata": {},
   "outputs": [
    {
     "data": {
      "text/html": [
       "<div>\n",
       "<style scoped>\n",
       "    .dataframe tbody tr th:only-of-type {\n",
       "        vertical-align: middle;\n",
       "    }\n",
       "\n",
       "    .dataframe tbody tr th {\n",
       "        vertical-align: top;\n",
       "    }\n",
       "\n",
       "    .dataframe thead th {\n",
       "        text-align: right;\n",
       "    }\n",
       "</style>\n",
       "<table border=\"1\" class=\"dataframe\">\n",
       "  <thead>\n",
       "    <tr style=\"text-align: right;\">\n",
       "      <th></th>\n",
       "      <th>종목명</th>\n",
       "      <th>현재가</th>\n",
       "      <th>전일비</th>\n",
       "      <th>등락률</th>\n",
       "      <th>액면가</th>\n",
       "      <th>시가총액</th>\n",
       "      <th>상장주식수</th>\n",
       "      <th>외국인비율</th>\n",
       "      <th>거래량</th>\n",
       "      <th>PER</th>\n",
       "      <th>ROE</th>\n",
       "      <th>토론실</th>\n",
       "      <th>N</th>\n",
       "    </tr>\n",
       "  </thead>\n",
       "  <tbody>\n",
       "    <tr>\n",
       "      <th>4</th>\n",
       "      <td>KBSTAR 200산업재</td>\n",
       "      <td>12285.0</td>\n",
       "      <td>50.0</td>\n",
       "      <td>-0.41%</td>\n",
       "      <td>0.0</td>\n",
       "      <td>10.0</td>\n",
       "      <td>80.0</td>\n",
       "      <td>0.0</td>\n",
       "      <td>60.0</td>\n",
       "      <td>NaN</td>\n",
       "      <td>NaN</td>\n",
       "      <td>NaN</td>\n",
       "      <td>1804.0</td>\n",
       "    </tr>\n",
       "    <tr>\n",
       "      <th>5</th>\n",
       "      <td>KBSTAR 200생활소비재</td>\n",
       "      <td>6925.0</td>\n",
       "      <td>30.0</td>\n",
       "      <td>-0.43%</td>\n",
       "      <td>0.0</td>\n",
       "      <td>10.0</td>\n",
       "      <td>140.0</td>\n",
       "      <td>0.0</td>\n",
       "      <td>57.0</td>\n",
       "      <td>NaN</td>\n",
       "      <td>NaN</td>\n",
       "      <td>NaN</td>\n",
       "      <td>1805.0</td>\n",
       "    </tr>\n",
       "    <tr>\n",
       "      <th>6</th>\n",
       "      <td>NaN</td>\n",
       "      <td>NaN</td>\n",
       "      <td>NaN</td>\n",
       "      <td>NaN</td>\n",
       "      <td>NaN</td>\n",
       "      <td>NaN</td>\n",
       "      <td>NaN</td>\n",
       "      <td>NaN</td>\n",
       "      <td>NaN</td>\n",
       "      <td>NaN</td>\n",
       "      <td>NaN</td>\n",
       "      <td>NaN</td>\n",
       "      <td>NaN</td>\n",
       "    </tr>\n",
       "    <tr>\n",
       "      <th>7</th>\n",
       "      <td>NaN</td>\n",
       "      <td>NaN</td>\n",
       "      <td>NaN</td>\n",
       "      <td>NaN</td>\n",
       "      <td>NaN</td>\n",
       "      <td>NaN</td>\n",
       "      <td>NaN</td>\n",
       "      <td>NaN</td>\n",
       "      <td>NaN</td>\n",
       "      <td>NaN</td>\n",
       "      <td>NaN</td>\n",
       "      <td>NaN</td>\n",
       "      <td>NaN</td>\n",
       "    </tr>\n",
       "    <tr>\n",
       "      <th>8</th>\n",
       "      <td>NaN</td>\n",
       "      <td>NaN</td>\n",
       "      <td>NaN</td>\n",
       "      <td>NaN</td>\n",
       "      <td>NaN</td>\n",
       "      <td>NaN</td>\n",
       "      <td>NaN</td>\n",
       "      <td>NaN</td>\n",
       "      <td>NaN</td>\n",
       "      <td>NaN</td>\n",
       "      <td>NaN</td>\n",
       "      <td>NaN</td>\n",
       "      <td>NaN</td>\n",
       "    </tr>\n",
       "  </tbody>\n",
       "</table>\n",
       "</div>"
      ],
      "text/plain": [
       "               종목명      현재가   전일비     등락률  액면가  시가총액  상장주식수 외국인비율   거래량  PER  \\\n",
       "4    KBSTAR 200산업재  12285.0  50.0  -0.41%  0.0  10.0   80.0   0.0  60.0  NaN   \n",
       "5  KBSTAR 200생활소비재   6925.0  30.0  -0.43%  0.0  10.0  140.0   0.0  57.0  NaN   \n",
       "6              NaN      NaN   NaN     NaN  NaN   NaN    NaN   NaN   NaN  NaN   \n",
       "7              NaN      NaN   NaN     NaN  NaN   NaN    NaN   NaN   NaN  NaN   \n",
       "8              NaN      NaN   NaN     NaN  NaN   NaN    NaN   NaN   NaN  NaN   \n",
       "\n",
       "   ROE  토론실       N  \n",
       "4  NaN  NaN  1804.0  \n",
       "5  NaN  NaN  1805.0  \n",
       "6  NaN  NaN     NaN  \n",
       "7  NaN  NaN     NaN  \n",
       "8  NaN  NaN     NaN  "
      ]
     },
     "execution_count": 10,
     "metadata": {},
     "output_type": "execute_result"
    }
   ],
   "source": [
    "tables.tail()"
   ]
  },
  {
   "cell_type": "code",
   "execution_count": 11,
   "metadata": {},
   "outputs": [
    {
     "name": "stdout",
     "output_type": "stream",
     "text": [
      "<class 'pandas.core.frame.DataFrame'>\n",
      "Int64Index: 2925 entries, 0 to 8\n",
      "Data columns (total 13 columns):\n",
      " #   Column  Non-Null Count  Dtype  \n",
      "---  ------  --------------  -----  \n",
      " 0   종목명     1805 non-null   object \n",
      " 1   현재가     1805 non-null   object \n",
      " 2   전일비     1805 non-null   object \n",
      " 3   등락률     1805 non-null   object \n",
      " 4   액면가     1805 non-null   object \n",
      " 5   시가총액    1805 non-null   object \n",
      " 6   상장주식수   1805 non-null   object \n",
      " 7   외국인비율   1805 non-null   object \n",
      " 8   거래량     1805 non-null   object \n",
      " 9   PER     931 non-null    object \n",
      " 10  ROE     795 non-null    object \n",
      " 11  토론실     0 non-null      object \n",
      " 12  N       1805 non-null   float64\n",
      "dtypes: float64(1), object(12)\n",
      "memory usage: 319.9+ KB\n"
     ]
    }
   ],
   "source": [
    "tables.info()"
   ]
  },
  {
   "cell_type": "code",
   "execution_count": 222,
   "metadata": {},
   "outputs": [],
   "source": [
    "tables.dropna(how='all')\n",
    "tables.drop(\"토론실\", axis=1, inplace=True)\n",
    "tables.drop(\"N\", axis=1, inplace=True)"
   ]
  },
  {
   "cell_type": "code",
   "execution_count": 223,
   "metadata": {},
   "outputs": [
    {
     "name": "stdout",
     "output_type": "stream",
     "text": [
      "<class 'pandas.core.frame.DataFrame'>\n",
      "Int64Index: 2923 entries, 0 to 6\n",
      "Data columns (total 11 columns):\n",
      " #   Column  Non-Null Count  Dtype \n",
      "---  ------  --------------  ----- \n",
      " 0   종목명     1803 non-null   object\n",
      " 1   현재가     1803 non-null   object\n",
      " 2   전일비     1803 non-null   object\n",
      " 3   등락률     1803 non-null   object\n",
      " 4   액면가     1803 non-null   object\n",
      " 5   시가총액    1803 non-null   object\n",
      " 6   상장주식수   1803 non-null   object\n",
      " 7   외국인비율   1803 non-null   object\n",
      " 8   거래량     1803 non-null   object\n",
      " 9   PER     932 non-null    object\n",
      " 10  ROE     795 non-null    object\n",
      "dtypes: object(11)\n",
      "memory usage: 274.0+ KB\n"
     ]
    }
   ],
   "source": [
    "tables.info()"
   ]
  },
  {
   "cell_type": "code",
   "execution_count": 224,
   "metadata": {},
   "outputs": [],
   "source": [
    "tables[\"PBR\"] = (tables.PER * tables.ROE / 100)"
   ]
  },
  {
   "cell_type": "code",
   "execution_count": 225,
   "metadata": {},
   "outputs": [
    {
     "name": "stdout",
     "output_type": "stream",
     "text": [
      "<class 'pandas.core.frame.DataFrame'>\n",
      "Int64Index: 2923 entries, 0 to 6\n",
      "Data columns (total 12 columns):\n",
      " #   Column  Non-Null Count  Dtype \n",
      "---  ------  --------------  ----- \n",
      " 0   종목명     1803 non-null   object\n",
      " 1   현재가     1803 non-null   object\n",
      " 2   전일비     1803 non-null   object\n",
      " 3   등락률     1803 non-null   object\n",
      " 4   액면가     1803 non-null   object\n",
      " 5   시가총액    1803 non-null   object\n",
      " 6   상장주식수   1803 non-null   object\n",
      " 7   외국인비율   1803 non-null   object\n",
      " 8   거래량     1803 non-null   object\n",
      " 9   PER     932 non-null    object\n",
      " 10  ROE     795 non-null    object\n",
      " 11  PBR     793 non-null    object\n",
      "dtypes: object(12)\n",
      "memory usage: 296.9+ KB\n"
     ]
    }
   ],
   "source": [
    "tables.info()"
   ]
  },
  {
   "cell_type": "code",
   "execution_count": 239,
   "metadata": {},
   "outputs": [
    {
     "data": {
      "text/html": [
       "<div>\n",
       "<style scoped>\n",
       "    .dataframe tbody tr th:only-of-type {\n",
       "        vertical-align: middle;\n",
       "    }\n",
       "\n",
       "    .dataframe tbody tr th {\n",
       "        vertical-align: top;\n",
       "    }\n",
       "\n",
       "    .dataframe thead th {\n",
       "        text-align: right;\n",
       "    }\n",
       "</style>\n",
       "<table border=\"1\" class=\"dataframe\">\n",
       "  <thead>\n",
       "    <tr style=\"text-align: right;\">\n",
       "      <th></th>\n",
       "      <th>종목명</th>\n",
       "      <th>현재가</th>\n",
       "      <th>전일비</th>\n",
       "      <th>등락률</th>\n",
       "      <th>액면가</th>\n",
       "      <th>시가총액</th>\n",
       "      <th>상장주식수</th>\n",
       "      <th>외국인비율</th>\n",
       "      <th>거래량</th>\n",
       "      <th>PER</th>\n",
       "      <th>ROE</th>\n",
       "      <th>PBR</th>\n",
       "    </tr>\n",
       "  </thead>\n",
       "  <tbody>\n",
       "    <tr>\n",
       "      <th>67</th>\n",
       "      <td>롯데정밀화학</td>\n",
       "      <td>82400.0</td>\n",
       "      <td>1200.0</td>\n",
       "      <td>-1.44%</td>\n",
       "      <td>5000.0</td>\n",
       "      <td>21259.0</td>\n",
       "      <td>25800.0</td>\n",
       "      <td>20.38</td>\n",
       "      <td>32715.0</td>\n",
       "      <td>3.7</td>\n",
       "      <td>30.43</td>\n",
       "      <td>1.12591</td>\n",
       "    </tr>\n",
       "  </tbody>\n",
       "</table>\n",
       "</div>"
      ],
      "text/plain": [
       "       종목명      현재가     전일비     등락률     액면가     시가총액    상장주식수  외국인비율      거래량  \\\n",
       "67  롯데정밀화학  82400.0  1200.0  -1.44%  5000.0  21259.0  25800.0  20.38  32715.0   \n",
       "\n",
       "    PER    ROE      PBR  \n",
       "67  3.7  30.43  1.12591  "
      ]
     },
     "execution_count": 239,
     "metadata": {},
     "output_type": "execute_result"
    }
   ],
   "source": [
    "# tables[tables[\"종목명\"]==\"롯데정밀화학\"]"
   ]
  },
  {
   "cell_type": "code",
   "execution_count": 244,
   "metadata": {},
   "outputs": [],
   "source": [
    "filtered_stock = tables[(tables.PBR > 0) & (tables.PBR < 0.6) & (tables.PER > 0) & (tables.PER < 12)]"
   ]
  },
  {
   "cell_type": "code",
   "execution_count": 245,
   "metadata": {},
   "outputs": [
    {
     "name": "stdout",
     "output_type": "stream",
     "text": [
      "<class 'pandas.core.frame.DataFrame'>\n",
      "Int64Index: 137 entries, 18 to 43\n",
      "Data columns (total 12 columns):\n",
      " #   Column  Non-Null Count  Dtype \n",
      "---  ------  --------------  ----- \n",
      " 0   종목명     137 non-null    object\n",
      " 1   현재가     137 non-null    object\n",
      " 2   전일비     137 non-null    object\n",
      " 3   등락률     137 non-null    object\n",
      " 4   액면가     137 non-null    object\n",
      " 5   시가총액    137 non-null    object\n",
      " 6   상장주식수   137 non-null    object\n",
      " 7   외국인비율   137 non-null    object\n",
      " 8   거래량     137 non-null    object\n",
      " 9   PER     137 non-null    object\n",
      " 10  ROE     137 non-null    object\n",
      " 11  PBR     137 non-null    object\n",
      "dtypes: object(12)\n",
      "memory usage: 13.9+ KB\n"
     ]
    }
   ],
   "source": [
    "filtered_stock.info()"
   ]
  },
  {
   "cell_type": "code",
   "execution_count": 246,
   "metadata": {},
   "outputs": [],
   "source": [
    "filtered_stock.to_excel(\"stocks_under_PBR_1.2.xlsx\", sheet_name=\"kospi\", index=False)"
   ]
  },
  {
   "cell_type": "code",
   "execution_count": null,
   "metadata": {},
   "outputs": [],
   "source": []
  }
 ],
 "metadata": {
  "interpreter": {
   "hash": "e3584e0094cc606059de00670c8f2673321413961648b189247649573872e648"
  },
  "kernelspec": {
   "display_name": "Python 3.8.13 ('a29')",
   "language": "python",
   "name": "python3"
  },
  "language_info": {
   "codemirror_mode": {
    "name": "ipython",
    "version": 3
   },
   "file_extension": ".py",
   "mimetype": "text/x-python",
   "name": "python",
   "nbconvert_exporter": "python",
   "pygments_lexer": "ipython3",
   "version": "3.8.13"
  },
  "orig_nbformat": 4
 },
 "nbformat": 4,
 "nbformat_minor": 2
}
