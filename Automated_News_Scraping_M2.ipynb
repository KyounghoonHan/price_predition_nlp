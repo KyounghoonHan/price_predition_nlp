{
 "cells": [
  {
   "cell_type": "code",
   "execution_count": 1,
   "id": "a75c3e83",
   "metadata": {
    "ExecuteTime": {
     "end_time": "2022-07-27T02:47:44.617940Z",
     "start_time": "2022-07-27T02:47:44.407147Z"
    }
   },
   "outputs": [],
   "source": [
    "# 라이브러리 import\n",
    "import os\n",
    "import pandas as pd\n",
    "import numpy as np\n",
    "import math\n",
    "\n",
    "# 셀레늄\n",
    "from selenium.webdriver.common.alert import Alert\n",
    "from selenium import webdriver  # 라이브러리(모듈) 가져오라\n",
    "# pip install chromedriver_autoinstaller\n",
    "from selenium.webdriver.common.keys import Keys\n",
    "from selenium.webdriver import ActionChains as AC\n",
    "\n",
    "from selenium.webdriver.chrome.service import Service as ChromeService\n",
    "from webdriver_manager.chrome import ChromeDriverManager\n",
    "from selenium.webdriver.common.by import By\n",
    "from selenium.webdriver.common.keys import Keys\n",
    "\n",
    "# tqdm : for문 진행상황 체크\n",
    "from tqdm import tqdm, tqdm_notebook\n",
    "from tqdm.notebook import tqdm\n",
    "\n",
    "# 정규표현식(regular expression) : 문자(알파벳,한글), 숫자, 특수기호 정제 및 추출\n",
    "import re\n",
    "from time import sleep\n",
    "import time\n",
    "\n",
    "# 워닝 무시\n",
    "import warnings\n",
    "warnings.filterwarnings('ignore')"
   ]
  },
  {
   "cell_type": "markdown",
   "id": "3780f714",
   "metadata": {},
   "source": [
    "# for문으로 크롤링 "
   ]
  },
  {
   "cell_type": "code",
   "execution_count": 51,
   "id": "c838b67f",
   "metadata": {
    "ExecuteTime": {
     "end_time": "2022-07-27T02:47:59.943176Z",
     "start_time": "2022-07-27T02:47:50.844911Z"
    }
   },
   "outputs": [
    {
     "name": "stdout",
     "output_type": "stream",
     "text": [
      "\n"
     ]
    },
    {
     "name": "stderr",
     "output_type": "stream",
     "text": [
      "[WDM] - ====== WebDriver manager ======\n",
      "[WDM] - Current google-chrome version is 103.0.5060\n",
      "[WDM] - Get LATEST chromedriver version for 103.0.5060 google-chrome\n",
      "[WDM] - Driver [/Users/krc/.wdm/drivers/chromedriver/mac64_m1/103.0.5060.134/chromedriver] found in cache\n"
     ]
    }
   ],
   "source": [
    "# 검색어 입력\n",
    "search = '삼성전자'\n",
    "\n",
    "# 크롬 옵션\n",
    "options = webdriver.ChromeOptions()\n",
    "\n",
    "# 크롬 윈도우 사이즈 조절\n",
    "options.add_argument(\"--window-size=1000,1200\") # window-size -> 기본 : 1920,1080\n",
    "\n",
    "# import chromedriver_autoinstaller\n",
    "\n",
    "# chrome_path = chromedriver_autoinstaller.install()\n",
    "# driver = webdriver.Chrome(chrome_path, options=options)\n",
    "service = ChromeService(executable_path=ChromeDriverManager().install())\n",
    "driver = webdriver.Chrome(service=service)\n",
    "\n",
    "time.sleep(0.01)\n",
    "driver.get(\"https://www.naver.com\") # -> 네이버 크롬 창이 뜬다.\n",
    "\n",
    "# 네이버 검색어 입력 후 검색\n",
    "element = driver.find_element(\"name\", \"query\") \n",
    "element.clear()  # 혹시 검색창에 존재하는 텍스트 제거\n",
    "\n",
    "element.send_keys(search)  # 검색창에 검색어 전달\n",
    "element.submit()  # 검색 클릭\n",
    "time.sleep(0.01)"
   ]
  },
  {
   "cell_type": "code",
   "execution_count": 52,
   "id": "746a5ad1",
   "metadata": {
    "ExecuteTime": {
     "end_time": "2022-07-27T02:48:33.336600Z",
     "start_time": "2022-07-27T02:48:31.987833Z"
    }
   },
   "outputs": [],
   "source": [
    "# 뉴스 클릭\n",
    "driver.find_element(\"link text\", \"뉴스\").click() \n",
    "time.sleep(0.01)"
   ]
  },
  {
   "cell_type": "code",
   "execution_count": 53,
   "id": "62e6071d",
   "metadata": {
    "ExecuteTime": {
     "end_time": "2022-07-27T02:48:34.196381Z",
     "start_time": "2022-07-27T02:48:33.338849Z"
    }
   },
   "outputs": [],
   "source": [
    "# '오래된 순' 클릭\n",
    "driver.find_element(\"link text\", \"오래된순\").click()  \n",
    "time.sleep(0.01)"
   ]
  },
  {
   "cell_type": "code",
   "execution_count": 70,
   "id": "8ea594f8",
   "metadata": {},
   "outputs": [],
   "source": [
    "# 우선 수기로 옵션 누르고 조회 기간을 설정해줌"
   ]
  },
  {
   "cell_type": "code",
   "execution_count": 54,
   "id": "248a9a92",
   "metadata": {
    "ExecuteTime": {
     "end_time": "2022-07-27T04:55:47.369442Z",
     "start_time": "2022-07-27T04:50:21.309244Z"
    },
    "scrolled": true
   },
   "outputs": [],
   "source": [
    "# 뉴스 데이터 수집\n",
    "news_list = []\n",
    "date_list = []\n",
    "title_list = []\n",
    "MAX_ITERATION = 380\n",
    "\n",
    "for _ in range(120):\n",
    "    time.sleep(1)\n",
    "\n",
    "    # 기간 변경해 주기\n",
    "    if len(date_list):\n",
    "\n",
    "        for index in range(1, 10):\n",
    "            splited_date = date_list[-index].split('.')\n",
    "            if (len(splited_date[0]) == 4) and (len(splited_date[1]) == 2) and (len(splited_date[2]) == 2):\n",
    "                break \n",
    "\n",
    "        # splited_date = date_list[-1].split('.')\n",
    "        year = int(splited_date[0]) - 1990 + 1\n",
    "        month = int(splited_date[1])\n",
    "        day = int(splited_date[2])\n",
    "\n",
    "        # 기간을 클릭 해서 입력창 활성화  \n",
    "        time.sleep(4)   \n",
    "        driver.find_element(by=By.CSS_SELECTOR, value='#snb > div.api_group_option_sort._search_option_detail_wrap > ul > li.bx.term > div > div.option > a.txt.txt_option._calendar_select_trigger').click()\n",
    "        time.sleep(2)\n",
    "\n",
    "        ## 시작 일자 조정 ##\n",
    "        \n",
    "        # 년도 \n",
    "        # 2016년 CSS_SELECTOR : snb > div.api_group_option_sort._search_option_detail_wrap > ul > li.bx.term > div > div.api_select_option.type_calendar._calendar_select_layer > div.select_wrap._root > div:nth-child(1) > div > div > div > ul > li:nth-child(27)\n",
    "        driver.find_element(by=By.CSS_SELECTOR, value=f'#snb > div.api_group_option_sort._search_option_detail_wrap > ul > li.bx.term > div > div.api_select_option.type_calendar._calendar_select_layer > div.select_wrap._root > div:nth-child(1) > div > div > div > ul > li:nth-child({year})').click()\n",
    "        time.sleep(1)\n",
    "        \n",
    "        # 월\n",
    "        # 1월 CSS_SELECTOR : snb > div.api_group_option_sort._search_option_detail_wrap > ul > li.bx.term > div > div.api_select_option.type_calendar._calendar_select_layer > div.select_wrap._root > div:nth-child(2) > div > div > div > ul > li:nth-child(1)\n",
    "        driver.find_element(by=By.CSS_SELECTOR, value=f'#snb > div.api_group_option_sort._search_option_detail_wrap > ul > li.bx.term > div > div.api_select_option.type_calendar._calendar_select_layer > div.select_wrap._root > div:nth-child(2) > div > div > div > ul > li:nth-child({month})').click()\n",
    "        time.sleep(1)\n",
    "        \n",
    "        # 일\n",
    "        # 1일 CSS_SELECTOR : #snb > div.api_group_option_sort._search_option_detail_wrap > ul > li.bx.term > div > div.api_select_option.type_calendar._calendar_select_layer > div.select_wrap._root > div:nth-child(3) > div > div > div > ul > li:nth-child(1)\n",
    "        driver.find_element(by=By.CSS_SELECTOR, value=f'#snb > div.api_group_option_sort._search_option_detail_wrap > ul > li.bx.term > div > div.api_select_option.type_calendar._calendar_select_layer > div.select_wrap._root > div:nth-child(3) > div > div > div > ul > li:nth-child({day})').click()\n",
    "        time.sleep(1)\n",
    "        \n",
    "        # \"적용\" 버튼 클릭\n",
    "        driver.find_element(by=By.CSS_SELECTOR, value='#snb > div.api_group_option_sort._search_option_detail_wrap > ul > li.bx.term > div > div.api_select_option.type_calendar._calendar_select_layer > div.btn_area > button').click()\n",
    "        time.sleep(2)\n",
    "        \n",
    "    for i in range(MAX_ITERATION):\n",
    "\n",
    "        # 언론사\n",
    "        newses = driver.find_elements('css selector', 'a.info.press')\n",
    "        temp_list = []\n",
    "        for news in newses:\n",
    "            temp_list.append(news.text)\n",
    "            temp_list = [x for x in temp_list ]\n",
    "        news_list = news_list + temp_list \n",
    "        \n",
    "        # 날짜\n",
    "        dates = driver.find_elements('css selector', 'span.info')\n",
    "        temp_list = []\n",
    "        for date in dates:\n",
    "            temp_list.append(date.text)\n",
    "            temp_list = [x for x in temp_list ]\n",
    "        date_list = date_list + temp_list \n",
    "        \n",
    "        # 제목\n",
    "        titles = driver.find_elements('css selector', 'a.news_tit')\n",
    "        temp_list = []\n",
    "        for title in titles:\n",
    "            temp_list.append(title.text)\n",
    "            temp_list = [x for x in temp_list ]\n",
    "        title_list = title_list + temp_list \n",
    "        \n",
    "        # 다음페이지 클릭\n",
    "        driver.find_element('css selector', 'a.btn_next').click()\n",
    "        time.sleep(0.001)"
   ]
  },
  {
   "cell_type": "code",
   "execution_count": 55,
   "id": "951c8833",
   "metadata": {},
   "outputs": [
    {
     "name": "stdout",
     "output_type": "stream",
     "text": [
      "456000\n",
      "['아주경제', '아시아타임즈']\n",
      "['2020.10.27.', '2020.10.27.']\n",
      "[\"[이건희 회장 별세] 사흘째 재계 '큰 별' 기렸다...28일 '마지막 출근길' 오를...\", \"[마감] LG화학, 국민연금 배터리 분할 '반대'...에스와이, 솔라루프 기대감 '...\"]\n"
     ]
    }
   ],
   "source": [
    "print(len(title_list))\n",
    "print(news_list[-2:])\n",
    "print(date_list[-2:])\n",
    "print(title_list[-2:])"
   ]
  },
  {
   "cell_type": "code",
   "execution_count": 56,
   "id": "41363e7a",
   "metadata": {
    "ExecuteTime": {
     "end_time": "2022-07-27T04:57:06.101508Z",
     "start_time": "2022-07-27T04:57:05.976650Z"
    }
   },
   "outputs": [
    {
     "data": {
      "text/html": [
       "<div>\n",
       "<style scoped>\n",
       "    .dataframe tbody tr th:only-of-type {\n",
       "        vertical-align: middle;\n",
       "    }\n",
       "\n",
       "    .dataframe tbody tr th {\n",
       "        vertical-align: top;\n",
       "    }\n",
       "\n",
       "    .dataframe thead th {\n",
       "        text-align: right;\n",
       "    }\n",
       "</style>\n",
       "<table border=\"1\" class=\"dataframe\">\n",
       "  <thead>\n",
       "    <tr style=\"text-align: right;\">\n",
       "      <th></th>\n",
       "      <th>언론사</th>\n",
       "      <th>날짜</th>\n",
       "      <th>제목</th>\n",
       "    </tr>\n",
       "  </thead>\n",
       "  <tbody>\n",
       "    <tr>\n",
       "      <th>0</th>\n",
       "      <td>글로벌이코노믹</td>\n",
       "      <td>2019.03.27.</td>\n",
       "      <td>[뉴욕증시] 다우지수 흔들, R의 공포 금리역전 갈수록 더 심각… 원달러환율 ...</td>\n",
       "    </tr>\n",
       "    <tr>\n",
       "      <th>1</th>\n",
       "      <td>코리아중앙데일리</td>\n",
       "      <td>2019.03.27.</td>\n",
       "      <td>A hamstrung tech industry (KOR)</td>\n",
       "    </tr>\n",
       "    <tr>\n",
       "      <th>2</th>\n",
       "      <td>뉴스토마토</td>\n",
       "      <td>2019.03.27.</td>\n",
       "      <td>(ELF 재테크)①ELS 닮은꼴…\"급락장은 없다\"에 베팅</td>\n",
       "    </tr>\n",
       "    <tr>\n",
       "      <th>3</th>\n",
       "      <td>아주경제</td>\n",
       "      <td>2019.03.27.</td>\n",
       "      <td>전날 외국인 코스피 순매수 상위종목에 삼성전자·삼성물산</td>\n",
       "    </tr>\n",
       "    <tr>\n",
       "      <th>4</th>\n",
       "      <td>아주경제</td>\n",
       "      <td>2019.03.27.</td>\n",
       "      <td>[아주증시포커스] 상장사·회계사 모두 부담스러운 새 외감법</td>\n",
       "    </tr>\n",
       "    <tr>\n",
       "      <th>...</th>\n",
       "      <td>...</td>\n",
       "      <td>...</td>\n",
       "      <td>...</td>\n",
       "    </tr>\n",
       "    <tr>\n",
       "      <th>455938</th>\n",
       "      <td>뉴스핌</td>\n",
       "      <td>2020.09.17.</td>\n",
       "      <td>고 이건희 회장 빈소 나서는 문성현 경제사회노동위원회 위원장</td>\n",
       "    </tr>\n",
       "    <tr>\n",
       "      <th>455939</th>\n",
       "      <td>한국경제언론사 선정</td>\n",
       "      <td>14면 TOP</td>\n",
       "      <td>경주 양성자가속기 빔 이용 경쟁률 '역대 최고'</td>\n",
       "    </tr>\n",
       "    <tr>\n",
       "      <th>455940</th>\n",
       "      <td>YTN</td>\n",
       "      <td>2020.09.17.</td>\n",
       "      <td>인재경영</td>\n",
       "    </tr>\n",
       "    <tr>\n",
       "      <th>455941</th>\n",
       "      <td>아주경제</td>\n",
       "      <td>14면 1단</td>\n",
       "      <td>2020 국정감사 기업 이슈 재조명...\"로드숍 불공정 운영, 하도급법 위반 및 기...</td>\n",
       "    </tr>\n",
       "    <tr>\n",
       "      <th>455942</th>\n",
       "      <td>아시아타임즈</td>\n",
       "      <td>2020.09.17.</td>\n",
       "      <td>'현대家 며느리' 노현정, 故이건희 회장 빈소 찾아 조문</td>\n",
       "    </tr>\n",
       "  </tbody>\n",
       "</table>\n",
       "<p>455943 rows × 3 columns</p>\n",
       "</div>"
      ],
      "text/plain": [
       "               언론사           날짜  \\\n",
       "0          글로벌이코노믹  2019.03.27.   \n",
       "1         코리아중앙데일리  2019.03.27.   \n",
       "2            뉴스토마토  2019.03.27.   \n",
       "3             아주경제  2019.03.27.   \n",
       "4             아주경제  2019.03.27.   \n",
       "...            ...          ...   \n",
       "455938         뉴스핌  2020.09.17.   \n",
       "455939  한국경제언론사 선정      14면 TOP   \n",
       "455940         YTN  2020.09.17.   \n",
       "455941        아주경제       14면 1단   \n",
       "455942      아시아타임즈  2020.09.17.   \n",
       "\n",
       "                                                       제목  \n",
       "0          [뉴욕증시] 다우지수 흔들, R의 공포 금리역전 갈수록 더 심각… 원달러환율 ...  \n",
       "1                         A hamstrung tech industry (KOR)  \n",
       "2                         (ELF 재테크)①ELS 닮은꼴…\"급락장은 없다\"에 베팅  \n",
       "3                          전날 외국인 코스피 순매수 상위종목에 삼성전자·삼성물산  \n",
       "4                        [아주증시포커스] 상장사·회계사 모두 부담스러운 새 외감법  \n",
       "...                                                   ...  \n",
       "455938                  고 이건희 회장 빈소 나서는 문성현 경제사회노동위원회 위원장  \n",
       "455939                         경주 양성자가속기 빔 이용 경쟁률 '역대 최고'  \n",
       "455940                                               인재경영  \n",
       "455941  2020 국정감사 기업 이슈 재조명...\"로드숍 불공정 운영, 하도급법 위반 및 기...  \n",
       "455942                    '현대家 며느리' 노현정, 故이건희 회장 빈소 찾아 조문  \n",
       "\n",
       "[455943 rows x 3 columns]"
      ]
     },
     "execution_count": 56,
     "metadata": {},
     "output_type": "execute_result"
    }
   ],
   "source": [
    "# df로 만들기\n",
    "df = pd.DataFrame(list(zip(news_list, date_list, title_list)), columns = ['언론사','날짜', '제목'])\n",
    "df"
   ]
  },
  {
   "cell_type": "code",
   "execution_count": 57,
   "id": "c3d2d91c",
   "metadata": {},
   "outputs": [],
   "source": [
    "# csv로 뽑기\n",
    "df.to_csv('2019-03-17~2020-09-17.csv')"
   ]
  },
  {
   "cell_type": "code",
   "execution_count": 58,
   "id": "2120a655",
   "metadata": {},
   "outputs": [],
   "source": [
    "driver.close()"
   ]
  },
  {
   "cell_type": "code",
   "execution_count": null,
   "id": "abfb8952",
   "metadata": {},
   "outputs": [],
   "source": []
  }
 ],
 "metadata": {
  "kernelspec": {
   "display_name": "Python 3.8.13 ('a29')",
   "language": "python",
   "name": "python3"
  },
  "language_info": {
   "codemirror_mode": {
    "name": "ipython",
    "version": 3
   },
   "file_extension": ".py",
   "mimetype": "text/x-python",
   "name": "python",
   "nbconvert_exporter": "python",
   "pygments_lexer": "ipython3",
   "version": "3.8.13"
  },
  "toc": {
   "base_numbering": 1,
   "nav_menu": {},
   "number_sections": false,
   "sideBar": true,
   "skip_h1_title": false,
   "title_cell": "Table of Contents",
   "title_sidebar": "Contents",
   "toc_cell": false,
   "toc_position": {
    "height": "895px",
    "left": "69px",
    "top": "111.141px",
    "width": "165px"
   },
   "toc_section_display": true,
   "toc_window_display": false
  },
  "vscode": {
   "interpreter": {
    "hash": "e3584e0094cc606059de00670c8f2673321413961648b189247649573872e648"
   }
  }
 },
 "nbformat": 4,
 "nbformat_minor": 5
}
